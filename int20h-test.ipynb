{
 "cells": [
  {
   "cell_type": "code",
   "execution_count": 1,
   "metadata": {},
   "outputs": [],
   "source": [
    "import pandas as pd\n",
    "import numpy as np"
   ]
  },
  {
   "cell_type": "code",
   "execution_count": 2,
   "metadata": {},
   "outputs": [
    {
     "data": {
      "text/html": [
       "<div>\n",
       "<style scoped>\n",
       "    .dataframe tbody tr th:only-of-type {\n",
       "        vertical-align: middle;\n",
       "    }\n",
       "\n",
       "    .dataframe tbody tr th {\n",
       "        vertical-align: top;\n",
       "    }\n",
       "\n",
       "    .dataframe thead th {\n",
       "        text-align: right;\n",
       "    }\n",
       "</style>\n",
       "<table border=\"1\" class=\"dataframe\">\n",
       "  <thead>\n",
       "    <tr style=\"text-align: right;\">\n",
       "      <th></th>\n",
       "      <th>user_state</th>\n",
       "      <th>event_name</th>\n",
       "      <th>event_attributes</th>\n",
       "      <th>event_platform</th>\n",
       "      <th>device_manufacture</th>\n",
       "      <th>device_model</th>\n",
       "    </tr>\n",
       "    <tr>\n",
       "      <th>userid</th>\n",
       "      <th></th>\n",
       "      <th></th>\n",
       "      <th></th>\n",
       "      <th></th>\n",
       "      <th></th>\n",
       "      <th></th>\n",
       "    </tr>\n",
       "  </thead>\n",
       "  <tbody>\n",
       "    <tr>\n",
       "      <th>c95c777785faec8dd910d019d7278ebe</th>\n",
       "      <td>CA</td>\n",
       "      <td>Add Vehicle Success</td>\n",
       "      <td>{\"Make\":\"Dodge\",\"Model\":\"Caravan\",\"Color\":\"Whi...</td>\n",
       "      <td>android</td>\n",
       "      <td>samsung</td>\n",
       "      <td>SM-N975U</td>\n",
       "    </tr>\n",
       "    <tr>\n",
       "      <th>c95c777785faec8dd910d019d7278ebe</th>\n",
       "      <td>CA</td>\n",
       "      <td>Add Vehicle Break</td>\n",
       "      <td>{}</td>\n",
       "      <td>android</td>\n",
       "      <td>samsung</td>\n",
       "      <td>SM-N975U</td>\n",
       "    </tr>\n",
       "    <tr>\n",
       "      <th>f344be2d9a042b7444f3cc5279e38ef1</th>\n",
       "      <td>FL</td>\n",
       "      <td>Calculator View</td>\n",
       "      <td>{}</td>\n",
       "      <td>android</td>\n",
       "      <td>samsung</td>\n",
       "      <td>SM-G973U1</td>\n",
       "    </tr>\n",
       "    <tr>\n",
       "      <th>c95c777785faec8dd910d019d7278ebe</th>\n",
       "      <td>CA</td>\n",
       "      <td>Add Payment Method Success</td>\n",
       "      <td>{\"Payment Method\":\"Credit\",\"Tokenized Pay\":\"\"}</td>\n",
       "      <td>android</td>\n",
       "      <td>samsung</td>\n",
       "      <td>SM-N975U</td>\n",
       "    </tr>\n",
       "    <tr>\n",
       "      <th>e331ed81422d8fba55520a43a872e701</th>\n",
       "      <td>IL</td>\n",
       "      <td>Sign Up Success</td>\n",
       "      <td>{\"Method\":\"Apple\"}</td>\n",
       "      <td>ios</td>\n",
       "      <td>Apple</td>\n",
       "      <td>iPhone12,1</td>\n",
       "    </tr>\n",
       "    <tr>\n",
       "      <th>...</th>\n",
       "      <td>...</td>\n",
       "      <td>...</td>\n",
       "      <td>...</td>\n",
       "      <td>...</td>\n",
       "      <td>...</td>\n",
       "      <td>...</td>\n",
       "    </tr>\n",
       "    <tr>\n",
       "      <th>59e61796833e7e9edcb7796fac1688ba</th>\n",
       "      <td>FL</td>\n",
       "      <td>Add Vehicle Success</td>\n",
       "      <td>{\"Year\":\"2015\",\"Model\":\"Hino\",\"Temporary\":\"fal...</td>\n",
       "      <td>ios</td>\n",
       "      <td>Apple</td>\n",
       "      <td>iPhone13,1</td>\n",
       "    </tr>\n",
       "    <tr>\n",
       "      <th>679eba26c4e75e0afb178360becfa21b</th>\n",
       "      <td>CA</td>\n",
       "      <td>Add Payment Method Success</td>\n",
       "      <td>{\"Payment Method\":\"Credit\",\"Tokenized Pay\":\"\",...</td>\n",
       "      <td>android</td>\n",
       "      <td>Google</td>\n",
       "      <td>Pixel 3a</td>\n",
       "    </tr>\n",
       "    <tr>\n",
       "      <th>679eba26c4e75e0afb178360becfa21b</th>\n",
       "      <td>CA</td>\n",
       "      <td>Account Setup Profile Skip</td>\n",
       "      <td>{\"Screen\":\"Address\"}</td>\n",
       "      <td>android</td>\n",
       "      <td>Google</td>\n",
       "      <td>Pixel 3a</td>\n",
       "    </tr>\n",
       "    <tr>\n",
       "      <th>679eba26c4e75e0afb178360becfa21b</th>\n",
       "      <td>CA</td>\n",
       "      <td>Account Setup Profile Skip</td>\n",
       "      <td>{\"Screen\":\"Phone Number\"}</td>\n",
       "      <td>android</td>\n",
       "      <td>Google</td>\n",
       "      <td>Pixel 3a</td>\n",
       "    </tr>\n",
       "    <tr>\n",
       "      <th>679eba26c4e75e0afb178360becfa21b</th>\n",
       "      <td>CA</td>\n",
       "      <td>Chat Conversation Opened</td>\n",
       "      <td>{\"From\":\"Dashboard\",\"Transaction type\":\"\"}</td>\n",
       "      <td>android</td>\n",
       "      <td>Google</td>\n",
       "      <td>Pixel 3a</td>\n",
       "    </tr>\n",
       "  </tbody>\n",
       "</table>\n",
       "<p>8184 rows × 6 columns</p>\n",
       "</div>"
      ],
      "text/plain": [
       "                                 user_state                  event_name  \\\n",
       "userid                                                                    \n",
       "c95c777785faec8dd910d019d7278ebe         CA         Add Vehicle Success   \n",
       "c95c777785faec8dd910d019d7278ebe         CA           Add Vehicle Break   \n",
       "f344be2d9a042b7444f3cc5279e38ef1         FL             Calculator View   \n",
       "c95c777785faec8dd910d019d7278ebe         CA  Add Payment Method Success   \n",
       "e331ed81422d8fba55520a43a872e701         IL             Sign Up Success   \n",
       "...                                     ...                         ...   \n",
       "59e61796833e7e9edcb7796fac1688ba         FL         Add Vehicle Success   \n",
       "679eba26c4e75e0afb178360becfa21b         CA  Add Payment Method Success   \n",
       "679eba26c4e75e0afb178360becfa21b         CA  Account Setup Profile Skip   \n",
       "679eba26c4e75e0afb178360becfa21b         CA  Account Setup Profile Skip   \n",
       "679eba26c4e75e0afb178360becfa21b         CA    Chat Conversation Opened   \n",
       "\n",
       "                                                                   event_attributes  \\\n",
       "userid                                                                                \n",
       "c95c777785faec8dd910d019d7278ebe  {\"Make\":\"Dodge\",\"Model\":\"Caravan\",\"Color\":\"Whi...   \n",
       "c95c777785faec8dd910d019d7278ebe                                                 {}   \n",
       "f344be2d9a042b7444f3cc5279e38ef1                                                 {}   \n",
       "c95c777785faec8dd910d019d7278ebe     {\"Payment Method\":\"Credit\",\"Tokenized Pay\":\"\"}   \n",
       "e331ed81422d8fba55520a43a872e701                                 {\"Method\":\"Apple\"}   \n",
       "...                                                                             ...   \n",
       "59e61796833e7e9edcb7796fac1688ba  {\"Year\":\"2015\",\"Model\":\"Hino\",\"Temporary\":\"fal...   \n",
       "679eba26c4e75e0afb178360becfa21b  {\"Payment Method\":\"Credit\",\"Tokenized Pay\":\"\",...   \n",
       "679eba26c4e75e0afb178360becfa21b                               {\"Screen\":\"Address\"}   \n",
       "679eba26c4e75e0afb178360becfa21b                          {\"Screen\":\"Phone Number\"}   \n",
       "679eba26c4e75e0afb178360becfa21b         {\"From\":\"Dashboard\",\"Transaction type\":\"\"}   \n",
       "\n",
       "                                 event_platform device_manufacture  \\\n",
       "userid                                                               \n",
       "c95c777785faec8dd910d019d7278ebe        android            samsung   \n",
       "c95c777785faec8dd910d019d7278ebe        android            samsung   \n",
       "f344be2d9a042b7444f3cc5279e38ef1        android            samsung   \n",
       "c95c777785faec8dd910d019d7278ebe        android            samsung   \n",
       "e331ed81422d8fba55520a43a872e701            ios              Apple   \n",
       "...                                         ...                ...   \n",
       "59e61796833e7e9edcb7796fac1688ba            ios              Apple   \n",
       "679eba26c4e75e0afb178360becfa21b        android             Google   \n",
       "679eba26c4e75e0afb178360becfa21b        android             Google   \n",
       "679eba26c4e75e0afb178360becfa21b        android             Google   \n",
       "679eba26c4e75e0afb178360becfa21b        android             Google   \n",
       "\n",
       "                                 device_model  \n",
       "userid                                         \n",
       "c95c777785faec8dd910d019d7278ebe     SM-N975U  \n",
       "c95c777785faec8dd910d019d7278ebe     SM-N975U  \n",
       "f344be2d9a042b7444f3cc5279e38ef1    SM-G973U1  \n",
       "c95c777785faec8dd910d019d7278ebe     SM-N975U  \n",
       "e331ed81422d8fba55520a43a872e701   iPhone12,1  \n",
       "...                                       ...  \n",
       "59e61796833e7e9edcb7796fac1688ba   iPhone13,1  \n",
       "679eba26c4e75e0afb178360becfa21b     Pixel 3a  \n",
       "679eba26c4e75e0afb178360becfa21b     Pixel 3a  \n",
       "679eba26c4e75e0afb178360becfa21b     Pixel 3a  \n",
       "679eba26c4e75e0afb178360becfa21b     Pixel 3a  \n",
       "\n",
       "[8184 rows x 6 columns]"
      ]
     },
     "execution_count": 2,
     "metadata": {},
     "output_type": "execute_result"
    }
   ],
   "source": [
    "url = 'https://github.com/Nahorskyi/hackathon_INT20H_test/blob/main/int20h-ds-test-dataset.csv?raw=true'\n",
    "df = pd.read_csv(url)\n",
    "df=df.set_index('userid')\n",
    "df.pop('event_created_date')\n",
    "df=df.drop_duplicates(keep='first')\n",
    "df\n"
   ]
  },
  {
   "cell_type": "code",
   "execution_count": 3,
   "metadata": {},
   "outputs": [
    {
     "data": {
      "text/plain": [
       "array(['Add Vehicle Success', 'Add Vehicle Break', 'Calculator View',\n",
       "       'Add Payment Method Success', 'Sign Up Success',\n",
       "       'Add Payment Method Failed', 'Wallet Opened', 'Transaction Refund',\n",
       "       'Email Confirmation Success', 'Account Setup Skip',\n",
       "       'Subscription Premium', 'Chat Conversation Opened',\n",
       "       'Account Setup Profile Skip',\n",
       "       'Account History Transaction Details', 'Sign Out',\n",
       "       'Chat Conversation Started', 'Order', 'Sign Up Error',\n",
       "       'Subscription Premium Cancel', 'Calculator Used',\n",
       "       'Subscription Premium Renew', 'Add Vehicle Failed',\n",
       "       'Reset Password Set'], dtype=object)"
      ]
     },
     "execution_count": 3,
     "metadata": {},
     "output_type": "execute_result"
    }
   ],
   "source": [
    "#Знаходимо унікальні значення для колонки event_name\n",
    "df.event_name.unique()"
   ]
  },
  {
   "attachments": {},
   "cell_type": "markdown",
   "metadata": {},
   "source": [
    "З умови завдання нам потрібні ці івенти:\n",
    "- Transaction Refund \n",
    "- Order \n",
    "- Account Setup Skip \n",
    "- Signup Success \n",
    "- Add Vehicle Success \n",
    "- Add Vehicle Break\n",
    "- Add Payment Method Sucess \n",
    "- Add Payment Method Failed\n",
    "- Email Confirmation Success\n",
    "- Chat conversation Opened\n",
    "- Sign Out \n",
    "- Account History Transaction Details\n",
    "- Wallet Opened\n",
    "- Subscription Premium \n",
    "- Subscription Premium Cancel\n",
    "- Calculator view "
   ]
  },
  {
   "cell_type": "code",
   "execution_count": 4,
   "metadata": {},
   "outputs": [],
   "source": [
    "# Створюємо датафрейми для кожного івенту з колонки 'event_name' \n",
    "# з його параметрами з колонки 'event_attributes' \n",
    "\n",
    "Transaction_Refund         = df[df['event_name'] == 'Transaction Refund'][['event_attributes']] \n",
    "Transaction_Refund.rename(columns = {'event_attributes': 'Transaction_Refund'}, inplace=True)\n",
    "Transaction_Refund=Transaction_Refund.groupby(by=[\"userid\"]).sum()\n",
    "\n",
    "Order = df[df['event_name'] == 'Order'][['event_attributes']] \n",
    "Order.rename(columns = {'event_attributes':'Order'} , inplace = True ) \n",
    "Order=Order.groupby(by=[\"userid\"]).sum()\n",
    "\n",
    "Account_Setup_Profile_Skip = df[df['event_name'] == 'Account Setup Profile Skip'][['event_attributes']] \n",
    "Account_Setup_Profile_Skip.rename(columns = {'event_attributes': 'Account_Setup_Profile_Skip'}, inplace=True)\n",
    "Account_Setup_Profile_Skip=Account_Setup_Profile_Skip.groupby(by=[\"userid\"]).sum()\n",
    "\n",
    "Sign_Up_Success = df[df['event_name'] == 'Sign Up Success'][['event_attributes']] \n",
    "Sign_Up_Success.rename(columns = {'event_attributes': 'Sign_Up_Success'}, inplace=True)\n",
    "Sign_Up_Success=Sign_Up_Success.groupby(by=[\"userid\"]).sum()\n",
    "\n",
    "Add_Vehicle_Success = df[df['event_name'] == 'Add Vehicle Success'][['event_attributes']] \n",
    "Add_Vehicle_Success.rename(columns = {'event_attributes': 'Add_Vehicle_Success'}, inplace=True) \n",
    "Add_Vehicle_Success=Add_Vehicle_Success.groupby(by=[\"userid\"]).sum()\n",
    "\n",
    "Add_Vehicle_Break  = df[df['event_name'] == 'Add Vehicle Break'][['event_attributes']] \n",
    "Add_Vehicle_Break.rename(columns = {'event_attributes': 'Add_Vehicle_Break'}, inplace=True)\n",
    "Add_Vehicle_Break=Add_Vehicle_Break.groupby(by=[\"userid\"]).sum()\n",
    "\n",
    "Add_Payment_Method_Success = df[df['event_name'] == 'Add Payment Method Success'][['event_attributes']] \n",
    "Add_Payment_Method_Success.rename(columns = {'event_attributes': 'Add_Payment_Method_Success'}, inplace=True) \n",
    "Add_Payment_Method_Success=Add_Payment_Method_Success.groupby(by=[\"userid\"]).sum()\n",
    "\n",
    "Add_Payment_Method_Failed   = df[df['event_name'] == 'Add Payment Method Failed'][['event_attributes']] \n",
    "Add_Payment_Method_Failed.rename(columns = {'event_attributes': 'Add_Payment_Method_Failed'}, inplace=True)\n",
    "Add_Payment_Method_Failed=Add_Payment_Method_Failed.groupby(by=[\"userid\"]).sum()\n",
    "\n",
    "Email_Confirmation_Success = df[df['event_name'] == 'Email Confirmation Success'][['event_attributes']] \n",
    "Email_Confirmation_Success.rename(columns = {'event_attributes': 'Email_Confirmation_Success'}, inplace=True)\n",
    "Email_Confirmation_Success=Email_Confirmation_Success.groupby(by=[\"userid\"]).sum()\n",
    "\n",
    "Chat_Conversation_Opened   = df[df['event_name'] == 'Chat Conversation Opened'][['event_attributes']] \n",
    "Chat_Conversation_Opened.rename(columns = {'event_attributes': 'Chat_Conversation_Opened'}, inplace=True) \n",
    "Chat_Conversation_Opened=Chat_Conversation_Opened.groupby(by=[\"userid\"]).sum()\n",
    "\n",
    "Sign_Out = df[df['event_name'] == 'Sign Out'][['event_attributes']] \n",
    "Sign_Out.rename(columns = {'event_attributes': 'Sign_Out'}, inplace=True)\n",
    "Sign_Out=Sign_Out.groupby(by=[\"userid\"]).sum()\n",
    "\n",
    "Account_History_Transaction_Details = df[df['event_name'] == 'Account History Transaction Details'][['event_attributes']] \n",
    "Account_History_Transaction_Details.rename(columns = {'event_attributes': 'Account_History_Transaction_Details'}, inplace=True) \n",
    "Account_History_Transaction_Details=Account_History_Transaction_Details.groupby(by=[\"userid\"]).sum()\n",
    "\n",
    "Wallet_Opened   = df[df['event_name'] == 'Wallet Opened'][['event_attributes']] \n",
    "Wallet_Opened.rename(columns = {'event_attributes': 'Wallet_Opened'}, inplace=True) \n",
    "Wallet_Opened=Wallet_Opened.groupby(by=[\"userid\"]).sum()\n",
    "\n",
    "Subscription_Premium = df[df['event_name'] == 'Subscription Premium'][['event_attributes']] \n",
    "Subscription_Premium.rename(columns = {'event_attributes': 'Subscription_Premium'}, inplace=True)\n",
    "Subscription_Premium=Subscription_Premium.groupby(by=[\"userid\"]).sum()\n",
    "\n",
    "Subscription_Premium_Cancel   = df[df['event_name'] == 'Subscription Premium Cancel'][['event_attributes']] \n",
    "Subscription_Premium_Cancel.rename(columns = {'event_attributes': 'Subscription_Premium_Cancel'}, inplace=True)\n",
    "Subscription_Premium_Cancel=Subscription_Premium_Cancel.groupby(by=[\"userid\"]).sum()\n",
    "\n",
    "Calculator_View = df[df['event_name'] == 'Calculator View'][['event_attributes']] \n",
    "Calculator_View.rename(columns = {'event_attributes': 'Calculator_View'}, inplace=True)\n",
    "Calculator_View=Calculator_View.groupby(by=[\"userid\"]).sum()"
   ]
  },
  {
   "cell_type": "code",
   "execution_count": 5,
   "metadata": {},
   "outputs": [
    {
     "data": {
      "text/html": [
       "<div>\n",
       "<style scoped>\n",
       "    .dataframe tbody tr th:only-of-type {\n",
       "        vertical-align: middle;\n",
       "    }\n",
       "\n",
       "    .dataframe tbody tr th {\n",
       "        vertical-align: top;\n",
       "    }\n",
       "\n",
       "    .dataframe thead th {\n",
       "        text-align: right;\n",
       "    }\n",
       "</style>\n",
       "<table border=\"1\" class=\"dataframe\">\n",
       "  <thead>\n",
       "    <tr style=\"text-align: right;\">\n",
       "      <th></th>\n",
       "      <th>Sign_Up_Success</th>\n",
       "      <th>Order</th>\n",
       "      <th>Add_Vehicle_Success</th>\n",
       "      <th>Account_History_Transaction_Details</th>\n",
       "      <th>Chat_Conversation_Opened</th>\n",
       "      <th>Wallet_Opened</th>\n",
       "      <th>Add_Payment_Method_Success</th>\n",
       "      <th>Email_Confirmation_Success</th>\n",
       "      <th>Subscription_Premium</th>\n",
       "      <th>Calculator_View</th>\n",
       "      <th>Sign_Out</th>\n",
       "      <th>Account_Setup_Profile_Skip</th>\n",
       "      <th>Add_Vehicle_Break</th>\n",
       "      <th>Add_Payment_Method_Failed</th>\n",
       "      <th>Transaction_Refund</th>\n",
       "      <th>Subscription_Premium_Cancel</th>\n",
       "    </tr>\n",
       "    <tr>\n",
       "      <th>userid</th>\n",
       "      <th></th>\n",
       "      <th></th>\n",
       "      <th></th>\n",
       "      <th></th>\n",
       "      <th></th>\n",
       "      <th></th>\n",
       "      <th></th>\n",
       "      <th></th>\n",
       "      <th></th>\n",
       "      <th></th>\n",
       "      <th></th>\n",
       "      <th></th>\n",
       "      <th></th>\n",
       "      <th></th>\n",
       "      <th></th>\n",
       "      <th></th>\n",
       "    </tr>\n",
       "  </thead>\n",
       "  <tbody>\n",
       "    <tr>\n",
       "      <th>001244c572f1a681553bc045a378cacf</th>\n",
       "      <td>{\"Method\":\"Google\"}</td>\n",
       "      <td>NaN</td>\n",
       "      <td>NaN</td>\n",
       "      <td>NaN</td>\n",
       "      <td>NaN</td>\n",
       "      <td>NaN</td>\n",
       "      <td>NaN</td>\n",
       "      <td>NaN</td>\n",
       "      <td>NaN</td>\n",
       "      <td>NaN</td>\n",
       "      <td>NaN</td>\n",
       "      <td>NaN</td>\n",
       "      <td>NaN</td>\n",
       "      <td>NaN</td>\n",
       "      <td>NaN</td>\n",
       "      <td>NaN</td>\n",
       "    </tr>\n",
       "    <tr>\n",
       "      <th>00596aa4edee32815aaf4aad659c484e</th>\n",
       "      <td>{\"Method\":\"Google\"}</td>\n",
       "      <td>NaN</td>\n",
       "      <td>{\"Make\":\"Chrysler\",\"Model\":\"300\",\"Color\":\"Silv...</td>\n",
       "      <td>NaN</td>\n",
       "      <td>NaN</td>\n",
       "      <td>NaN</td>\n",
       "      <td>{\"Payment Method\":\"PayPal\",\"Tokenized Pay\":\"\"}</td>\n",
       "      <td>NaN</td>\n",
       "      <td>{\"Start Date\":\"2022-02-16\",\"Renewal Date\":\"202...</td>\n",
       "      <td>NaN</td>\n",
       "      <td>NaN</td>\n",
       "      <td>NaN</td>\n",
       "      <td>NaN</td>\n",
       "      <td>NaN</td>\n",
       "      <td>NaN</td>\n",
       "      <td>NaN</td>\n",
       "    </tr>\n",
       "    <tr>\n",
       "      <th>0079e6902320d6771024a236ab801f2e</th>\n",
       "      <td>{\"Method\":\"Google\"}</td>\n",
       "      <td>NaN</td>\n",
       "      <td>NaN</td>\n",
       "      <td>NaN</td>\n",
       "      <td>NaN</td>\n",
       "      <td>NaN</td>\n",
       "      <td>NaN</td>\n",
       "      <td>NaN</td>\n",
       "      <td>NaN</td>\n",
       "      <td>NaN</td>\n",
       "      <td>{\"Type\":\"Manual\"}</td>\n",
       "      <td>NaN</td>\n",
       "      <td>NaN</td>\n",
       "      <td>NaN</td>\n",
       "      <td>NaN</td>\n",
       "      <td>NaN</td>\n",
       "    </tr>\n",
       "    <tr>\n",
       "      <th>008dcdca320fbd55c289dd1f6d21d672</th>\n",
       "      <td>{\"Method\":\"Google\"}</td>\n",
       "      <td>NaN</td>\n",
       "      <td>{\"Year\":\"2016\",\"Model\":\"Mustang\",\"Temporary\":\"...</td>\n",
       "      <td>NaN</td>\n",
       "      <td>NaN</td>\n",
       "      <td>{}</td>\n",
       "      <td>NaN</td>\n",
       "      <td>NaN</td>\n",
       "      <td>NaN</td>\n",
       "      <td>{}</td>\n",
       "      <td>NaN</td>\n",
       "      <td>NaN</td>\n",
       "      <td>{}</td>\n",
       "      <td>NaN</td>\n",
       "      <td>NaN</td>\n",
       "      <td>NaN</td>\n",
       "    </tr>\n",
       "    <tr>\n",
       "      <th>00db2bff1ee57b9d389312209bd40b4f</th>\n",
       "      <td>{\"Method\":\"Google\"}</td>\n",
       "      <td>NaN</td>\n",
       "      <td>NaN</td>\n",
       "      <td>NaN</td>\n",
       "      <td>NaN</td>\n",
       "      <td>NaN</td>\n",
       "      <td>NaN</td>\n",
       "      <td>NaN</td>\n",
       "      <td>NaN</td>\n",
       "      <td>NaN</td>\n",
       "      <td>NaN</td>\n",
       "      <td>NaN</td>\n",
       "      <td>NaN</td>\n",
       "      <td>NaN</td>\n",
       "      <td>NaN</td>\n",
       "      <td>NaN</td>\n",
       "    </tr>\n",
       "    <tr>\n",
       "      <th>...</th>\n",
       "      <td>...</td>\n",
       "      <td>...</td>\n",
       "      <td>...</td>\n",
       "      <td>...</td>\n",
       "      <td>...</td>\n",
       "      <td>...</td>\n",
       "      <td>...</td>\n",
       "      <td>...</td>\n",
       "      <td>...</td>\n",
       "      <td>...</td>\n",
       "      <td>...</td>\n",
       "      <td>...</td>\n",
       "      <td>...</td>\n",
       "      <td>...</td>\n",
       "      <td>...</td>\n",
       "      <td>...</td>\n",
       "    </tr>\n",
       "    <tr>\n",
       "      <th>21f7387a93418b77d33bfa56dcc0e3a9</th>\n",
       "      <td>NaN</td>\n",
       "      <td>NaN</td>\n",
       "      <td>NaN</td>\n",
       "      <td>NaN</td>\n",
       "      <td>NaN</td>\n",
       "      <td>NaN</td>\n",
       "      <td>NaN</td>\n",
       "      <td>NaN</td>\n",
       "      <td>NaN</td>\n",
       "      <td>NaN</td>\n",
       "      <td>NaN</td>\n",
       "      <td>NaN</td>\n",
       "      <td>NaN</td>\n",
       "      <td>{\"Error Code\":\"ERROR-16010\",\"Error Message\":\"C...</td>\n",
       "      <td>NaN</td>\n",
       "      <td>NaN</td>\n",
       "    </tr>\n",
       "    <tr>\n",
       "      <th>b54bc83dfcefe27e4318c7dd0dab1f0a</th>\n",
       "      <td>NaN</td>\n",
       "      <td>NaN</td>\n",
       "      <td>NaN</td>\n",
       "      <td>NaN</td>\n",
       "      <td>NaN</td>\n",
       "      <td>NaN</td>\n",
       "      <td>NaN</td>\n",
       "      <td>NaN</td>\n",
       "      <td>NaN</td>\n",
       "      <td>NaN</td>\n",
       "      <td>NaN</td>\n",
       "      <td>NaN</td>\n",
       "      <td>NaN</td>\n",
       "      <td>{\"Error Message\":\"Card is debit but credit is ...</td>\n",
       "      <td>NaN</td>\n",
       "      <td>NaN</td>\n",
       "    </tr>\n",
       "    <tr>\n",
       "      <th>c54556dbb037662501bf2f938e6c9fd4</th>\n",
       "      <td>NaN</td>\n",
       "      <td>NaN</td>\n",
       "      <td>NaN</td>\n",
       "      <td>NaN</td>\n",
       "      <td>NaN</td>\n",
       "      <td>NaN</td>\n",
       "      <td>NaN</td>\n",
       "      <td>NaN</td>\n",
       "      <td>NaN</td>\n",
       "      <td>NaN</td>\n",
       "      <td>NaN</td>\n",
       "      <td>NaN</td>\n",
       "      <td>NaN</td>\n",
       "      <td>NaN</td>\n",
       "      <td>{\"Id\":\"3064c45c1a47fcc774ff2d3071dd9f08\",\"Amou...</td>\n",
       "      <td>{}</td>\n",
       "    </tr>\n",
       "    <tr>\n",
       "      <th>c664cc762bdcb88230b4b4f07e3b7d2e</th>\n",
       "      <td>NaN</td>\n",
       "      <td>NaN</td>\n",
       "      <td>NaN</td>\n",
       "      <td>NaN</td>\n",
       "      <td>NaN</td>\n",
       "      <td>NaN</td>\n",
       "      <td>NaN</td>\n",
       "      <td>NaN</td>\n",
       "      <td>NaN</td>\n",
       "      <td>NaN</td>\n",
       "      <td>NaN</td>\n",
       "      <td>NaN</td>\n",
       "      <td>NaN</td>\n",
       "      <td>NaN</td>\n",
       "      <td>{\"Id\":\"708ee8f2012042b121be7dcdd6df256a\",\"Amou...</td>\n",
       "      <td>NaN</td>\n",
       "    </tr>\n",
       "    <tr>\n",
       "      <th>bb35dd1dfe0fcead9f5c5b0b3b9829dd</th>\n",
       "      <td>NaN</td>\n",
       "      <td>NaN</td>\n",
       "      <td>NaN</td>\n",
       "      <td>NaN</td>\n",
       "      <td>NaN</td>\n",
       "      <td>NaN</td>\n",
       "      <td>NaN</td>\n",
       "      <td>NaN</td>\n",
       "      <td>NaN</td>\n",
       "      <td>NaN</td>\n",
       "      <td>NaN</td>\n",
       "      <td>NaN</td>\n",
       "      <td>NaN</td>\n",
       "      <td>NaN</td>\n",
       "      <td>NaN</td>\n",
       "      <td>{}</td>\n",
       "    </tr>\n",
       "  </tbody>\n",
       "</table>\n",
       "<p>2783 rows × 16 columns</p>\n",
       "</div>"
      ],
      "text/plain": [
       "                                      Sign_Up_Success Order  \\\n",
       "userid                                                        \n",
       "001244c572f1a681553bc045a378cacf  {\"Method\":\"Google\"}   NaN   \n",
       "00596aa4edee32815aaf4aad659c484e  {\"Method\":\"Google\"}   NaN   \n",
       "0079e6902320d6771024a236ab801f2e  {\"Method\":\"Google\"}   NaN   \n",
       "008dcdca320fbd55c289dd1f6d21d672  {\"Method\":\"Google\"}   NaN   \n",
       "00db2bff1ee57b9d389312209bd40b4f  {\"Method\":\"Google\"}   NaN   \n",
       "...                                               ...   ...   \n",
       "21f7387a93418b77d33bfa56dcc0e3a9                  NaN   NaN   \n",
       "b54bc83dfcefe27e4318c7dd0dab1f0a                  NaN   NaN   \n",
       "c54556dbb037662501bf2f938e6c9fd4                  NaN   NaN   \n",
       "c664cc762bdcb88230b4b4f07e3b7d2e                  NaN   NaN   \n",
       "bb35dd1dfe0fcead9f5c5b0b3b9829dd                  NaN   NaN   \n",
       "\n",
       "                                                                Add_Vehicle_Success  \\\n",
       "userid                                                                                \n",
       "001244c572f1a681553bc045a378cacf                                                NaN   \n",
       "00596aa4edee32815aaf4aad659c484e  {\"Make\":\"Chrysler\",\"Model\":\"300\",\"Color\":\"Silv...   \n",
       "0079e6902320d6771024a236ab801f2e                                                NaN   \n",
       "008dcdca320fbd55c289dd1f6d21d672  {\"Year\":\"2016\",\"Model\":\"Mustang\",\"Temporary\":\"...   \n",
       "00db2bff1ee57b9d389312209bd40b4f                                                NaN   \n",
       "...                                                                             ...   \n",
       "21f7387a93418b77d33bfa56dcc0e3a9                                                NaN   \n",
       "b54bc83dfcefe27e4318c7dd0dab1f0a                                                NaN   \n",
       "c54556dbb037662501bf2f938e6c9fd4                                                NaN   \n",
       "c664cc762bdcb88230b4b4f07e3b7d2e                                                NaN   \n",
       "bb35dd1dfe0fcead9f5c5b0b3b9829dd                                                NaN   \n",
       "\n",
       "                                 Account_History_Transaction_Details  \\\n",
       "userid                                                                 \n",
       "001244c572f1a681553bc045a378cacf                                 NaN   \n",
       "00596aa4edee32815aaf4aad659c484e                                 NaN   \n",
       "0079e6902320d6771024a236ab801f2e                                 NaN   \n",
       "008dcdca320fbd55c289dd1f6d21d672                                 NaN   \n",
       "00db2bff1ee57b9d389312209bd40b4f                                 NaN   \n",
       "...                                                              ...   \n",
       "21f7387a93418b77d33bfa56dcc0e3a9                                 NaN   \n",
       "b54bc83dfcefe27e4318c7dd0dab1f0a                                 NaN   \n",
       "c54556dbb037662501bf2f938e6c9fd4                                 NaN   \n",
       "c664cc762bdcb88230b4b4f07e3b7d2e                                 NaN   \n",
       "bb35dd1dfe0fcead9f5c5b0b3b9829dd                                 NaN   \n",
       "\n",
       "                                 Chat_Conversation_Opened Wallet_Opened  \\\n",
       "userid                                                                    \n",
       "001244c572f1a681553bc045a378cacf                      NaN           NaN   \n",
       "00596aa4edee32815aaf4aad659c484e                      NaN           NaN   \n",
       "0079e6902320d6771024a236ab801f2e                      NaN           NaN   \n",
       "008dcdca320fbd55c289dd1f6d21d672                      NaN            {}   \n",
       "00db2bff1ee57b9d389312209bd40b4f                      NaN           NaN   \n",
       "...                                                   ...           ...   \n",
       "21f7387a93418b77d33bfa56dcc0e3a9                      NaN           NaN   \n",
       "b54bc83dfcefe27e4318c7dd0dab1f0a                      NaN           NaN   \n",
       "c54556dbb037662501bf2f938e6c9fd4                      NaN           NaN   \n",
       "c664cc762bdcb88230b4b4f07e3b7d2e                      NaN           NaN   \n",
       "bb35dd1dfe0fcead9f5c5b0b3b9829dd                      NaN           NaN   \n",
       "\n",
       "                                                      Add_Payment_Method_Success  \\\n",
       "userid                                                                             \n",
       "001244c572f1a681553bc045a378cacf                                             NaN   \n",
       "00596aa4edee32815aaf4aad659c484e  {\"Payment Method\":\"PayPal\",\"Tokenized Pay\":\"\"}   \n",
       "0079e6902320d6771024a236ab801f2e                                             NaN   \n",
       "008dcdca320fbd55c289dd1f6d21d672                                             NaN   \n",
       "00db2bff1ee57b9d389312209bd40b4f                                             NaN   \n",
       "...                                                                          ...   \n",
       "21f7387a93418b77d33bfa56dcc0e3a9                                             NaN   \n",
       "b54bc83dfcefe27e4318c7dd0dab1f0a                                             NaN   \n",
       "c54556dbb037662501bf2f938e6c9fd4                                             NaN   \n",
       "c664cc762bdcb88230b4b4f07e3b7d2e                                             NaN   \n",
       "bb35dd1dfe0fcead9f5c5b0b3b9829dd                                             NaN   \n",
       "\n",
       "                                 Email_Confirmation_Success  \\\n",
       "userid                                                        \n",
       "001244c572f1a681553bc045a378cacf                        NaN   \n",
       "00596aa4edee32815aaf4aad659c484e                        NaN   \n",
       "0079e6902320d6771024a236ab801f2e                        NaN   \n",
       "008dcdca320fbd55c289dd1f6d21d672                        NaN   \n",
       "00db2bff1ee57b9d389312209bd40b4f                        NaN   \n",
       "...                                                     ...   \n",
       "21f7387a93418b77d33bfa56dcc0e3a9                        NaN   \n",
       "b54bc83dfcefe27e4318c7dd0dab1f0a                        NaN   \n",
       "c54556dbb037662501bf2f938e6c9fd4                        NaN   \n",
       "c664cc762bdcb88230b4b4f07e3b7d2e                        NaN   \n",
       "bb35dd1dfe0fcead9f5c5b0b3b9829dd                        NaN   \n",
       "\n",
       "                                                               Subscription_Premium  \\\n",
       "userid                                                                                \n",
       "001244c572f1a681553bc045a378cacf                                                NaN   \n",
       "00596aa4edee32815aaf4aad659c484e  {\"Start Date\":\"2022-02-16\",\"Renewal Date\":\"202...   \n",
       "0079e6902320d6771024a236ab801f2e                                                NaN   \n",
       "008dcdca320fbd55c289dd1f6d21d672                                                NaN   \n",
       "00db2bff1ee57b9d389312209bd40b4f                                                NaN   \n",
       "...                                                                             ...   \n",
       "21f7387a93418b77d33bfa56dcc0e3a9                                                NaN   \n",
       "b54bc83dfcefe27e4318c7dd0dab1f0a                                                NaN   \n",
       "c54556dbb037662501bf2f938e6c9fd4                                                NaN   \n",
       "c664cc762bdcb88230b4b4f07e3b7d2e                                                NaN   \n",
       "bb35dd1dfe0fcead9f5c5b0b3b9829dd                                                NaN   \n",
       "\n",
       "                                 Calculator_View           Sign_Out  \\\n",
       "userid                                                                \n",
       "001244c572f1a681553bc045a378cacf             NaN                NaN   \n",
       "00596aa4edee32815aaf4aad659c484e             NaN                NaN   \n",
       "0079e6902320d6771024a236ab801f2e             NaN  {\"Type\":\"Manual\"}   \n",
       "008dcdca320fbd55c289dd1f6d21d672              {}                NaN   \n",
       "00db2bff1ee57b9d389312209bd40b4f             NaN                NaN   \n",
       "...                                          ...                ...   \n",
       "21f7387a93418b77d33bfa56dcc0e3a9             NaN                NaN   \n",
       "b54bc83dfcefe27e4318c7dd0dab1f0a             NaN                NaN   \n",
       "c54556dbb037662501bf2f938e6c9fd4             NaN                NaN   \n",
       "c664cc762bdcb88230b4b4f07e3b7d2e             NaN                NaN   \n",
       "bb35dd1dfe0fcead9f5c5b0b3b9829dd             NaN                NaN   \n",
       "\n",
       "                                 Account_Setup_Profile_Skip Add_Vehicle_Break  \\\n",
       "userid                                                                          \n",
       "001244c572f1a681553bc045a378cacf                        NaN               NaN   \n",
       "00596aa4edee32815aaf4aad659c484e                        NaN               NaN   \n",
       "0079e6902320d6771024a236ab801f2e                        NaN               NaN   \n",
       "008dcdca320fbd55c289dd1f6d21d672                        NaN                {}   \n",
       "00db2bff1ee57b9d389312209bd40b4f                        NaN               NaN   \n",
       "...                                                     ...               ...   \n",
       "21f7387a93418b77d33bfa56dcc0e3a9                        NaN               NaN   \n",
       "b54bc83dfcefe27e4318c7dd0dab1f0a                        NaN               NaN   \n",
       "c54556dbb037662501bf2f938e6c9fd4                        NaN               NaN   \n",
       "c664cc762bdcb88230b4b4f07e3b7d2e                        NaN               NaN   \n",
       "bb35dd1dfe0fcead9f5c5b0b3b9829dd                        NaN               NaN   \n",
       "\n",
       "                                                          Add_Payment_Method_Failed  \\\n",
       "userid                                                                                \n",
       "001244c572f1a681553bc045a378cacf                                                NaN   \n",
       "00596aa4edee32815aaf4aad659c484e                                                NaN   \n",
       "0079e6902320d6771024a236ab801f2e                                                NaN   \n",
       "008dcdca320fbd55c289dd1f6d21d672                                                NaN   \n",
       "00db2bff1ee57b9d389312209bd40b4f                                                NaN   \n",
       "...                                                                             ...   \n",
       "21f7387a93418b77d33bfa56dcc0e3a9  {\"Error Code\":\"ERROR-16010\",\"Error Message\":\"C...   \n",
       "b54bc83dfcefe27e4318c7dd0dab1f0a  {\"Error Message\":\"Card is debit but credit is ...   \n",
       "c54556dbb037662501bf2f938e6c9fd4                                                NaN   \n",
       "c664cc762bdcb88230b4b4f07e3b7d2e                                                NaN   \n",
       "bb35dd1dfe0fcead9f5c5b0b3b9829dd                                                NaN   \n",
       "\n",
       "                                                                 Transaction_Refund  \\\n",
       "userid                                                                                \n",
       "001244c572f1a681553bc045a378cacf                                                NaN   \n",
       "00596aa4edee32815aaf4aad659c484e                                                NaN   \n",
       "0079e6902320d6771024a236ab801f2e                                                NaN   \n",
       "008dcdca320fbd55c289dd1f6d21d672                                                NaN   \n",
       "00db2bff1ee57b9d389312209bd40b4f                                                NaN   \n",
       "...                                                                             ...   \n",
       "21f7387a93418b77d33bfa56dcc0e3a9                                                NaN   \n",
       "b54bc83dfcefe27e4318c7dd0dab1f0a                                                NaN   \n",
       "c54556dbb037662501bf2f938e6c9fd4  {\"Id\":\"3064c45c1a47fcc774ff2d3071dd9f08\",\"Amou...   \n",
       "c664cc762bdcb88230b4b4f07e3b7d2e  {\"Id\":\"708ee8f2012042b121be7dcdd6df256a\",\"Amou...   \n",
       "bb35dd1dfe0fcead9f5c5b0b3b9829dd                                                NaN   \n",
       "\n",
       "                                 Subscription_Premium_Cancel  \n",
       "userid                                                        \n",
       "001244c572f1a681553bc045a378cacf                         NaN  \n",
       "00596aa4edee32815aaf4aad659c484e                         NaN  \n",
       "0079e6902320d6771024a236ab801f2e                         NaN  \n",
       "008dcdca320fbd55c289dd1f6d21d672                         NaN  \n",
       "00db2bff1ee57b9d389312209bd40b4f                         NaN  \n",
       "...                                                      ...  \n",
       "21f7387a93418b77d33bfa56dcc0e3a9                         NaN  \n",
       "b54bc83dfcefe27e4318c7dd0dab1f0a                         NaN  \n",
       "c54556dbb037662501bf2f938e6c9fd4                          {}  \n",
       "c664cc762bdcb88230b4b4f07e3b7d2e                         NaN  \n",
       "bb35dd1dfe0fcead9f5c5b0b3b9829dd                          {}  \n",
       "\n",
       "[2783 rows x 16 columns]"
      ]
     },
     "execution_count": 5,
     "metadata": {},
     "output_type": "execute_result"
    }
   ],
   "source": [
    "# Конкатенуємо датафрейми в один великий \n",
    "res = pd.concat([Sign_Up_Success,Order, Add_Vehicle_Success,Account_History_Transaction_Details, Chat_Conversation_Opened, Wallet_Opened, Add_Payment_Method_Success, Email_Confirmation_Success, Subscription_Premium, Calculator_View, Sign_Out, Account_Setup_Profile_Skip, Add_Vehicle_Break, Add_Payment_Method_Failed,  Transaction_Refund,Subscription_Premium_Cancel], axis=1, join='outer')\n",
    "res"
   ]
  },
  {
   "cell_type": "code",
   "execution_count": 6,
   "metadata": {},
   "outputs": [
    {
     "data": {
      "text/html": [
       "<div>\n",
       "<style scoped>\n",
       "    .dataframe tbody tr th:only-of-type {\n",
       "        vertical-align: middle;\n",
       "    }\n",
       "\n",
       "    .dataframe tbody tr th {\n",
       "        vertical-align: top;\n",
       "    }\n",
       "\n",
       "    .dataframe thead th {\n",
       "        text-align: right;\n",
       "    }\n",
       "</style>\n",
       "<table border=\"1\" class=\"dataframe\">\n",
       "  <thead>\n",
       "    <tr style=\"text-align: right;\">\n",
       "      <th></th>\n",
       "      <th>Sign_Up_Success</th>\n",
       "      <th>Order</th>\n",
       "      <th>Add_Vehicle_Success</th>\n",
       "      <th>Account_History_Transaction_Details</th>\n",
       "      <th>Chat_Conversation_Opened</th>\n",
       "      <th>Wallet_Opened</th>\n",
       "      <th>Add_Payment_Method_Success</th>\n",
       "      <th>Email_Confirmation_Success</th>\n",
       "      <th>Subscription_Premium</th>\n",
       "      <th>Calculator_View</th>\n",
       "      <th>Sign_Out</th>\n",
       "      <th>Account_Setup_Profile_Skip</th>\n",
       "      <th>Add_Vehicle_Break</th>\n",
       "      <th>Add_Payment_Method_Failed</th>\n",
       "      <th>Transaction_Refund</th>\n",
       "      <th>Subscription_Premium_Cancel</th>\n",
       "    </tr>\n",
       "    <tr>\n",
       "      <th>userid</th>\n",
       "      <th></th>\n",
       "      <th></th>\n",
       "      <th></th>\n",
       "      <th></th>\n",
       "      <th></th>\n",
       "      <th></th>\n",
       "      <th></th>\n",
       "      <th></th>\n",
       "      <th></th>\n",
       "      <th></th>\n",
       "      <th></th>\n",
       "      <th></th>\n",
       "      <th></th>\n",
       "      <th></th>\n",
       "      <th></th>\n",
       "      <th></th>\n",
       "    </tr>\n",
       "  </thead>\n",
       "  <tbody>\n",
       "    <tr>\n",
       "      <th>001244c572f1a681553bc045a378cacf</th>\n",
       "      <td>{\"Method\":\"Google\"}</td>\n",
       "      <td>0</td>\n",
       "      <td>0</td>\n",
       "      <td>0</td>\n",
       "      <td>0</td>\n",
       "      <td>0</td>\n",
       "      <td>0</td>\n",
       "      <td>0</td>\n",
       "      <td>0</td>\n",
       "      <td>0</td>\n",
       "      <td>0</td>\n",
       "      <td>0</td>\n",
       "      <td>0</td>\n",
       "      <td>0</td>\n",
       "      <td>0</td>\n",
       "      <td>0</td>\n",
       "    </tr>\n",
       "    <tr>\n",
       "      <th>00596aa4edee32815aaf4aad659c484e</th>\n",
       "      <td>{\"Method\":\"Google\"}</td>\n",
       "      <td>0</td>\n",
       "      <td>{\"Make\":\"Chrysler\",\"Model\":\"300\",\"Color\":\"Silv...</td>\n",
       "      <td>0</td>\n",
       "      <td>0</td>\n",
       "      <td>0</td>\n",
       "      <td>{\"Payment Method\":\"PayPal\",\"Tokenized Pay\":\"\"}</td>\n",
       "      <td>0</td>\n",
       "      <td>{\"Start Date\":\"2022-02-16\",\"Renewal Date\":\"202...</td>\n",
       "      <td>0</td>\n",
       "      <td>0</td>\n",
       "      <td>0</td>\n",
       "      <td>0</td>\n",
       "      <td>0</td>\n",
       "      <td>0</td>\n",
       "      <td>0</td>\n",
       "    </tr>\n",
       "    <tr>\n",
       "      <th>0079e6902320d6771024a236ab801f2e</th>\n",
       "      <td>{\"Method\":\"Google\"}</td>\n",
       "      <td>0</td>\n",
       "      <td>0</td>\n",
       "      <td>0</td>\n",
       "      <td>0</td>\n",
       "      <td>0</td>\n",
       "      <td>0</td>\n",
       "      <td>0</td>\n",
       "      <td>0</td>\n",
       "      <td>0</td>\n",
       "      <td>{\"Type\":\"Manual\"}</td>\n",
       "      <td>0</td>\n",
       "      <td>0</td>\n",
       "      <td>0</td>\n",
       "      <td>0</td>\n",
       "      <td>0</td>\n",
       "    </tr>\n",
       "    <tr>\n",
       "      <th>008dcdca320fbd55c289dd1f6d21d672</th>\n",
       "      <td>{\"Method\":\"Google\"}</td>\n",
       "      <td>0</td>\n",
       "      <td>{\"Year\":\"2016\",\"Model\":\"Mustang\",\"Temporary\":\"...</td>\n",
       "      <td>0</td>\n",
       "      <td>0</td>\n",
       "      <td>1</td>\n",
       "      <td>0</td>\n",
       "      <td>0</td>\n",
       "      <td>0</td>\n",
       "      <td>1</td>\n",
       "      <td>0</td>\n",
       "      <td>0</td>\n",
       "      <td>1</td>\n",
       "      <td>0</td>\n",
       "      <td>0</td>\n",
       "      <td>0</td>\n",
       "    </tr>\n",
       "    <tr>\n",
       "      <th>00db2bff1ee57b9d389312209bd40b4f</th>\n",
       "      <td>{\"Method\":\"Google\"}</td>\n",
       "      <td>0</td>\n",
       "      <td>0</td>\n",
       "      <td>0</td>\n",
       "      <td>0</td>\n",
       "      <td>0</td>\n",
       "      <td>0</td>\n",
       "      <td>0</td>\n",
       "      <td>0</td>\n",
       "      <td>0</td>\n",
       "      <td>0</td>\n",
       "      <td>0</td>\n",
       "      <td>0</td>\n",
       "      <td>0</td>\n",
       "      <td>0</td>\n",
       "      <td>0</td>\n",
       "    </tr>\n",
       "    <tr>\n",
       "      <th>...</th>\n",
       "      <td>...</td>\n",
       "      <td>...</td>\n",
       "      <td>...</td>\n",
       "      <td>...</td>\n",
       "      <td>...</td>\n",
       "      <td>...</td>\n",
       "      <td>...</td>\n",
       "      <td>...</td>\n",
       "      <td>...</td>\n",
       "      <td>...</td>\n",
       "      <td>...</td>\n",
       "      <td>...</td>\n",
       "      <td>...</td>\n",
       "      <td>...</td>\n",
       "      <td>...</td>\n",
       "      <td>...</td>\n",
       "    </tr>\n",
       "    <tr>\n",
       "      <th>21f7387a93418b77d33bfa56dcc0e3a9</th>\n",
       "      <td>0</td>\n",
       "      <td>0</td>\n",
       "      <td>0</td>\n",
       "      <td>0</td>\n",
       "      <td>0</td>\n",
       "      <td>0</td>\n",
       "      <td>0</td>\n",
       "      <td>0</td>\n",
       "      <td>0</td>\n",
       "      <td>0</td>\n",
       "      <td>0</td>\n",
       "      <td>0</td>\n",
       "      <td>0</td>\n",
       "      <td>{\"Error Code\":\"ERROR-16010\",\"Error Message\":\"C...</td>\n",
       "      <td>0</td>\n",
       "      <td>0</td>\n",
       "    </tr>\n",
       "    <tr>\n",
       "      <th>b54bc83dfcefe27e4318c7dd0dab1f0a</th>\n",
       "      <td>0</td>\n",
       "      <td>0</td>\n",
       "      <td>0</td>\n",
       "      <td>0</td>\n",
       "      <td>0</td>\n",
       "      <td>0</td>\n",
       "      <td>0</td>\n",
       "      <td>0</td>\n",
       "      <td>0</td>\n",
       "      <td>0</td>\n",
       "      <td>0</td>\n",
       "      <td>0</td>\n",
       "      <td>0</td>\n",
       "      <td>{\"Error Message\":\"Card is debit but credit is ...</td>\n",
       "      <td>0</td>\n",
       "      <td>0</td>\n",
       "    </tr>\n",
       "    <tr>\n",
       "      <th>c54556dbb037662501bf2f938e6c9fd4</th>\n",
       "      <td>0</td>\n",
       "      <td>0</td>\n",
       "      <td>0</td>\n",
       "      <td>0</td>\n",
       "      <td>0</td>\n",
       "      <td>0</td>\n",
       "      <td>0</td>\n",
       "      <td>0</td>\n",
       "      <td>0</td>\n",
       "      <td>0</td>\n",
       "      <td>0</td>\n",
       "      <td>0</td>\n",
       "      <td>0</td>\n",
       "      <td>0</td>\n",
       "      <td>{\"Id\":\"3064c45c1a47fcc774ff2d3071dd9f08\",\"Amou...</td>\n",
       "      <td>1</td>\n",
       "    </tr>\n",
       "    <tr>\n",
       "      <th>c664cc762bdcb88230b4b4f07e3b7d2e</th>\n",
       "      <td>0</td>\n",
       "      <td>0</td>\n",
       "      <td>0</td>\n",
       "      <td>0</td>\n",
       "      <td>0</td>\n",
       "      <td>0</td>\n",
       "      <td>0</td>\n",
       "      <td>0</td>\n",
       "      <td>0</td>\n",
       "      <td>0</td>\n",
       "      <td>0</td>\n",
       "      <td>0</td>\n",
       "      <td>0</td>\n",
       "      <td>0</td>\n",
       "      <td>{\"Id\":\"708ee8f2012042b121be7dcdd6df256a\",\"Amou...</td>\n",
       "      <td>0</td>\n",
       "    </tr>\n",
       "    <tr>\n",
       "      <th>bb35dd1dfe0fcead9f5c5b0b3b9829dd</th>\n",
       "      <td>0</td>\n",
       "      <td>0</td>\n",
       "      <td>0</td>\n",
       "      <td>0</td>\n",
       "      <td>0</td>\n",
       "      <td>0</td>\n",
       "      <td>0</td>\n",
       "      <td>0</td>\n",
       "      <td>0</td>\n",
       "      <td>0</td>\n",
       "      <td>0</td>\n",
       "      <td>0</td>\n",
       "      <td>0</td>\n",
       "      <td>0</td>\n",
       "      <td>0</td>\n",
       "      <td>1</td>\n",
       "    </tr>\n",
       "  </tbody>\n",
       "</table>\n",
       "<p>2783 rows × 16 columns</p>\n",
       "</div>"
      ],
      "text/plain": [
       "                                      Sign_Up_Success Order  \\\n",
       "userid                                                        \n",
       "001244c572f1a681553bc045a378cacf  {\"Method\":\"Google\"}     0   \n",
       "00596aa4edee32815aaf4aad659c484e  {\"Method\":\"Google\"}     0   \n",
       "0079e6902320d6771024a236ab801f2e  {\"Method\":\"Google\"}     0   \n",
       "008dcdca320fbd55c289dd1f6d21d672  {\"Method\":\"Google\"}     0   \n",
       "00db2bff1ee57b9d389312209bd40b4f  {\"Method\":\"Google\"}     0   \n",
       "...                                               ...   ...   \n",
       "21f7387a93418b77d33bfa56dcc0e3a9                    0     0   \n",
       "b54bc83dfcefe27e4318c7dd0dab1f0a                    0     0   \n",
       "c54556dbb037662501bf2f938e6c9fd4                    0     0   \n",
       "c664cc762bdcb88230b4b4f07e3b7d2e                    0     0   \n",
       "bb35dd1dfe0fcead9f5c5b0b3b9829dd                    0     0   \n",
       "\n",
       "                                                                Add_Vehicle_Success  \\\n",
       "userid                                                                                \n",
       "001244c572f1a681553bc045a378cacf                                                  0   \n",
       "00596aa4edee32815aaf4aad659c484e  {\"Make\":\"Chrysler\",\"Model\":\"300\",\"Color\":\"Silv...   \n",
       "0079e6902320d6771024a236ab801f2e                                                  0   \n",
       "008dcdca320fbd55c289dd1f6d21d672  {\"Year\":\"2016\",\"Model\":\"Mustang\",\"Temporary\":\"...   \n",
       "00db2bff1ee57b9d389312209bd40b4f                                                  0   \n",
       "...                                                                             ...   \n",
       "21f7387a93418b77d33bfa56dcc0e3a9                                                  0   \n",
       "b54bc83dfcefe27e4318c7dd0dab1f0a                                                  0   \n",
       "c54556dbb037662501bf2f938e6c9fd4                                                  0   \n",
       "c664cc762bdcb88230b4b4f07e3b7d2e                                                  0   \n",
       "bb35dd1dfe0fcead9f5c5b0b3b9829dd                                                  0   \n",
       "\n",
       "                                 Account_History_Transaction_Details  \\\n",
       "userid                                                                 \n",
       "001244c572f1a681553bc045a378cacf                                   0   \n",
       "00596aa4edee32815aaf4aad659c484e                                   0   \n",
       "0079e6902320d6771024a236ab801f2e                                   0   \n",
       "008dcdca320fbd55c289dd1f6d21d672                                   0   \n",
       "00db2bff1ee57b9d389312209bd40b4f                                   0   \n",
       "...                                                              ...   \n",
       "21f7387a93418b77d33bfa56dcc0e3a9                                   0   \n",
       "b54bc83dfcefe27e4318c7dd0dab1f0a                                   0   \n",
       "c54556dbb037662501bf2f938e6c9fd4                                   0   \n",
       "c664cc762bdcb88230b4b4f07e3b7d2e                                   0   \n",
       "bb35dd1dfe0fcead9f5c5b0b3b9829dd                                   0   \n",
       "\n",
       "                                 Chat_Conversation_Opened Wallet_Opened  \\\n",
       "userid                                                                    \n",
       "001244c572f1a681553bc045a378cacf                        0             0   \n",
       "00596aa4edee32815aaf4aad659c484e                        0             0   \n",
       "0079e6902320d6771024a236ab801f2e                        0             0   \n",
       "008dcdca320fbd55c289dd1f6d21d672                        0             1   \n",
       "00db2bff1ee57b9d389312209bd40b4f                        0             0   \n",
       "...                                                   ...           ...   \n",
       "21f7387a93418b77d33bfa56dcc0e3a9                        0             0   \n",
       "b54bc83dfcefe27e4318c7dd0dab1f0a                        0             0   \n",
       "c54556dbb037662501bf2f938e6c9fd4                        0             0   \n",
       "c664cc762bdcb88230b4b4f07e3b7d2e                        0             0   \n",
       "bb35dd1dfe0fcead9f5c5b0b3b9829dd                        0             0   \n",
       "\n",
       "                                                      Add_Payment_Method_Success  \\\n",
       "userid                                                                             \n",
       "001244c572f1a681553bc045a378cacf                                               0   \n",
       "00596aa4edee32815aaf4aad659c484e  {\"Payment Method\":\"PayPal\",\"Tokenized Pay\":\"\"}   \n",
       "0079e6902320d6771024a236ab801f2e                                               0   \n",
       "008dcdca320fbd55c289dd1f6d21d672                                               0   \n",
       "00db2bff1ee57b9d389312209bd40b4f                                               0   \n",
       "...                                                                          ...   \n",
       "21f7387a93418b77d33bfa56dcc0e3a9                                               0   \n",
       "b54bc83dfcefe27e4318c7dd0dab1f0a                                               0   \n",
       "c54556dbb037662501bf2f938e6c9fd4                                               0   \n",
       "c664cc762bdcb88230b4b4f07e3b7d2e                                               0   \n",
       "bb35dd1dfe0fcead9f5c5b0b3b9829dd                                               0   \n",
       "\n",
       "                                 Email_Confirmation_Success  \\\n",
       "userid                                                        \n",
       "001244c572f1a681553bc045a378cacf                          0   \n",
       "00596aa4edee32815aaf4aad659c484e                          0   \n",
       "0079e6902320d6771024a236ab801f2e                          0   \n",
       "008dcdca320fbd55c289dd1f6d21d672                          0   \n",
       "00db2bff1ee57b9d389312209bd40b4f                          0   \n",
       "...                                                     ...   \n",
       "21f7387a93418b77d33bfa56dcc0e3a9                          0   \n",
       "b54bc83dfcefe27e4318c7dd0dab1f0a                          0   \n",
       "c54556dbb037662501bf2f938e6c9fd4                          0   \n",
       "c664cc762bdcb88230b4b4f07e3b7d2e                          0   \n",
       "bb35dd1dfe0fcead9f5c5b0b3b9829dd                          0   \n",
       "\n",
       "                                                               Subscription_Premium  \\\n",
       "userid                                                                                \n",
       "001244c572f1a681553bc045a378cacf                                                  0   \n",
       "00596aa4edee32815aaf4aad659c484e  {\"Start Date\":\"2022-02-16\",\"Renewal Date\":\"202...   \n",
       "0079e6902320d6771024a236ab801f2e                                                  0   \n",
       "008dcdca320fbd55c289dd1f6d21d672                                                  0   \n",
       "00db2bff1ee57b9d389312209bd40b4f                                                  0   \n",
       "...                                                                             ...   \n",
       "21f7387a93418b77d33bfa56dcc0e3a9                                                  0   \n",
       "b54bc83dfcefe27e4318c7dd0dab1f0a                                                  0   \n",
       "c54556dbb037662501bf2f938e6c9fd4                                                  0   \n",
       "c664cc762bdcb88230b4b4f07e3b7d2e                                                  0   \n",
       "bb35dd1dfe0fcead9f5c5b0b3b9829dd                                                  0   \n",
       "\n",
       "                                 Calculator_View           Sign_Out  \\\n",
       "userid                                                                \n",
       "001244c572f1a681553bc045a378cacf               0                  0   \n",
       "00596aa4edee32815aaf4aad659c484e               0                  0   \n",
       "0079e6902320d6771024a236ab801f2e               0  {\"Type\":\"Manual\"}   \n",
       "008dcdca320fbd55c289dd1f6d21d672               1                  0   \n",
       "00db2bff1ee57b9d389312209bd40b4f               0                  0   \n",
       "...                                          ...                ...   \n",
       "21f7387a93418b77d33bfa56dcc0e3a9               0                  0   \n",
       "b54bc83dfcefe27e4318c7dd0dab1f0a               0                  0   \n",
       "c54556dbb037662501bf2f938e6c9fd4               0                  0   \n",
       "c664cc762bdcb88230b4b4f07e3b7d2e               0                  0   \n",
       "bb35dd1dfe0fcead9f5c5b0b3b9829dd               0                  0   \n",
       "\n",
       "                                 Account_Setup_Profile_Skip Add_Vehicle_Break  \\\n",
       "userid                                                                          \n",
       "001244c572f1a681553bc045a378cacf                          0                 0   \n",
       "00596aa4edee32815aaf4aad659c484e                          0                 0   \n",
       "0079e6902320d6771024a236ab801f2e                          0                 0   \n",
       "008dcdca320fbd55c289dd1f6d21d672                          0                 1   \n",
       "00db2bff1ee57b9d389312209bd40b4f                          0                 0   \n",
       "...                                                     ...               ...   \n",
       "21f7387a93418b77d33bfa56dcc0e3a9                          0                 0   \n",
       "b54bc83dfcefe27e4318c7dd0dab1f0a                          0                 0   \n",
       "c54556dbb037662501bf2f938e6c9fd4                          0                 0   \n",
       "c664cc762bdcb88230b4b4f07e3b7d2e                          0                 0   \n",
       "bb35dd1dfe0fcead9f5c5b0b3b9829dd                          0                 0   \n",
       "\n",
       "                                                          Add_Payment_Method_Failed  \\\n",
       "userid                                                                                \n",
       "001244c572f1a681553bc045a378cacf                                                  0   \n",
       "00596aa4edee32815aaf4aad659c484e                                                  0   \n",
       "0079e6902320d6771024a236ab801f2e                                                  0   \n",
       "008dcdca320fbd55c289dd1f6d21d672                                                  0   \n",
       "00db2bff1ee57b9d389312209bd40b4f                                                  0   \n",
       "...                                                                             ...   \n",
       "21f7387a93418b77d33bfa56dcc0e3a9  {\"Error Code\":\"ERROR-16010\",\"Error Message\":\"C...   \n",
       "b54bc83dfcefe27e4318c7dd0dab1f0a  {\"Error Message\":\"Card is debit but credit is ...   \n",
       "c54556dbb037662501bf2f938e6c9fd4                                                  0   \n",
       "c664cc762bdcb88230b4b4f07e3b7d2e                                                  0   \n",
       "bb35dd1dfe0fcead9f5c5b0b3b9829dd                                                  0   \n",
       "\n",
       "                                                                 Transaction_Refund  \\\n",
       "userid                                                                                \n",
       "001244c572f1a681553bc045a378cacf                                                  0   \n",
       "00596aa4edee32815aaf4aad659c484e                                                  0   \n",
       "0079e6902320d6771024a236ab801f2e                                                  0   \n",
       "008dcdca320fbd55c289dd1f6d21d672                                                  0   \n",
       "00db2bff1ee57b9d389312209bd40b4f                                                  0   \n",
       "...                                                                             ...   \n",
       "21f7387a93418b77d33bfa56dcc0e3a9                                                  0   \n",
       "b54bc83dfcefe27e4318c7dd0dab1f0a                                                  0   \n",
       "c54556dbb037662501bf2f938e6c9fd4  {\"Id\":\"3064c45c1a47fcc774ff2d3071dd9f08\",\"Amou...   \n",
       "c664cc762bdcb88230b4b4f07e3b7d2e  {\"Id\":\"708ee8f2012042b121be7dcdd6df256a\",\"Amou...   \n",
       "bb35dd1dfe0fcead9f5c5b0b3b9829dd                                                  0   \n",
       "\n",
       "                                 Subscription_Premium_Cancel  \n",
       "userid                                                        \n",
       "001244c572f1a681553bc045a378cacf                           0  \n",
       "00596aa4edee32815aaf4aad659c484e                           0  \n",
       "0079e6902320d6771024a236ab801f2e                           0  \n",
       "008dcdca320fbd55c289dd1f6d21d672                           0  \n",
       "00db2bff1ee57b9d389312209bd40b4f                           0  \n",
       "...                                                      ...  \n",
       "21f7387a93418b77d33bfa56dcc0e3a9                           0  \n",
       "b54bc83dfcefe27e4318c7dd0dab1f0a                           0  \n",
       "c54556dbb037662501bf2f938e6c9fd4                           1  \n",
       "c664cc762bdcb88230b4b4f07e3b7d2e                           0  \n",
       "bb35dd1dfe0fcead9f5c5b0b3b9829dd                           1  \n",
       "\n",
       "[2783 rows x 16 columns]"
      ]
     },
     "execution_count": 6,
     "metadata": {},
     "output_type": "execute_result"
    }
   ],
   "source": [
    "# Замінюємо порожні дужки {} на 1.\n",
    "# Порожні дужки використовувалися в деяких колонках задля \n",
    "# пояснення, що користувач виконував цю дію\n",
    "res = res.replace(['{}'],'1')\n",
    "# Nan замінюємо на 0, це означає, що користувач \n",
    "# івент з колонки не робив\n",
    "res = res.fillna(0)\n",
    "res"
   ]
  },
  {
   "attachments": {},
   "cell_type": "markdown",
   "metadata": {},
   "source": [
    "- Subscription_Premium_Cancel"
   ]
  },
  {
   "cell_type": "code",
   "execution_count": 7,
   "metadata": {},
   "outputs": [
    {
     "data": {
      "text/plain": [
       "Subscription_Premium_Cancel\n",
       "1                              26\n",
       "dtype: int64"
      ]
     },
     "execution_count": 7,
     "metadata": {},
     "output_type": "execute_result"
    }
   ],
   "source": [
    "Subscription_Premium_Cancel = Subscription_Premium_Cancel .replace(['{}'],'1')\n",
    "Subscription_Premium_Cancel = Subscription_Premium_Cancel.fillna(0)\n",
    "Subscription_Premium_Cancel.value_counts()"
   ]
  },
  {
   "attachments": {},
   "cell_type": "markdown",
   "metadata": {},
   "source": [
    "- Sign_Up_Success"
   ]
  },
  {
   "cell_type": "code",
   "execution_count": 8,
   "metadata": {},
   "outputs": [
    {
     "data": {
      "text/plain": [
       "{\"Method\":\"Google\"}      647\n",
       "{\"Method\":\"Email\"}       491\n",
       "{\"Method\":\"Facebook\"}    162\n",
       "{\"Method\":\"Apple\"}       160\n",
       "Name: Sign_Up_Success, dtype: int64"
      ]
     },
     "execution_count": 8,
     "metadata": {},
     "output_type": "execute_result"
    }
   ],
   "source": [
    "Sign_Up_Success.Sign_Up_Success.value_counts()"
   ]
  },
  {
   "cell_type": "code",
   "execution_count": 9,
   "metadata": {},
   "outputs": [
    {
     "name": "stderr",
     "output_type": "stream",
     "text": [
      "C:\\Users\\Max\\AppData\\Local\\Temp\\ipykernel_16360\\2709548679.py:3: SettingWithCopyWarning: \n",
      "A value is trying to be set on a copy of a slice from a DataFrame.\n",
      "Try using .loc[row_indexer,col_indexer] = value instead\n",
      "\n",
      "See the caveats in the documentation: https://pandas.pydata.org/pandas-docs/stable/user_guide/indexing.html#returning-a-view-versus-a-copy\n",
      "  Sign_Up_Success_Apple[~Sign_Up_Success_Apple[\"Sign_Up_Success\"].isnull()] = 1\n",
      "C:\\Users\\Max\\AppData\\Local\\Temp\\ipykernel_16360\\2709548679.py:3: SettingWithCopyWarning: \n",
      "A value is trying to be set on a copy of a slice from a DataFrame\n",
      "\n",
      "See the caveats in the documentation: https://pandas.pydata.org/pandas-docs/stable/user_guide/indexing.html#returning-a-view-versus-a-copy\n",
      "  Sign_Up_Success_Apple[~Sign_Up_Success_Apple[\"Sign_Up_Success\"].isnull()] = 1\n",
      "C:\\Users\\Max\\AppData\\Local\\Temp\\ipykernel_16360\\2709548679.py:4: SettingWithCopyWarning: \n",
      "A value is trying to be set on a copy of a slice from a DataFrame\n",
      "\n",
      "See the caveats in the documentation: https://pandas.pydata.org/pandas-docs/stable/user_guide/indexing.html#returning-a-view-versus-a-copy\n",
      "  Sign_Up_Success_Apple.rename(columns = {'Sign_Up_Success': 'Sign_Up_Success_Apple'}, inplace=True)\n",
      "C:\\Users\\Max\\AppData\\Local\\Temp\\ipykernel_16360\\2709548679.py:9: SettingWithCopyWarning: \n",
      "A value is trying to be set on a copy of a slice from a DataFrame\n",
      "\n",
      "See the caveats in the documentation: https://pandas.pydata.org/pandas-docs/stable/user_guide/indexing.html#returning-a-view-versus-a-copy\n",
      "  Sign_Up_Success_Email.loc[~Sign_Up_Success_Email['Sign_Up_Success'].isnull()] = 1\n",
      "C:\\Users\\Max\\AppData\\Local\\Temp\\ipykernel_16360\\2709548679.py:10: SettingWithCopyWarning: \n",
      "A value is trying to be set on a copy of a slice from a DataFrame\n",
      "\n",
      "See the caveats in the documentation: https://pandas.pydata.org/pandas-docs/stable/user_guide/indexing.html#returning-a-view-versus-a-copy\n",
      "  Sign_Up_Success_Email.rename(columns = {'Sign_Up_Success': 'Sign_Up_Success_Email'}, inplace=True)\n",
      "C:\\Users\\Max\\AppData\\Local\\Temp\\ipykernel_16360\\2709548679.py:15: SettingWithCopyWarning: \n",
      "A value is trying to be set on a copy of a slice from a DataFrame\n",
      "\n",
      "See the caveats in the documentation: https://pandas.pydata.org/pandas-docs/stable/user_guide/indexing.html#returning-a-view-versus-a-copy\n",
      "  Sign_Up_Success_Facebook.loc[~Sign_Up_Success_Facebook['Sign_Up_Success'].isnull()] = 1\n",
      "C:\\Users\\Max\\AppData\\Local\\Temp\\ipykernel_16360\\2709548679.py:16: SettingWithCopyWarning: \n",
      "A value is trying to be set on a copy of a slice from a DataFrame\n",
      "\n",
      "See the caveats in the documentation: https://pandas.pydata.org/pandas-docs/stable/user_guide/indexing.html#returning-a-view-versus-a-copy\n",
      "  Sign_Up_Success_Facebook.rename(columns = {'Sign_Up_Success': 'Sign_Up_Success_Facebook'}, inplace=True)\n",
      "C:\\Users\\Max\\AppData\\Local\\Temp\\ipykernel_16360\\2709548679.py:21: SettingWithCopyWarning: \n",
      "A value is trying to be set on a copy of a slice from a DataFrame\n",
      "\n",
      "See the caveats in the documentation: https://pandas.pydata.org/pandas-docs/stable/user_guide/indexing.html#returning-a-view-versus-a-copy\n",
      "  Sign_Up_Success_Google.loc[~Sign_Up_Success_Google['Sign_Up_Success'].isnull()] = 1\n",
      "C:\\Users\\Max\\AppData\\Local\\Temp\\ipykernel_16360\\2709548679.py:22: SettingWithCopyWarning: \n",
      "A value is trying to be set on a copy of a slice from a DataFrame\n",
      "\n",
      "See the caveats in the documentation: https://pandas.pydata.org/pandas-docs/stable/user_guide/indexing.html#returning-a-view-versus-a-copy\n",
      "  Sign_Up_Success_Google.rename(columns = {'Sign_Up_Success': 'Sign_Up_Success_Google'}, inplace=True)\n"
     ]
    }
   ],
   "source": [
    "# Apple\n",
    "Sign_Up_Success_Apple=Sign_Up_Success[Sign_Up_Success['Sign_Up_Success']=='{\"Method\":\"Apple\"}']\n",
    "Sign_Up_Success_Apple[~Sign_Up_Success_Apple[\"Sign_Up_Success\"].isnull()] = 1\n",
    "Sign_Up_Success_Apple.rename(columns = {'Sign_Up_Success': 'Sign_Up_Success_Apple'}, inplace=True)\n",
    "\n",
    "\n",
    "#Email\n",
    "Sign_Up_Success_Email=Sign_Up_Success[Sign_Up_Success['Sign_Up_Success']=='{\"Method\":\"Email\"}']\n",
    "Sign_Up_Success_Email.loc[~Sign_Up_Success_Email['Sign_Up_Success'].isnull()] = 1\n",
    "Sign_Up_Success_Email.rename(columns = {'Sign_Up_Success': 'Sign_Up_Success_Email'}, inplace=True)\n",
    "\n",
    "\n",
    "#Facebook\n",
    "Sign_Up_Success_Facebook=Sign_Up_Success[Sign_Up_Success['Sign_Up_Success']=='{\"Method\":\"Facebook\"}']\n",
    "Sign_Up_Success_Facebook.loc[~Sign_Up_Success_Facebook['Sign_Up_Success'].isnull()] = 1\n",
    "Sign_Up_Success_Facebook.rename(columns = {'Sign_Up_Success': 'Sign_Up_Success_Facebook'}, inplace=True)\n",
    "\n",
    "\n",
    "#Google\n",
    "Sign_Up_Success_Google=Sign_Up_Success[Sign_Up_Success['Sign_Up_Success']=='{\"Method\":\"Google\"}']\n",
    "Sign_Up_Success_Google.loc[~Sign_Up_Success_Google['Sign_Up_Success'].isnull()] = 1\n",
    "Sign_Up_Success_Google.rename(columns = {'Sign_Up_Success': 'Sign_Up_Success_Google'}, inplace=True)"
   ]
  },
  {
   "cell_type": "code",
   "execution_count": 10,
   "metadata": {},
   "outputs": [
    {
     "data": {
      "text/html": [
       "<div>\n",
       "<style scoped>\n",
       "    .dataframe tbody tr th:only-of-type {\n",
       "        vertical-align: middle;\n",
       "    }\n",
       "\n",
       "    .dataframe tbody tr th {\n",
       "        vertical-align: top;\n",
       "    }\n",
       "\n",
       "    .dataframe thead th {\n",
       "        text-align: right;\n",
       "    }\n",
       "</style>\n",
       "<table border=\"1\" class=\"dataframe\">\n",
       "  <thead>\n",
       "    <tr style=\"text-align: right;\">\n",
       "      <th></th>\n",
       "      <th>Sign_Up_Success_Apple</th>\n",
       "      <th>Sign_Up_Success_Email</th>\n",
       "      <th>Sign_Up_Success_Facebook</th>\n",
       "      <th>Sign_Up_Success_Google</th>\n",
       "    </tr>\n",
       "    <tr>\n",
       "      <th>userid</th>\n",
       "      <th></th>\n",
       "      <th></th>\n",
       "      <th></th>\n",
       "      <th></th>\n",
       "    </tr>\n",
       "  </thead>\n",
       "  <tbody>\n",
       "    <tr>\n",
       "      <th>0105f45c4b5ba2d3a71b6b5a3115133b</th>\n",
       "      <td>1</td>\n",
       "      <td>0</td>\n",
       "      <td>0</td>\n",
       "      <td>0</td>\n",
       "    </tr>\n",
       "    <tr>\n",
       "      <th>04d80e22cc101455d8bbe476e34d6ac2</th>\n",
       "      <td>1</td>\n",
       "      <td>0</td>\n",
       "      <td>0</td>\n",
       "      <td>0</td>\n",
       "    </tr>\n",
       "    <tr>\n",
       "      <th>05a6df70d2d9e458be42c4a09c86c253</th>\n",
       "      <td>1</td>\n",
       "      <td>0</td>\n",
       "      <td>0</td>\n",
       "      <td>0</td>\n",
       "    </tr>\n",
       "    <tr>\n",
       "      <th>05bd68794e1c20075e4e42f0412bb94f</th>\n",
       "      <td>1</td>\n",
       "      <td>0</td>\n",
       "      <td>0</td>\n",
       "      <td>0</td>\n",
       "    </tr>\n",
       "    <tr>\n",
       "      <th>062965e6807c527aa818a7d670b5d935</th>\n",
       "      <td>1</td>\n",
       "      <td>0</td>\n",
       "      <td>0</td>\n",
       "      <td>0</td>\n",
       "    </tr>\n",
       "    <tr>\n",
       "      <th>...</th>\n",
       "      <td>...</td>\n",
       "      <td>...</td>\n",
       "      <td>...</td>\n",
       "      <td>...</td>\n",
       "    </tr>\n",
       "    <tr>\n",
       "      <th>fc8c8752c6099c69f11d3ebd7738b3bf</th>\n",
       "      <td>0</td>\n",
       "      <td>0</td>\n",
       "      <td>0</td>\n",
       "      <td>1</td>\n",
       "    </tr>\n",
       "    <tr>\n",
       "      <th>fd5bc86aa11a1c4b1d17f1e78f50e4a5</th>\n",
       "      <td>0</td>\n",
       "      <td>0</td>\n",
       "      <td>0</td>\n",
       "      <td>1</td>\n",
       "    </tr>\n",
       "    <tr>\n",
       "      <th>fd91b5e00f7782750d8f3f0d37f6ece9</th>\n",
       "      <td>0</td>\n",
       "      <td>0</td>\n",
       "      <td>0</td>\n",
       "      <td>1</td>\n",
       "    </tr>\n",
       "    <tr>\n",
       "      <th>fe5dba6215aa96ba863ef6b9fd49c4eb</th>\n",
       "      <td>0</td>\n",
       "      <td>0</td>\n",
       "      <td>0</td>\n",
       "      <td>1</td>\n",
       "    </tr>\n",
       "    <tr>\n",
       "      <th>ff72157f48e62a7278d4efb45e876a4e</th>\n",
       "      <td>0</td>\n",
       "      <td>0</td>\n",
       "      <td>0</td>\n",
       "      <td>1</td>\n",
       "    </tr>\n",
       "  </tbody>\n",
       "</table>\n",
       "<p>1460 rows × 4 columns</p>\n",
       "</div>"
      ],
      "text/plain": [
       "                                  Sign_Up_Success_Apple  \\\n",
       "userid                                                    \n",
       "0105f45c4b5ba2d3a71b6b5a3115133b                      1   \n",
       "04d80e22cc101455d8bbe476e34d6ac2                      1   \n",
       "05a6df70d2d9e458be42c4a09c86c253                      1   \n",
       "05bd68794e1c20075e4e42f0412bb94f                      1   \n",
       "062965e6807c527aa818a7d670b5d935                      1   \n",
       "...                                                 ...   \n",
       "fc8c8752c6099c69f11d3ebd7738b3bf                      0   \n",
       "fd5bc86aa11a1c4b1d17f1e78f50e4a5                      0   \n",
       "fd91b5e00f7782750d8f3f0d37f6ece9                      0   \n",
       "fe5dba6215aa96ba863ef6b9fd49c4eb                      0   \n",
       "ff72157f48e62a7278d4efb45e876a4e                      0   \n",
       "\n",
       "                                  Sign_Up_Success_Email  \\\n",
       "userid                                                    \n",
       "0105f45c4b5ba2d3a71b6b5a3115133b                      0   \n",
       "04d80e22cc101455d8bbe476e34d6ac2                      0   \n",
       "05a6df70d2d9e458be42c4a09c86c253                      0   \n",
       "05bd68794e1c20075e4e42f0412bb94f                      0   \n",
       "062965e6807c527aa818a7d670b5d935                      0   \n",
       "...                                                 ...   \n",
       "fc8c8752c6099c69f11d3ebd7738b3bf                      0   \n",
       "fd5bc86aa11a1c4b1d17f1e78f50e4a5                      0   \n",
       "fd91b5e00f7782750d8f3f0d37f6ece9                      0   \n",
       "fe5dba6215aa96ba863ef6b9fd49c4eb                      0   \n",
       "ff72157f48e62a7278d4efb45e876a4e                      0   \n",
       "\n",
       "                                  Sign_Up_Success_Facebook  \\\n",
       "userid                                                       \n",
       "0105f45c4b5ba2d3a71b6b5a3115133b                         0   \n",
       "04d80e22cc101455d8bbe476e34d6ac2                         0   \n",
       "05a6df70d2d9e458be42c4a09c86c253                         0   \n",
       "05bd68794e1c20075e4e42f0412bb94f                         0   \n",
       "062965e6807c527aa818a7d670b5d935                         0   \n",
       "...                                                    ...   \n",
       "fc8c8752c6099c69f11d3ebd7738b3bf                         0   \n",
       "fd5bc86aa11a1c4b1d17f1e78f50e4a5                         0   \n",
       "fd91b5e00f7782750d8f3f0d37f6ece9                         0   \n",
       "fe5dba6215aa96ba863ef6b9fd49c4eb                         0   \n",
       "ff72157f48e62a7278d4efb45e876a4e                         0   \n",
       "\n",
       "                                  Sign_Up_Success_Google  \n",
       "userid                                                    \n",
       "0105f45c4b5ba2d3a71b6b5a3115133b                       0  \n",
       "04d80e22cc101455d8bbe476e34d6ac2                       0  \n",
       "05a6df70d2d9e458be42c4a09c86c253                       0  \n",
       "05bd68794e1c20075e4e42f0412bb94f                       0  \n",
       "062965e6807c527aa818a7d670b5d935                       0  \n",
       "...                                                  ...  \n",
       "fc8c8752c6099c69f11d3ebd7738b3bf                       1  \n",
       "fd5bc86aa11a1c4b1d17f1e78f50e4a5                       1  \n",
       "fd91b5e00f7782750d8f3f0d37f6ece9                       1  \n",
       "fe5dba6215aa96ba863ef6b9fd49c4eb                       1  \n",
       "ff72157f48e62a7278d4efb45e876a4e                       1  \n",
       "\n",
       "[1460 rows x 4 columns]"
      ]
     },
     "execution_count": 10,
     "metadata": {},
     "output_type": "execute_result"
    }
   ],
   "source": [
    "Sign_Up_Success_all = pd.concat([Sign_Up_Success_Apple,Sign_Up_Success_Email,Sign_Up_Success_Facebook,Sign_Up_Success_Google], axis=1, join='outer')\n",
    "Sign_Up_Success_all = Sign_Up_Success_all.fillna(0)\n",
    "Sign_Up_Success_all.astype(int)"
   ]
  },
  {
   "cell_type": "code",
   "execution_count": 11,
   "metadata": {},
   "outputs": [
    {
     "data": {
      "text/plain": [
       "Subscription_Premium_Cancel    1.000000\n",
       "Sign_Up_Success_Apple         -0.013753\n",
       "Sign_Up_Success_Email         -0.018431\n",
       "Sign_Up_Success_Google        -0.046198\n",
       "Sign_Up_Success_Facebook      -0.047223\n",
       "Name: Subscription_Premium_Cancel, dtype: float64"
      ]
     },
     "execution_count": 11,
     "metadata": {},
     "output_type": "execute_result"
    }
   ],
   "source": [
    "Sign_Up_Success_all_SPC = pd.concat([Sign_Up_Success_all, Subscription_Premium_Cancel], axis=1, join='outer')\n",
    "Sign_Up_Success_all_SPC = Sign_Up_Success_all_SPC.fillna(0)\n",
    "Sign_Up_Success_all_SPC=Sign_Up_Success_all_SPC.astype(int)\n",
    "Sign_Up_Success_all_SPC_corr=Sign_Up_Success_all_SPC.corr()\n",
    "Sign_Up_Success_all_SPC_corr=Sign_Up_Success_all_SPC_corr.iloc[-1]\n",
    "Sign_Up_Success_all_SPC_corr.sort_values(ascending = False)"
   ]
  },
  {
   "attachments": {},
   "cell_type": "markdown",
   "metadata": {},
   "source": [
    "Бачимо, що немає залежності між параметрами Sign_Up_Success (Apple, Email, Google, Facebook) та Subscription_Premium_Cancel"
   ]
  },
  {
   "attachments": {},
   "cell_type": "markdown",
   "metadata": {},
   "source": [
    "- Order"
   ]
  },
  {
   "cell_type": "code",
   "execution_count": 12,
   "metadata": {},
   "outputs": [
    {
     "data": {
      "text/plain": [
       "{\"Premium Membership\":\"True\"}     27\n",
       "{\"Premium Membership\":\"False\"}    12\n",
       "Name: Order, dtype: int64"
      ]
     },
     "execution_count": 12,
     "metadata": {},
     "output_type": "execute_result"
    }
   ],
   "source": [
    "Order.Order.value_counts()"
   ]
  },
  {
   "cell_type": "code",
   "execution_count": 13,
   "metadata": {},
   "outputs": [
    {
     "name": "stderr",
     "output_type": "stream",
     "text": [
      "C:\\Users\\Max\\AppData\\Local\\Temp\\ipykernel_16360\\1516560079.py:3: SettingWithCopyWarning: \n",
      "A value is trying to be set on a copy of a slice from a DataFrame.\n",
      "Try using .loc[row_indexer,col_indexer] = value instead\n",
      "\n",
      "See the caveats in the documentation: https://pandas.pydata.org/pandas-docs/stable/user_guide/indexing.html#returning-a-view-versus-a-copy\n",
      "  Order_True[~Order_True[\"Order\"].isnull()] = 1\n",
      "C:\\Users\\Max\\AppData\\Local\\Temp\\ipykernel_16360\\1516560079.py:3: SettingWithCopyWarning: \n",
      "A value is trying to be set on a copy of a slice from a DataFrame\n",
      "\n",
      "See the caveats in the documentation: https://pandas.pydata.org/pandas-docs/stable/user_guide/indexing.html#returning-a-view-versus-a-copy\n",
      "  Order_True[~Order_True[\"Order\"].isnull()] = 1\n",
      "C:\\Users\\Max\\AppData\\Local\\Temp\\ipykernel_16360\\1516560079.py:4: SettingWithCopyWarning: \n",
      "A value is trying to be set on a copy of a slice from a DataFrame\n",
      "\n",
      "See the caveats in the documentation: https://pandas.pydata.org/pandas-docs/stable/user_guide/indexing.html#returning-a-view-versus-a-copy\n",
      "  Order_True.rename(columns = {'Order': 'Order_True'}, inplace=True)\n",
      "C:\\Users\\Max\\AppData\\Local\\Temp\\ipykernel_16360\\1516560079.py:8: SettingWithCopyWarning: \n",
      "A value is trying to be set on a copy of a slice from a DataFrame.\n",
      "Try using .loc[row_indexer,col_indexer] = value instead\n",
      "\n",
      "See the caveats in the documentation: https://pandas.pydata.org/pandas-docs/stable/user_guide/indexing.html#returning-a-view-versus-a-copy\n",
      "  Order_False[~Order_False[\"Order\"].isnull()] = 1\n",
      "C:\\Users\\Max\\AppData\\Local\\Temp\\ipykernel_16360\\1516560079.py:8: SettingWithCopyWarning: \n",
      "A value is trying to be set on a copy of a slice from a DataFrame\n",
      "\n",
      "See the caveats in the documentation: https://pandas.pydata.org/pandas-docs/stable/user_guide/indexing.html#returning-a-view-versus-a-copy\n",
      "  Order_False[~Order_False[\"Order\"].isnull()] = 1\n",
      "C:\\Users\\Max\\AppData\\Local\\Temp\\ipykernel_16360\\1516560079.py:9: SettingWithCopyWarning: \n",
      "A value is trying to be set on a copy of a slice from a DataFrame\n",
      "\n",
      "See the caveats in the documentation: https://pandas.pydata.org/pandas-docs/stable/user_guide/indexing.html#returning-a-view-versus-a-copy\n",
      "  Order_False.rename(columns = {'Order': 'Order_False'}, inplace=True)\n"
     ]
    }
   ],
   "source": [
    "#True\n",
    "Order_True=Order[Order['Order']=='{\"Premium Membership\":\"True\"}']\n",
    "Order_True[~Order_True[\"Order\"].isnull()] = 1\n",
    "Order_True.rename(columns = {'Order': 'Order_True'}, inplace=True)\n",
    "\n",
    "#False\n",
    "Order_False=Order[Order['Order']=='{\"Premium Membership\":\"False\"}']\n",
    "Order_False[~Order_False[\"Order\"].isnull()] = 1\n",
    "Order_False.rename(columns = {'Order': 'Order_False'}, inplace=True)"
   ]
  },
  {
   "cell_type": "code",
   "execution_count": 14,
   "metadata": {},
   "outputs": [
    {
     "data": {
      "text/html": [
       "<div>\n",
       "<style scoped>\n",
       "    .dataframe tbody tr th:only-of-type {\n",
       "        vertical-align: middle;\n",
       "    }\n",
       "\n",
       "    .dataframe tbody tr th {\n",
       "        vertical-align: top;\n",
       "    }\n",
       "\n",
       "    .dataframe thead th {\n",
       "        text-align: right;\n",
       "    }\n",
       "</style>\n",
       "<table border=\"1\" class=\"dataframe\">\n",
       "  <thead>\n",
       "    <tr style=\"text-align: right;\">\n",
       "      <th></th>\n",
       "      <th>Order_True</th>\n",
       "      <th>Order_False</th>\n",
       "    </tr>\n",
       "    <tr>\n",
       "      <th>userid</th>\n",
       "      <th></th>\n",
       "      <th></th>\n",
       "    </tr>\n",
       "  </thead>\n",
       "  <tbody>\n",
       "    <tr>\n",
       "      <th>0d51394c39dbf15021ccd09155ee6257</th>\n",
       "      <td>1</td>\n",
       "      <td>0</td>\n",
       "    </tr>\n",
       "    <tr>\n",
       "      <th>1c18dbe71e395e81a4c2f1640065f2df</th>\n",
       "      <td>1</td>\n",
       "      <td>0</td>\n",
       "    </tr>\n",
       "    <tr>\n",
       "      <th>1c5d42f9cf94d9eca90b3628d4d7f75d</th>\n",
       "      <td>1</td>\n",
       "      <td>0</td>\n",
       "    </tr>\n",
       "    <tr>\n",
       "      <th>28368284a145474b2cc4961349bffcf3</th>\n",
       "      <td>1</td>\n",
       "      <td>0</td>\n",
       "    </tr>\n",
       "    <tr>\n",
       "      <th>30560b6ff7feef07c9cb7315b0564101</th>\n",
       "      <td>1</td>\n",
       "      <td>0</td>\n",
       "    </tr>\n",
       "    <tr>\n",
       "      <th>33d4c1a149926acd6536452ecbddc8e2</th>\n",
       "      <td>1</td>\n",
       "      <td>0</td>\n",
       "    </tr>\n",
       "    <tr>\n",
       "      <th>44cd60c0ddb41223eb13c1a224b5e3d6</th>\n",
       "      <td>1</td>\n",
       "      <td>0</td>\n",
       "    </tr>\n",
       "    <tr>\n",
       "      <th>4949c7b6dfa8cef23d641fd98d50ab18</th>\n",
       "      <td>1</td>\n",
       "      <td>0</td>\n",
       "    </tr>\n",
       "    <tr>\n",
       "      <th>66d1fab17f5b7bcf9e43ae0438a2a6cf</th>\n",
       "      <td>1</td>\n",
       "      <td>0</td>\n",
       "    </tr>\n",
       "    <tr>\n",
       "      <th>746355602a97e0c70015a35f67a96f71</th>\n",
       "      <td>1</td>\n",
       "      <td>0</td>\n",
       "    </tr>\n",
       "    <tr>\n",
       "      <th>8f2cf06465717d43a9e467baaf510feb</th>\n",
       "      <td>1</td>\n",
       "      <td>0</td>\n",
       "    </tr>\n",
       "    <tr>\n",
       "      <th>a23a2974a70882b4bd66da405a2b80a5</th>\n",
       "      <td>1</td>\n",
       "      <td>0</td>\n",
       "    </tr>\n",
       "    <tr>\n",
       "      <th>a2a8a4e98c233aa86d5b34de7ba6f1d3</th>\n",
       "      <td>1</td>\n",
       "      <td>0</td>\n",
       "    </tr>\n",
       "    <tr>\n",
       "      <th>a36f9c3e8bcc3c6ac7ee75f9e08c1deb</th>\n",
       "      <td>1</td>\n",
       "      <td>0</td>\n",
       "    </tr>\n",
       "    <tr>\n",
       "      <th>ae932c52b76c8deb61f8555f64d38490</th>\n",
       "      <td>1</td>\n",
       "      <td>0</td>\n",
       "    </tr>\n",
       "    <tr>\n",
       "      <th>b58466f0302ba0e51063a9711f153e51</th>\n",
       "      <td>1</td>\n",
       "      <td>0</td>\n",
       "    </tr>\n",
       "    <tr>\n",
       "      <th>c0ce0b06f849d0a75dc3f2e69c87b0b6</th>\n",
       "      <td>1</td>\n",
       "      <td>0</td>\n",
       "    </tr>\n",
       "    <tr>\n",
       "      <th>c88aebef8d6337c3ab4c04be6853976a</th>\n",
       "      <td>1</td>\n",
       "      <td>0</td>\n",
       "    </tr>\n",
       "    <tr>\n",
       "      <th>d3d51e2fd28f62d02e93f3aae6179246</th>\n",
       "      <td>1</td>\n",
       "      <td>0</td>\n",
       "    </tr>\n",
       "    <tr>\n",
       "      <th>d97569a26b47b089e4ab0bce7012a12e</th>\n",
       "      <td>1</td>\n",
       "      <td>0</td>\n",
       "    </tr>\n",
       "    <tr>\n",
       "      <th>dce57d89ddc943bb268e3a2bcd8b91c0</th>\n",
       "      <td>1</td>\n",
       "      <td>0</td>\n",
       "    </tr>\n",
       "    <tr>\n",
       "      <th>ddfd6a4298e15df738efd4daa76403e4</th>\n",
       "      <td>1</td>\n",
       "      <td>0</td>\n",
       "    </tr>\n",
       "    <tr>\n",
       "      <th>eba4e8c1c66ee2e1b54ae61f0ae16190</th>\n",
       "      <td>1</td>\n",
       "      <td>0</td>\n",
       "    </tr>\n",
       "    <tr>\n",
       "      <th>f24dd26af8643f2a491a01f7e25051da</th>\n",
       "      <td>1</td>\n",
       "      <td>0</td>\n",
       "    </tr>\n",
       "    <tr>\n",
       "      <th>f40765f0ec0f11bbfdf99a564ce9f86d</th>\n",
       "      <td>1</td>\n",
       "      <td>0</td>\n",
       "    </tr>\n",
       "    <tr>\n",
       "      <th>f71d97f27525dd75106f9c593e31abf4</th>\n",
       "      <td>1</td>\n",
       "      <td>0</td>\n",
       "    </tr>\n",
       "    <tr>\n",
       "      <th>fdb8c0dd34b05d1f1b0eb6f1113df175</th>\n",
       "      <td>1</td>\n",
       "      <td>0</td>\n",
       "    </tr>\n",
       "    <tr>\n",
       "      <th>26cc023b7271834292da520c97fbef3d</th>\n",
       "      <td>0</td>\n",
       "      <td>1</td>\n",
       "    </tr>\n",
       "    <tr>\n",
       "      <th>3470f4afabdbf091c92349cd59b87962</th>\n",
       "      <td>0</td>\n",
       "      <td>1</td>\n",
       "    </tr>\n",
       "    <tr>\n",
       "      <th>6913af0efb0e6d62a4ed4ebd949f772e</th>\n",
       "      <td>0</td>\n",
       "      <td>1</td>\n",
       "    </tr>\n",
       "    <tr>\n",
       "      <th>90e7a324a520fc15e8acec664e9996ab</th>\n",
       "      <td>0</td>\n",
       "      <td>1</td>\n",
       "    </tr>\n",
       "    <tr>\n",
       "      <th>9c4b8ec536508a6c1cf9ab66f4200589</th>\n",
       "      <td>0</td>\n",
       "      <td>1</td>\n",
       "    </tr>\n",
       "    <tr>\n",
       "      <th>b10e7150d93e6ef244286da36fb38220</th>\n",
       "      <td>0</td>\n",
       "      <td>1</td>\n",
       "    </tr>\n",
       "    <tr>\n",
       "      <th>b8e494af62901281ea32197a58a5fdc7</th>\n",
       "      <td>0</td>\n",
       "      <td>1</td>\n",
       "    </tr>\n",
       "    <tr>\n",
       "      <th>bf6f5c66e2438576cc4852345313fe55</th>\n",
       "      <td>0</td>\n",
       "      <td>1</td>\n",
       "    </tr>\n",
       "    <tr>\n",
       "      <th>d1e49bffcac66079c0ffa353ef660c87</th>\n",
       "      <td>0</td>\n",
       "      <td>1</td>\n",
       "    </tr>\n",
       "    <tr>\n",
       "      <th>da115da0c38761649740d23199499d0f</th>\n",
       "      <td>0</td>\n",
       "      <td>1</td>\n",
       "    </tr>\n",
       "    <tr>\n",
       "      <th>da823e0efb16f00e73e2cbf1d8951649</th>\n",
       "      <td>0</td>\n",
       "      <td>1</td>\n",
       "    </tr>\n",
       "    <tr>\n",
       "      <th>dce56a898f7c104b27cd482b8f95da46</th>\n",
       "      <td>0</td>\n",
       "      <td>1</td>\n",
       "    </tr>\n",
       "  </tbody>\n",
       "</table>\n",
       "</div>"
      ],
      "text/plain": [
       "                                  Order_True  Order_False\n",
       "userid                                                   \n",
       "0d51394c39dbf15021ccd09155ee6257           1            0\n",
       "1c18dbe71e395e81a4c2f1640065f2df           1            0\n",
       "1c5d42f9cf94d9eca90b3628d4d7f75d           1            0\n",
       "28368284a145474b2cc4961349bffcf3           1            0\n",
       "30560b6ff7feef07c9cb7315b0564101           1            0\n",
       "33d4c1a149926acd6536452ecbddc8e2           1            0\n",
       "44cd60c0ddb41223eb13c1a224b5e3d6           1            0\n",
       "4949c7b6dfa8cef23d641fd98d50ab18           1            0\n",
       "66d1fab17f5b7bcf9e43ae0438a2a6cf           1            0\n",
       "746355602a97e0c70015a35f67a96f71           1            0\n",
       "8f2cf06465717d43a9e467baaf510feb           1            0\n",
       "a23a2974a70882b4bd66da405a2b80a5           1            0\n",
       "a2a8a4e98c233aa86d5b34de7ba6f1d3           1            0\n",
       "a36f9c3e8bcc3c6ac7ee75f9e08c1deb           1            0\n",
       "ae932c52b76c8deb61f8555f64d38490           1            0\n",
       "b58466f0302ba0e51063a9711f153e51           1            0\n",
       "c0ce0b06f849d0a75dc3f2e69c87b0b6           1            0\n",
       "c88aebef8d6337c3ab4c04be6853976a           1            0\n",
       "d3d51e2fd28f62d02e93f3aae6179246           1            0\n",
       "d97569a26b47b089e4ab0bce7012a12e           1            0\n",
       "dce57d89ddc943bb268e3a2bcd8b91c0           1            0\n",
       "ddfd6a4298e15df738efd4daa76403e4           1            0\n",
       "eba4e8c1c66ee2e1b54ae61f0ae16190           1            0\n",
       "f24dd26af8643f2a491a01f7e25051da           1            0\n",
       "f40765f0ec0f11bbfdf99a564ce9f86d           1            0\n",
       "f71d97f27525dd75106f9c593e31abf4           1            0\n",
       "fdb8c0dd34b05d1f1b0eb6f1113df175           1            0\n",
       "26cc023b7271834292da520c97fbef3d           0            1\n",
       "3470f4afabdbf091c92349cd59b87962           0            1\n",
       "6913af0efb0e6d62a4ed4ebd949f772e           0            1\n",
       "90e7a324a520fc15e8acec664e9996ab           0            1\n",
       "9c4b8ec536508a6c1cf9ab66f4200589           0            1\n",
       "b10e7150d93e6ef244286da36fb38220           0            1\n",
       "b8e494af62901281ea32197a58a5fdc7           0            1\n",
       "bf6f5c66e2438576cc4852345313fe55           0            1\n",
       "d1e49bffcac66079c0ffa353ef660c87           0            1\n",
       "da115da0c38761649740d23199499d0f           0            1\n",
       "da823e0efb16f00e73e2cbf1d8951649           0            1\n",
       "dce56a898f7c104b27cd482b8f95da46           0            1"
      ]
     },
     "execution_count": 14,
     "metadata": {},
     "output_type": "execute_result"
    }
   ],
   "source": [
    "Order_all = pd.concat([Order_True,Order_False], axis=1, join='outer')\n",
    "Order_all = Order_all.fillna(0)\n",
    "Order_all.astype(int)"
   ]
  },
  {
   "cell_type": "code",
   "execution_count": 15,
   "metadata": {},
   "outputs": [
    {
     "data": {
      "text/plain": [
       "Subscription_Premium_Cancel    1.000000\n",
       "Order_True                    -0.404184\n",
       "Order_False                   -0.448509\n",
       "Name: Subscription_Premium_Cancel, dtype: float64"
      ]
     },
     "execution_count": 15,
     "metadata": {},
     "output_type": "execute_result"
    }
   ],
   "source": [
    "Order_all_SPC = pd.concat([Order_all, Subscription_Premium_Cancel], axis=1, join='outer')\n",
    "Order_all_SPC = Order_all_SPC.fillna(0)\n",
    "Order_all_SPC=Order_all_SPC.astype(int)\n",
    "Order_all_SPC_corr=Order_all_SPC.corr()\n",
    "Order_all_SPC_corr=Order_all_SPC_corr.iloc[-1]\n",
    "Order_all_SPC_corr.sort_values(ascending = False)"
   ]
  },
  {
   "attachments": {},
   "cell_type": "markdown",
   "metadata": {},
   "source": [
    "Бачимо, що немає залежності між параметрами Order (Order_True , Order_False) та Subscription_Premium_Cancel"
   ]
  },
  {
   "attachments": {},
   "cell_type": "markdown",
   "metadata": {},
   "source": [
    "- Add_Vehicle_Succes"
   ]
  },
  {
   "cell_type": "code",
   "execution_count": 16,
   "metadata": {},
   "outputs": [
    {
     "data": {
      "text/plain": [
       "<bound method DataFrame.value_counts of                                                                 Add_Vehicle_Success\n",
       "userid                                                                             \n",
       "0006869712ec9841dc36234bce245203  {\"Make\":\"Chevrolet\",\"Model\":\"Express 3500\",\"Co...\n",
       "003f57fe2631ade57a86f6a2b96bb20c  {\"Make\":\"Ford\",\"Model\":\"C-Max Energi\",\"Tempora...\n",
       "00596aa4edee32815aaf4aad659c484e  {\"Make\":\"Chrysler\",\"Model\":\"300\",\"Color\":\"Silv...\n",
       "007b54670d72df309afd87befcbb63db  {\"Start Date\":\"05/04/2022\",\"Year\":\"2022\",\"Mode...\n",
       "008dcdca320fbd55c289dd1f6d21d672  {\"Year\":\"2016\",\"Model\":\"Mustang\",\"Temporary\":\"...\n",
       "...                                                                             ...\n",
       "feeb75def9523b6c8c1d804267988c0d  {\"Make\":\"Buick\",\"Model\":\"LaCrosse\",\"Temporary\"...\n",
       "ff189ff549ef3613dd2f275a82c0bbf8  {\"Year\":\"2021\",\"Model\":\"Highlander Hybrid\",\"Te...\n",
       "ff530883fc9c83ac50418d8672e9056e  {\"Year\":\"2016\",\"Model\":\"CX-5\",\"Temporary\":\"fal...\n",
       "ff72157f48e62a7278d4efb45e876a4e  {\"Make\":\"Toyota\",\"Model\":\"Sienna\",\"Temporary\":...\n",
       "ff7f35641a4cd9f6779c8d05381feb32  {\"Color\":\"Gray\",\"Year\":\"2015\",\"Model\":\"Odyssey...\n",
       "\n",
       "[1790 rows x 1 columns]>"
      ]
     },
     "execution_count": 16,
     "metadata": {},
     "output_type": "execute_result"
    }
   ],
   "source": [
    "Add_Vehicle_Success.value_counts"
   ]
  },
  {
   "cell_type": "code",
   "execution_count": 17,
   "metadata": {},
   "outputs": [],
   "source": [
    "list_car =[ \"Abarth\", \"Alfa Romeo\", \"Aston Martin\", \"Audi\", \"Bentley\", \"BMW\", \"Bugatti\", \"Cadillac\", \"Chevrolet\", \"Chrysler\", \"Citroën\", \"Dacia\", \"Daewoo\", \"Daihatsu\", \"Dodge\", \"Donkervoort\", \"DS\", \"Ferrari\", \"Fiat\", \"Fisker\", \"Ford\", \"Honda\", \"Hummer\", \"Hyundai\", \"Infiniti\", \"Iveco\", \"Jaguar\", \"Jeep\", \"Kia\", \"KTM\", \"Lada\", \"Lamborghini\", \"Lancia\", \"Land Rover\", \"Landwind\", \"Lexus\", \"Lotus\", \"Maserati\", \"Maybach\", \"Mazda\", \"McLaren\", \"Mercedes-Benz\", \"MG\", \"Mini\", \"Mitsubishi\", \"Morgan\", \"Nissan\", \"Opel\", \"Peugeot\", \"Porsche\", \"Renault\", \"Rolls-Royce\", \"Rover\", \"Saab\", \"Seat\", \"Skoda\", \"Smart\", \"SsangYong\", \"Subaru\", \"Suzuki\", \"Tesla\", \"Toyota\", \"Volkswagen\", \"Volvo\" ]"
   ]
  },
  {
   "cell_type": "code",
   "execution_count": 18,
   "metadata": {},
   "outputs": [],
   "source": [
    "for car in list_car:\n",
    "     Add_Vehicle_Success[car] = Add_Vehicle_Success['Add_Vehicle_Success'].str.find(car)\n",
    "\n",
    "Add_Vehicle_Success=Add_Vehicle_Success.drop('Add_Vehicle_Success', axis=1)\n",
    "Add_Vehicle_Success = Add_Vehicle_Success.replace(-1,0) \n",
    "\n",
    "for col in Add_Vehicle_Success:\n",
    "    Add_Vehicle_Success[col].loc[Add_Vehicle_Success[col]>0] = 1\n",
    "\n",
    "Add_Vehicle_Success = Add_Vehicle_Success.loc[:, (Add_Vehicle_Success != 0).any(axis=0)]    \n",
    "\n",
    "Add_Vehicle_Success_all = Add_Vehicle_Success"
   ]
  },
  {
   "cell_type": "code",
   "execution_count": 19,
   "metadata": {},
   "outputs": [
    {
     "data": {
      "text/plain": [
       "Subscription_Premium_Cancel    1.000000\n",
       "Mitsubishi                     0.042296\n",
       "Audi                           0.038155\n",
       "Honda                          0.012658\n",
       "BMW                            0.011010\n",
       "Kia                           -0.000584\n",
       "Dodge                         -0.002554\n",
       "Saab                          -0.002851\n",
       "Alfa Romeo                    -0.002851\n",
       "Jaguar                        -0.004033\n",
       "Fiat                          -0.004033\n",
       "Suzuki                        -0.005707\n",
       "Land Rover                    -0.006993\n",
       "Rover                         -0.006993\n",
       "Volvo                         -0.008080\n",
       "Porsche                       -0.008572\n",
       "Chevrolet                     -0.008660\n",
       "Mini                          -0.009038\n",
       "Tesla                         -0.009038\n",
       "Infiniti                      -0.009907\n",
       "Cadillac                      -0.011085\n",
       "Chrysler                      -0.013451\n",
       "Mazda                         -0.015474\n",
       "Subaru                        -0.016779\n",
       "Lexus                         -0.017759\n",
       "Mercedes-Benz                 -0.019583\n",
       "Volkswagen                    -0.020229\n",
       "Hyundai                       -0.024143\n",
       "Jeep                          -0.026418\n",
       "Nissan                        -0.038797\n",
       "Toyota                        -0.040956\n",
       "Ford                          -0.042269\n",
       "Name: Subscription_Premium_Cancel, dtype: float64"
      ]
     },
     "execution_count": 19,
     "metadata": {},
     "output_type": "execute_result"
    }
   ],
   "source": [
    "Add_Vehicle_Success_SPC = pd.concat([Add_Vehicle_Success, Subscription_Premium_Cancel], axis=1, join='outer')\n",
    "Add_Vehicle_Success_SPC = Add_Vehicle_Success_SPC.fillna(0)\n",
    "Add_Vehicle_Success_SPC=Add_Vehicle_Success_SPC.astype(int)\n",
    "Add_Vehicle_Success_SPC_corr=Add_Vehicle_Success_SPC.corr()\n",
    "Add_Vehicle_Success_SPC_corr=Add_Vehicle_Success_SPC_corr.iloc[-1]\n",
    "Add_Vehicle_Success_SPC_corr.sort_values(ascending = False)"
   ]
  },
  {
   "attachments": {},
   "cell_type": "markdown",
   "metadata": {},
   "source": [
    "Бачимо, що маємо кореляцію між Add_Vehicle_Success (Mitsubishi) та Subscription_Premium_Cancel, яка дорівнює 0.042296"
   ]
  },
  {
   "attachments": {},
   "cell_type": "markdown",
   "metadata": {},
   "source": [
    "- Account_History_Transaction_Details"
   ]
  },
  {
   "cell_type": "code",
   "execution_count": 20,
   "metadata": {},
   "outputs": [
    {
     "data": {
      "text/plain": [
       "<bound method DataFrame.value_counts of                                                 Account_History_Transaction_Details\n",
       "userid                                                                             \n",
       "0006869712ec9841dc36234bce245203  {\"Navigated From\":\"Account History\",\"Status\":\"...\n",
       "03e0c91e1163e8b80e74e586a3e666d6  {\"Type\":\"Pro Plan Subscription\",\"Navigated Fro...\n",
       "0424df1cbc0b11f32e626f43fc176a4d  {\"Navigated From\":\"Account History\",\"Status\":\"...\n",
       "05630c0e889fe7371fc74d7ae01f491f  {\"Type\":\"Pro Plan Subscription\",\"Navigated Fro...\n",
       "060153cf7a5844d9aed735d408b35f97  {\"Type\":\"Auto Payment\",\"Navigated From\":\"accou...\n",
       "...                                                                             ...\n",
       "fc817111904f14d8868601ac1e1fedeb  {\"Navigated From\":\"Account History\",\"Status\":\"...\n",
       "fc8cd52c073c56ad5f635f44097de339  {\"Type\":\"Auto Payment\",\"Navigated From\":\"accou...\n",
       "fc8e16ce7c98f58ba309cb7fc3cd1dec  {\"Type\":\"Pro Plan Subscription\",\"Navigated Fro...\n",
       "fca687b7a7b16e217c0a03b9ca8fdfda  {\"Navigated From\":\"Account History\",\"Status\":\"...\n",
       "fdb8c0dd34b05d1f1b0eb6f1113df175  {\"Type\":\"Auto Payment\",\"Navigated From\":\"accou...\n",
       "\n",
       "[319 rows x 1 columns]>"
      ]
     },
     "execution_count": 20,
     "metadata": {},
     "output_type": "execute_result"
    }
   ],
   "source": [
    "Account_History_Transaction_Details.value_counts"
   ]
  },
  {
   "cell_type": "code",
   "execution_count": 21,
   "metadata": {},
   "outputs": [],
   "source": [
    "# Якщо клієнт відкривав історію акаунта - то 1, якщо не відкривав - то 0\n",
    "Account_History_Transaction_Details.loc[~Account_History_Transaction_Details['Account_History_Transaction_Details'].isnull()] = 1"
   ]
  },
  {
   "cell_type": "code",
   "execution_count": 22,
   "metadata": {},
   "outputs": [
    {
     "data": {
      "text/plain": [
       "Subscription_Premium_Cancel            1.000000\n",
       "Account_History_Transaction_Details   -0.692549\n",
       "Name: Subscription_Premium_Cancel, dtype: float64"
      ]
     },
     "execution_count": 22,
     "metadata": {},
     "output_type": "execute_result"
    }
   ],
   "source": [
    "Account_History_Transaction_Details_SPC = pd.concat([Account_History_Transaction_Details, Subscription_Premium_Cancel], axis=1, join='outer')\n",
    "Account_History_Transaction_Details_SPC = Account_History_Transaction_Details_SPC.fillna(0)\n",
    "Account_History_Transaction_Details_SPC=Account_History_Transaction_Details_SPC.astype(int)\n",
    "Account_History_Transaction_Details_SPC_corr=Account_History_Transaction_Details_SPC.corr()\n",
    "Account_History_Transaction_Details_SPC_corr=Account_History_Transaction_Details_SPC_corr.iloc[-1]\n",
    "Account_History_Transaction_Details_SPC_corr.sort_values(ascending = False)"
   ]
  },
  {
   "attachments": {},
   "cell_type": "markdown",
   "metadata": {},
   "source": [
    "Бачимо, що немає ніякої кореляції між тим, що клієнт дивився свою історію транзакції та тим, що клієнт скасував підписку"
   ]
  },
  {
   "attachments": {},
   "cell_type": "markdown",
   "metadata": {},
   "source": [
    "- Chat_Conversation_Opened"
   ]
  },
  {
   "cell_type": "code",
   "execution_count": 23,
   "metadata": {},
   "outputs": [
    {
     "data": {
      "text/plain": [
       "<bound method DataFrame.value_counts of                                                            Chat_Conversation_Opened\n",
       "userid                                                                             \n",
       "007b54670d72df309afd87befcbb63db                               {\"From\":\"Dashboard\"}\n",
       "017f4557810b3ba165d2959c17b916b6                                    {\"From\":\"Menu\"}\n",
       "02ea6c406a8d4d65cf25ea527ec83403              {\"From\":\"Menu\",\"Transaction type\":\"\"}\n",
       "05d8b7e9ab7759e6d9d210aee9003379                  {\"From\":\"\",\"Transaction type\":\"\"}\n",
       "078ae59f1ae79df514e846e5e51eca8b                                {\"From\":\"Deeplink\"}\n",
       "...                                                                             ...\n",
       "fa218673a8e63669d6839eeaebaca99a  {\"From\":\"Transaction Details\",\"Transaction typ...\n",
       "fb8dec009d03ea9b6b7d385946f68643                {\"From\":\"Dashboard\"}{\"From\":\"Menu\"}\n",
       "fc817111904f14d8868601ac1e1fedeb  {\"From\":\"Transaction Details\",\"Transaction typ...\n",
       "fc8e16ce7c98f58ba309cb7fc3cd1dec  {\"Transaction type\":\"Pro Plan Subscription\",\"F...\n",
       "fdf6855262649124354ecf8c23f31356              {\"From\":\"Menu\",\"Transaction type\":\"\"}\n",
       "\n",
       "[320 rows x 1 columns]>"
      ]
     },
     "execution_count": 23,
     "metadata": {},
     "output_type": "execute_result"
    }
   ],
   "source": [
    "Chat_Conversation_Opened.value_counts"
   ]
  },
  {
   "cell_type": "code",
   "execution_count": 24,
   "metadata": {},
   "outputs": [],
   "source": [
    "# Якщо чат відкритий клієнтом - то 1, якщо ні - то 0\n",
    "Chat_Conversation_Opened.loc[~Chat_Conversation_Opened['Chat_Conversation_Opened'].isnull()] = 1"
   ]
  },
  {
   "cell_type": "code",
   "execution_count": 25,
   "metadata": {},
   "outputs": [
    {
     "data": {
      "text/plain": [
       "Subscription_Premium_Cancel    1.000000\n",
       "Chat_Conversation_Opened      -0.664339\n",
       "Name: Subscription_Premium_Cancel, dtype: float64"
      ]
     },
     "execution_count": 25,
     "metadata": {},
     "output_type": "execute_result"
    }
   ],
   "source": [
    "Chat_Conversation_Opened_SPC = pd.concat([Chat_Conversation_Opened, Subscription_Premium_Cancel], axis=1, join='outer')\n",
    "Chat_Conversation_Opened_SPC = Chat_Conversation_Opened_SPC.fillna(0)\n",
    "Chat_Conversation_Opened_SPC=Chat_Conversation_Opened_SPC.astype(int)\n",
    "Chat_Conversation_Opened_SPC_corr=Chat_Conversation_Opened_SPC.corr()\n",
    "Chat_Conversation_Opened_SPC_corr=Chat_Conversation_Opened_SPC_corr.iloc[-1]\n",
    "Chat_Conversation_Opened_SPC_corr.sort_values(ascending = False)"
   ]
  },
  {
   "attachments": {},
   "cell_type": "markdown",
   "metadata": {},
   "source": [
    "Бачимо, що немає ніякої кореляції між тим, що клієнт відкрив чат і тим, що клієнт скасував підписку"
   ]
  },
  {
   "attachments": {},
   "cell_type": "markdown",
   "metadata": {},
   "source": [
    "- Wallet_Opened"
   ]
  },
  {
   "cell_type": "code",
   "execution_count": 26,
   "metadata": {},
   "outputs": [
    {
     "data": {
      "text/plain": [
       "Wallet_Opened\n",
       "{}               263\n",
       "{}{}               4\n",
       "dtype: int64"
      ]
     },
     "execution_count": 26,
     "metadata": {},
     "output_type": "execute_result"
    }
   ],
   "source": [
    "Wallet_Opened.value_counts()"
   ]
  },
  {
   "attachments": {},
   "cell_type": "markdown",
   "metadata": {},
   "source": [
    "{} - відкрив клієнт гаманець один раз \n",
    "\n",
    "{}{} - відкрив клієнт гаманець два рази"
   ]
  },
  {
   "cell_type": "code",
   "execution_count": 27,
   "metadata": {},
   "outputs": [],
   "source": [
    "#1 раз\n",
    "Wallet_Opened_1=Wallet_Opened[Wallet_Opened['Wallet_Opened']=='{}']\n",
    "Wallet_Opened_1 = Wallet_Opened_1.replace(['{}'],1)\n",
    "Wallet_Opened_1.rename(columns = {'Wallet_Opened': 'Wallet_Opened_1'}, inplace=True)\n",
    "\n",
    "#2 рази\n",
    "Wallet_Opened_2=Wallet_Opened[Wallet_Opened['Wallet_Opened']=='{}{}']\n",
    "Wallet_Opened_2 = Wallet_Opened_2.replace(['{}{}'],1)\n",
    "Wallet_Opened_2.rename(columns = {'Wallet_Opened': 'Wallet_Opened_2'}, inplace=True)"
   ]
  },
  {
   "cell_type": "code",
   "execution_count": 28,
   "metadata": {},
   "outputs": [],
   "source": [
    "Wallet_Opened_all=pd.concat([Wallet_Opened_1,Wallet_Opened_2], axis=1)\n",
    "Wallet_Opened_all = Wallet_Opened_all.fillna(0)\n",
    "Wallet_Opened_all=Wallet_Opened_all.astype(int)"
   ]
  },
  {
   "cell_type": "code",
   "execution_count": 29,
   "metadata": {},
   "outputs": [
    {
     "data": {
      "text/plain": [
       "Subscription_Premium_Cancel    1.000000\n",
       "Wallet_Opened_2                0.064159\n",
       "Wallet_Opened_1               -0.359297\n",
       "Name: Subscription_Premium_Cancel, dtype: float64"
      ]
     },
     "execution_count": 29,
     "metadata": {},
     "output_type": "execute_result"
    }
   ],
   "source": [
    "Wallet_Opened_all_SPC = pd.concat([Wallet_Opened_all, Subscription_Premium_Cancel], axis=1, join='outer')\n",
    "Wallet_Opened_all_SPC = Wallet_Opened_all_SPC.fillna(0)\n",
    "Wallet_Opened_all_SPC=Wallet_Opened_all_SPC.astype(int)\n",
    "Wallet_Opened_all_SPC_corr=Wallet_Opened_all_SPC.corr()\n",
    "Wallet_Opened_all_SPC_corr=Wallet_Opened_all_SPC_corr.iloc[-1]\n",
    "Wallet_Opened_all_SPC_corr.sort_values(ascending = False)"
   ]
  },
  {
   "attachments": {},
   "cell_type": "markdown",
   "metadata": {},
   "source": [
    "Бачимо кореляцію між тим, що клієнт відкривав 2 рази гаманець та тим, що клієнт скасував підписку, вона дорівнює 0.064159"
   ]
  },
  {
   "attachments": {},
   "cell_type": "markdown",
   "metadata": {},
   "source": [
    "- Add_Payment_Method_Success"
   ]
  },
  {
   "cell_type": "code",
   "execution_count": 30,
   "metadata": {},
   "outputs": [
    {
     "data": {
      "text/plain": [
       "<bound method DataFrame.value_counts of                                                          Add_Payment_Method_Success\n",
       "userid                                                                             \n",
       "0006869712ec9841dc36234bce245203      {\"Payment Method\":\"Debit\",\"Tokenized Pay\":\"\"}\n",
       "00596aa4edee32815aaf4aad659c484e     {\"Payment Method\":\"PayPal\",\"Tokenized Pay\":\"\"}\n",
       "007b54670d72df309afd87befcbb63db         {\"Promo code\":\"\",\"Payment Method\":\"Debit\"}\n",
       "0136a8eeca5d16ac1a521dd0e27ecec0  {\"Tokenized Pay\":\"Apple Pay\",\"Payment Method\":...\n",
       "0136e4685e98e034bfbee6016680c21b  {\"Payment Method\":\"Credit\",\"Tokenized Pay\":\"Go...\n",
       "...                                                                             ...\n",
       "fd5bc86aa11a1c4b1d17f1e78f50e4a5     {\"Payment Method\":\"PayPal\",\"Tokenized Pay\":\"\"}\n",
       "fdb8c0dd34b05d1f1b0eb6f1113df175  {\"Tokenized Pay\":\"Apple Pay\",\"Payment Method\":...\n",
       "fdb9c5f6193e1cc735a2c59e14882b0f  {\"Payment Method\":\"Debit\",\"Tokenized Pay\":\"\",\"...\n",
       "fdf6855262649124354ecf8c23f31356     {\"Payment Method\":\"Credit\",\"Tokenized Pay\":\"\"}\n",
       "fffec8d843de9e49ef7c13df5a44da24  {\"Tokenized Pay\":\"Apple Pay\",\"Payment Method\":...\n",
       "\n",
       "[709 rows x 1 columns]>"
      ]
     },
     "execution_count": 30,
     "metadata": {},
     "output_type": "execute_result"
    }
   ],
   "source": [
    "Add_Payment_Method_Success.value_counts"
   ]
  },
  {
   "cell_type": "code",
   "execution_count": 31,
   "metadata": {},
   "outputs": [
    {
     "data": {
      "text/html": [
       "<div>\n",
       "<style scoped>\n",
       "    .dataframe tbody tr th:only-of-type {\n",
       "        vertical-align: middle;\n",
       "    }\n",
       "\n",
       "    .dataframe tbody tr th {\n",
       "        vertical-align: top;\n",
       "    }\n",
       "\n",
       "    .dataframe thead th {\n",
       "        text-align: right;\n",
       "    }\n",
       "</style>\n",
       "<table border=\"1\" class=\"dataframe\">\n",
       "  <thead>\n",
       "    <tr style=\"text-align: right;\">\n",
       "      <th></th>\n",
       "      <th>Add_Payment_Method_Success</th>\n",
       "    </tr>\n",
       "    <tr>\n",
       "      <th>userid</th>\n",
       "      <th></th>\n",
       "    </tr>\n",
       "  </thead>\n",
       "  <tbody>\n",
       "    <tr>\n",
       "      <th>0006869712ec9841dc36234bce245203</th>\n",
       "      <td>1</td>\n",
       "    </tr>\n",
       "    <tr>\n",
       "      <th>00596aa4edee32815aaf4aad659c484e</th>\n",
       "      <td>1</td>\n",
       "    </tr>\n",
       "    <tr>\n",
       "      <th>007b54670d72df309afd87befcbb63db</th>\n",
       "      <td>1</td>\n",
       "    </tr>\n",
       "    <tr>\n",
       "      <th>0136a8eeca5d16ac1a521dd0e27ecec0</th>\n",
       "      <td>1</td>\n",
       "    </tr>\n",
       "    <tr>\n",
       "      <th>0136e4685e98e034bfbee6016680c21b</th>\n",
       "      <td>1</td>\n",
       "    </tr>\n",
       "    <tr>\n",
       "      <th>...</th>\n",
       "      <td>...</td>\n",
       "    </tr>\n",
       "    <tr>\n",
       "      <th>fd5bc86aa11a1c4b1d17f1e78f50e4a5</th>\n",
       "      <td>1</td>\n",
       "    </tr>\n",
       "    <tr>\n",
       "      <th>fdb8c0dd34b05d1f1b0eb6f1113df175</th>\n",
       "      <td>1</td>\n",
       "    </tr>\n",
       "    <tr>\n",
       "      <th>fdb9c5f6193e1cc735a2c59e14882b0f</th>\n",
       "      <td>1</td>\n",
       "    </tr>\n",
       "    <tr>\n",
       "      <th>fdf6855262649124354ecf8c23f31356</th>\n",
       "      <td>1</td>\n",
       "    </tr>\n",
       "    <tr>\n",
       "      <th>fffec8d843de9e49ef7c13df5a44da24</th>\n",
       "      <td>1</td>\n",
       "    </tr>\n",
       "  </tbody>\n",
       "</table>\n",
       "<p>709 rows × 1 columns</p>\n",
       "</div>"
      ],
      "text/plain": [
       "                                 Add_Payment_Method_Success\n",
       "userid                                                     \n",
       "0006869712ec9841dc36234bce245203                          1\n",
       "00596aa4edee32815aaf4aad659c484e                          1\n",
       "007b54670d72df309afd87befcbb63db                          1\n",
       "0136a8eeca5d16ac1a521dd0e27ecec0                          1\n",
       "0136e4685e98e034bfbee6016680c21b                          1\n",
       "...                                                     ...\n",
       "fd5bc86aa11a1c4b1d17f1e78f50e4a5                          1\n",
       "fdb8c0dd34b05d1f1b0eb6f1113df175                          1\n",
       "fdb9c5f6193e1cc735a2c59e14882b0f                          1\n",
       "fdf6855262649124354ecf8c23f31356                          1\n",
       "fffec8d843de9e49ef7c13df5a44da24                          1\n",
       "\n",
       "[709 rows x 1 columns]"
      ]
     },
     "execution_count": 31,
     "metadata": {},
     "output_type": "execute_result"
    }
   ],
   "source": [
    "# Якщо клієнт успішно додавав метод оплати - то 1, якщо ні - то 0\n",
    "Add_Payment_Method_Success.loc[~Add_Payment_Method_Success['Add_Payment_Method_Success'].isnull()] = 1\n",
    "Add_Payment_Method_Success"
   ]
  },
  {
   "cell_type": "code",
   "execution_count": 32,
   "metadata": {},
   "outputs": [
    {
     "data": {
      "text/plain": [
       "Subscription_Premium_Cancel    1.000000\n",
       "Add_Payment_Method_Success    -0.581252\n",
       "Name: Subscription_Premium_Cancel, dtype: float64"
      ]
     },
     "execution_count": 32,
     "metadata": {},
     "output_type": "execute_result"
    }
   ],
   "source": [
    "Add_Payment_Method_Success_SPC = pd.concat([Add_Payment_Method_Success, Subscription_Premium_Cancel], axis=1, join='outer')\n",
    "Add_Payment_Method_Success_SPC = Add_Payment_Method_Success_SPC.fillna(0)\n",
    "Add_Payment_Method_Success_SPC=Add_Payment_Method_Success_SPC.astype(int)\n",
    "Add_Payment_Method_Success_SPC_corr=Add_Payment_Method_Success_SPC.corr()\n",
    "Add_Payment_Method_Success_SPC_corr=Add_Payment_Method_Success_SPC_corr.iloc[-1]\n",
    "Add_Payment_Method_Success_SPC_corr.sort_values(ascending = False)"
   ]
  },
  {
   "attachments": {},
   "cell_type": "markdown",
   "metadata": {},
   "source": [
    "Бачимо, що немає ніякої кореляції між тим, що успішно додавав метод оплати та тим, що він скасував підписку"
   ]
  },
  {
   "attachments": {},
   "cell_type": "markdown",
   "metadata": {},
   "source": [
    "- Email_Confirmation_Success"
   ]
  },
  {
   "cell_type": "code",
   "execution_count": 33,
   "metadata": {},
   "outputs": [
    {
     "data": {
      "text/plain": [
       "Email_Confirmation_Success\n",
       "{}                            195\n",
       "{\"Required\":\"true\"}           166\n",
       "dtype: int64"
      ]
     },
     "execution_count": 33,
     "metadata": {},
     "output_type": "execute_result"
    }
   ],
   "source": [
    "Email_Confirmation_Success.value_counts()"
   ]
  },
  {
   "cell_type": "code",
   "execution_count": 34,
   "metadata": {},
   "outputs": [],
   "source": [
    "# пошта підтверджена \n",
    "Email_Confirmation_Success_True=Email_Confirmation_Success[Email_Confirmation_Success['Email_Confirmation_Success']=='{}']\n",
    "Email_Confirmation_Success_True = Email_Confirmation_Success_True.replace(['{}'],1)\n",
    "Email_Confirmation_Success_True.rename(columns = {'Email_Confirmation_Success': 'Email_Confirmation_Success_True'}, inplace=True)\n",
    "\n",
    "# потрібне підтвердження пошти\n",
    "Email_Confirmation_Success_RT=Email_Confirmation_Success[Email_Confirmation_Success['Email_Confirmation_Success']=='{\"Required\":\"true\"}']\n",
    "Email_Confirmation_Success_RT = Email_Confirmation_Success_RT.replace(['{\"Required\":\"true\"}'],1)\n",
    "Email_Confirmation_Success_RT.rename(columns = {'Wallet_Opened': 'Wallet_Opened_RT'}, inplace=True)"
   ]
  },
  {
   "cell_type": "code",
   "execution_count": 35,
   "metadata": {},
   "outputs": [],
   "source": [
    "Email_Confirmation_Success_all = pd.concat([Email_Confirmation_Success_True, Email_Confirmation_Success_RT], axis=1, join='outer')\n",
    "Email_Confirmation_Success_all=Email_Confirmation_Success_all.fillna(0)"
   ]
  },
  {
   "cell_type": "code",
   "execution_count": 36,
   "metadata": {},
   "outputs": [
    {
     "data": {
      "text/plain": [
       "Subscription_Premium_Cancel        1.000000\n",
       "Email_Confirmation_Success        -0.154628\n",
       "Email_Confirmation_Success_True   -0.215676\n",
       "Name: Subscription_Premium_Cancel, dtype: float64"
      ]
     },
     "execution_count": 36,
     "metadata": {},
     "output_type": "execute_result"
    }
   ],
   "source": [
    "Email_Confirmation_Success_all_SPC = pd.concat([Email_Confirmation_Success_all, Subscription_Premium_Cancel], axis=1, join='outer')\n",
    "Email_Confirmation_Success_all_SPC = Email_Confirmation_Success_all_SPC.fillna(0)\n",
    "Email_Confirmation_Success_all_SPC= Email_Confirmation_Success_all_SPC.astype(int)\n",
    "Email_Confirmation_Success_all_SPC_corr= Email_Confirmation_Success_all_SPC.corr()\n",
    "Email_Confirmation_Success_all_SPC_corr=Email_Confirmation_Success_all_SPC_corr.iloc[-1]\n",
    "Email_Confirmation_Success_all_SPC_corr.sort_values(ascending = False)"
   ]
  },
  {
   "attachments": {},
   "cell_type": "markdown",
   "metadata": {},
   "source": [
    "Бачимо, що немає ніякої кореляції між тим, що клієнт почту підтвердив або не підтвердив та тим, що він скасував підписку"
   ]
  },
  {
   "attachments": {},
   "cell_type": "markdown",
   "metadata": {},
   "source": [
    "- Subscription_Premium"
   ]
  },
  {
   "cell_type": "code",
   "execution_count": 37,
   "metadata": {},
   "outputs": [
    {
     "data": {
      "text/plain": [
       "Subscription_Premium                                                               \n",
       "{\"Start Date\":\"2022-03-16\",\"Renewal Date\":\"2022-04-17\",\"Membership Type\":\"Monthly\"}    9\n",
       "{\"Start Date\":\"2022-03-26\",\"Renewal Date\":\"2022-04-27\",\"Membership Type\":\"Monthly\"}    8\n",
       "{\"Start Date\":\"2022-04-15\",\"Renewal Date\":\"2022-05-16\",\"Membership Type\":\"Monthly\"}    8\n",
       "{\"Start Date\":\"2022-03-02\",\"Renewal Date\":\"2022-04-03\",\"Membership Type\":\"Monthly\"}    7\n",
       "{\"Start Date\":\"2022-02-19\",\"Renewal Date\":\"2022-03-20\",\"Membership Type\":\"Monthly\"}    7\n",
       "                                                                                      ..\n",
       "{\"Start Date\":\"2022-02-07\",\"Renewal Date\":\"2022-03-08\",\"Membership Type\":\"Monthly\"}    2\n",
       "{\"Start Date\":\"2022-01-28\",\"Renewal Date\":\"2022-03-01\",\"Membership Type\":\"Monthly\"}    1\n",
       "{\"Start Date\":\"2022-02-22\",\"Renewal Date\":\"2022-03-23\",\"Membership Type\":\"Monthly\"}    1\n",
       "{\"Start Date\":\"2022-02-06\",\"Renewal Date\":\"2022-03-07\",\"Membership Type\":\"Monthly\"}    1\n",
       "{\"Start Date\":\"2022-02-10\",\"Renewal Date\":\"2022-03-11\",\"Membership Type\":\"Monthly\"}    1\n",
       "Length: 91, dtype: int64"
      ]
     },
     "execution_count": 37,
     "metadata": {},
     "output_type": "execute_result"
    }
   ],
   "source": [
    "Subscription_Premium.value_counts()"
   ]
  },
  {
   "cell_type": "code",
   "execution_count": 38,
   "metadata": {},
   "outputs": [],
   "source": [
    "# Якщо у клієнта є підписка - то 1, якщо ні - то 0\n",
    "Subscription_Premium.loc[~Subscription_Premium['Subscription_Premium'].isnull()] = 1"
   ]
  },
  {
   "cell_type": "code",
   "execution_count": 39,
   "metadata": {},
   "outputs": [
    {
     "data": {
      "text/plain": [
       "Subscription_Premium_Cancel    1.000000\n",
       "Subscription_Premium          -0.606077\n",
       "Name: Subscription_Premium_Cancel, dtype: float64"
      ]
     },
     "execution_count": 39,
     "metadata": {},
     "output_type": "execute_result"
    }
   ],
   "source": [
    "Subscription_Premium_all_SPC = pd.concat([Subscription_Premium, Subscription_Premium_Cancel], axis=1, join='outer')\n",
    "Subscription_Premium_all_SPC = Subscription_Premium_all_SPC.fillna(0)\n",
    "Subscription_Premium_all_SPC=  Subscription_Premium_all_SPC.astype(int)\n",
    "Subscription_Premium_all_SPC_corr=  Subscription_Premium_all_SPC.corr()\n",
    "Subscription_Premium_all_SPC_corr= Subscription_Premium_all_SPC_corr.iloc[-1]\n",
    "Subscription_Premium_all_SPC_corr.sort_values(ascending = False)"
   ]
  },
  {
   "attachments": {},
   "cell_type": "markdown",
   "metadata": {},
   "source": [
    "Бачимо, що немає кореляції між тим, чи є у клієнта підписка з тим, що він її скасував"
   ]
  },
  {
   "attachments": {},
   "cell_type": "markdown",
   "metadata": {},
   "source": [
    "- Calculator_View"
   ]
  },
  {
   "cell_type": "code",
   "execution_count": 40,
   "metadata": {},
   "outputs": [
    {
     "data": {
      "text/plain": [
       "Calculator_View\n",
       "{}                 231\n",
       "{}{}                 2\n",
       "dtype: int64"
      ]
     },
     "execution_count": 40,
     "metadata": {},
     "output_type": "execute_result"
    }
   ],
   "source": [
    "Calculator_View.value_counts()"
   ]
  },
  {
   "attachments": {},
   "cell_type": "markdown",
   "metadata": {},
   "source": [
    "{} - відкрив клієнт калькулятор один раз \n",
    "\n",
    "{}{} - відкрив клієнт калькулятор два рази"
   ]
  },
  {
   "cell_type": "code",
   "execution_count": 41,
   "metadata": {},
   "outputs": [],
   "source": [
    "#1 раз\n",
    "Calculator_View_1=Calculator_View[Calculator_View['Calculator_View']=='{}']\n",
    "Calculator_View_1 = Calculator_View_1.replace(['{}'],1)\n",
    "Calculator_View_1.rename(columns = {'Calculator_View': 'Calculator_View_1'}, inplace=True)\n",
    "\n",
    "#2 рази\n",
    "Calculator_View_2=Calculator_View[Calculator_View['Calculator_View']=='{}{}']\n",
    "Calculator_View_2 = Calculator_View_2.replace(['{}{}'],1)\n",
    "Calculator_View_2.rename(columns = {'Calculator_View': 'Calculator_View_2'}, inplace=True)"
   ]
  },
  {
   "cell_type": "code",
   "execution_count": 42,
   "metadata": {},
   "outputs": [],
   "source": [
    "Calculator_View_all=pd.concat([Calculator_View_1,Calculator_View_2], axis=1)\n",
    "Calculator_View_all = Calculator_View_all.fillna(0)\n",
    "Calculator_View_all=Calculator_View_all.astype(int)"
   ]
  },
  {
   "cell_type": "code",
   "execution_count": 43,
   "metadata": {},
   "outputs": [
    {
     "data": {
      "text/plain": [
       "Subscription_Premium_Cancel    1.000000\n",
       "Calculator_View_2              0.116774\n",
       "Calculator_View_1             -0.865671\n",
       "Name: Subscription_Premium_Cancel, dtype: float64"
      ]
     },
     "execution_count": 43,
     "metadata": {},
     "output_type": "execute_result"
    }
   ],
   "source": [
    "Calculator_View_all_SPC = pd.concat([Calculator_View_all, Subscription_Premium_Cancel], axis=1, join='outer')\n",
    "Calculator_View_all_SPC = Calculator_View_all_SPC.fillna(0)\n",
    "Calculator_View_all_SPC=Calculator_View_all_SPC.astype(int)\n",
    "Calculator_View_all_SPC_corr=Calculator_View_all_SPC.corr()\n",
    "Calculator_View_all_SPC_corr=Calculator_View_all_SPC_corr.iloc[-1]\n",
    "Calculator_View_all_SPC_corr.sort_values(ascending = False)"
   ]
  },
  {
   "attachments": {},
   "cell_type": "markdown",
   "metadata": {},
   "source": [
    "Бачимо кореляцію між тим, що клієнт відкрив калькулятор два рази з тим, що він скасував підписку і вона дорівнює 0.116774"
   ]
  },
  {
   "attachments": {},
   "cell_type": "markdown",
   "metadata": {},
   "source": [
    "- Sign_Out"
   ]
  },
  {
   "cell_type": "code",
   "execution_count": 44,
   "metadata": {},
   "outputs": [
    {
     "data": {
      "text/plain": [
       "Sign_Out                          \n",
       "{\"Type\":\"Manual\"}                     187\n",
       "{\"Type\":\"Auto\"}                        35\n",
       "{\"Type\":\"Manual\"}{\"Type\":\"Manual\"}      3\n",
       "{\"Type\":\"Auto\"}{\"Type\":\"Auto\"}          1\n",
       "{\"Type\":\"Auto\"}{\"Type\":\"Manual\"}        1\n",
       "{\"Type\":\"Manual\"}{\"Type\":\"Auto\"}        1\n",
       "dtype: int64"
      ]
     },
     "execution_count": 44,
     "metadata": {},
     "output_type": "execute_result"
    }
   ],
   "source": [
    "Sign_Out.value_counts()"
   ]
  },
  {
   "cell_type": "code",
   "execution_count": 45,
   "metadata": {},
   "outputs": [
    {
     "data": {
      "text/html": [
       "<div>\n",
       "<style scoped>\n",
       "    .dataframe tbody tr th:only-of-type {\n",
       "        vertical-align: middle;\n",
       "    }\n",
       "\n",
       "    .dataframe tbody tr th {\n",
       "        vertical-align: top;\n",
       "    }\n",
       "\n",
       "    .dataframe thead th {\n",
       "        text-align: right;\n",
       "    }\n",
       "</style>\n",
       "<table border=\"1\" class=\"dataframe\">\n",
       "  <thead>\n",
       "    <tr style=\"text-align: right;\">\n",
       "      <th></th>\n",
       "      <th>Sign_Out</th>\n",
       "    </tr>\n",
       "    <tr>\n",
       "      <th>userid</th>\n",
       "      <th></th>\n",
       "    </tr>\n",
       "  </thead>\n",
       "  <tbody>\n",
       "    <tr>\n",
       "      <th>0079e6902320d6771024a236ab801f2e</th>\n",
       "      <td>1</td>\n",
       "    </tr>\n",
       "    <tr>\n",
       "      <th>0136e4685e98e034bfbee6016680c21b</th>\n",
       "      <td>1</td>\n",
       "    </tr>\n",
       "    <tr>\n",
       "      <th>052642d5d16c869e7c341f53bd824328</th>\n",
       "      <td>1</td>\n",
       "    </tr>\n",
       "    <tr>\n",
       "      <th>05d8b7e9ab7759e6d9d210aee9003379</th>\n",
       "      <td>1</td>\n",
       "    </tr>\n",
       "    <tr>\n",
       "      <th>07a0d0ab07446da83579be3462bf081e</th>\n",
       "      <td>1</td>\n",
       "    </tr>\n",
       "    <tr>\n",
       "      <th>...</th>\n",
       "      <td>...</td>\n",
       "    </tr>\n",
       "    <tr>\n",
       "      <th>fb6642c0e2ee8b65e04c4f0bc2c48d42</th>\n",
       "      <td>1</td>\n",
       "    </tr>\n",
       "    <tr>\n",
       "      <th>fc817111904f14d8868601ac1e1fedeb</th>\n",
       "      <td>1</td>\n",
       "    </tr>\n",
       "    <tr>\n",
       "      <th>fc8c8752c6099c69f11d3ebd7738b3bf</th>\n",
       "      <td>1</td>\n",
       "    </tr>\n",
       "    <tr>\n",
       "      <th>fd5bc86aa11a1c4b1d17f1e78f50e4a5</th>\n",
       "      <td>1</td>\n",
       "    </tr>\n",
       "    <tr>\n",
       "      <th>fdf6855262649124354ecf8c23f31356</th>\n",
       "      <td>1</td>\n",
       "    </tr>\n",
       "  </tbody>\n",
       "</table>\n",
       "<p>228 rows × 1 columns</p>\n",
       "</div>"
      ],
      "text/plain": [
       "                                 Sign_Out\n",
       "userid                                   \n",
       "0079e6902320d6771024a236ab801f2e        1\n",
       "0136e4685e98e034bfbee6016680c21b        1\n",
       "052642d5d16c869e7c341f53bd824328        1\n",
       "05d8b7e9ab7759e6d9d210aee9003379        1\n",
       "07a0d0ab07446da83579be3462bf081e        1\n",
       "...                                   ...\n",
       "fb6642c0e2ee8b65e04c4f0bc2c48d42        1\n",
       "fc817111904f14d8868601ac1e1fedeb        1\n",
       "fc8c8752c6099c69f11d3ebd7738b3bf        1\n",
       "fd5bc86aa11a1c4b1d17f1e78f50e4a5        1\n",
       "fdf6855262649124354ecf8c23f31356        1\n",
       "\n",
       "[228 rows x 1 columns]"
      ]
     },
     "execution_count": 45,
     "metadata": {},
     "output_type": "execute_result"
    }
   ],
   "source": [
    "# Якщо клієнт вийшов - то 1, якщо ні - то 0\n",
    "Sign_Out.loc[~Sign_Out['Sign_Out'].isnull()] = 1\n",
    "Sign_Out"
   ]
  },
  {
   "cell_type": "code",
   "execution_count": 46,
   "metadata": {},
   "outputs": [
    {
     "data": {
      "text/plain": [
       "Subscription_Premium_Cancel    1.000000\n",
       "Sign_Out                      -0.865441\n",
       "Name: Subscription_Premium_Cancel, dtype: float64"
      ]
     },
     "execution_count": 46,
     "metadata": {},
     "output_type": "execute_result"
    }
   ],
   "source": [
    "Sign_Out_SPC = pd.concat([Sign_Out, Subscription_Premium_Cancel], axis=1, join='outer')\n",
    "Sign_Out_SPC = Sign_Out_SPC.fillna(0)\n",
    "Sign_Out_SPC=Sign_Out_SPC.astype(int)\n",
    "Sign_Out_SPC_corr=Sign_Out_SPC.corr()\n",
    "Sign_Out_SPC_corr=Sign_Out_SPC_corr.iloc[-1]\n",
    "Sign_Out_SPC_corr.sort_values(ascending = False)"
   ]
  },
  {
   "attachments": {},
   "cell_type": "markdown",
   "metadata": {},
   "source": [
    "Маємо обернену кореляцію  між тим , що клієнт вийшов з акаунту з тим , що він скасував підписку, ця кореляція дорівнює -0.865441"
   ]
  },
  {
   "attachments": {},
   "cell_type": "markdown",
   "metadata": {},
   "source": [
    "- Account_Setup_Profile_Skip"
   ]
  },
  {
   "cell_type": "code",
   "execution_count": 47,
   "metadata": {},
   "outputs": [
    {
     "data": {
      "text/plain": [
       "Account_Setup_Profile_Skip                                    \n",
       "{\"Screen\":\"Address\"}{\"Screen\":\"Phone number\"}                     40\n",
       "{\"Screen\":\"Address\"}                                              37\n",
       "{\"Screen\":\"Address\"}{\"Screen\":\"Phone Number\"}                     32\n",
       "{\"Screen\":\"Address details\"}                                      22\n",
       "{\"Screen\":\"Phone number\"}                                         13\n",
       "{\"Screen\":\"Name\"}                                                 10\n",
       "{\"Screen\":\"Name\"}{\"Screen\":\"Address\"}{\"Screen\":\"Phone Number\"}     9\n",
       "{\"Screen\":\"Name\"}{\"Screen\":\"Address\"}{\"Screen\":\"Phone number\"}     9\n",
       "{\"Screen\":\"Phone Number\"}                                          9\n",
       "{\"Screen\":\"Address Details\"}                                       3\n",
       "{\"Screen\":\"Address details\"}{\"Screen\":\"Phone number\"}              2\n",
       "{\"Screen\":\"Phone number exists\"}                                   2\n",
       "dtype: int64"
      ]
     },
     "execution_count": 47,
     "metadata": {},
     "output_type": "execute_result"
    }
   ],
   "source": [
    "Account_Setup_Profile_Skip.value_counts()"
   ]
  },
  {
   "cell_type": "code",
   "execution_count": 48,
   "metadata": {},
   "outputs": [
    {
     "data": {
      "text/html": [
       "<div>\n",
       "<style scoped>\n",
       "    .dataframe tbody tr th:only-of-type {\n",
       "        vertical-align: middle;\n",
       "    }\n",
       "\n",
       "    .dataframe tbody tr th {\n",
       "        vertical-align: top;\n",
       "    }\n",
       "\n",
       "    .dataframe thead th {\n",
       "        text-align: right;\n",
       "    }\n",
       "</style>\n",
       "<table border=\"1\" class=\"dataframe\">\n",
       "  <thead>\n",
       "    <tr style=\"text-align: right;\">\n",
       "      <th></th>\n",
       "      <th>Account_Setup_Profile_Skip</th>\n",
       "    </tr>\n",
       "    <tr>\n",
       "      <th>userid</th>\n",
       "      <th></th>\n",
       "    </tr>\n",
       "  </thead>\n",
       "  <tbody>\n",
       "    <tr>\n",
       "      <th>0136e4685e98e034bfbee6016680c21b</th>\n",
       "      <td>1</td>\n",
       "    </tr>\n",
       "    <tr>\n",
       "      <th>03a8fa7b862ce82bbc5963dc72e99e62</th>\n",
       "      <td>1</td>\n",
       "    </tr>\n",
       "    <tr>\n",
       "      <th>052642d5d16c869e7c341f53bd824328</th>\n",
       "      <td>1</td>\n",
       "    </tr>\n",
       "    <tr>\n",
       "      <th>0863b355ac677a9b85ce5984bf876dc5</th>\n",
       "      <td>1</td>\n",
       "    </tr>\n",
       "    <tr>\n",
       "      <th>0a50cee56268e3c8875fcc59baaf3ee2</th>\n",
       "      <td>1</td>\n",
       "    </tr>\n",
       "    <tr>\n",
       "      <th>...</th>\n",
       "      <td>...</td>\n",
       "    </tr>\n",
       "    <tr>\n",
       "      <th>f56ebcd64fc631a63524044081c72aeb</th>\n",
       "      <td>1</td>\n",
       "    </tr>\n",
       "    <tr>\n",
       "      <th>f5b89fd61ad0cc105f6f0c48289c339a</th>\n",
       "      <td>1</td>\n",
       "    </tr>\n",
       "    <tr>\n",
       "      <th>f5bd3257ad0018bf2715414b3272f840</th>\n",
       "      <td>1</td>\n",
       "    </tr>\n",
       "    <tr>\n",
       "      <th>f87767cfda7bfd30820f0a53fd179eaa</th>\n",
       "      <td>1</td>\n",
       "    </tr>\n",
       "    <tr>\n",
       "      <th>fa8574e4b97ff04270a538ab8d41a287</th>\n",
       "      <td>1</td>\n",
       "    </tr>\n",
       "  </tbody>\n",
       "</table>\n",
       "<p>188 rows × 1 columns</p>\n",
       "</div>"
      ],
      "text/plain": [
       "                                 Account_Setup_Profile_Skip\n",
       "userid                                                     \n",
       "0136e4685e98e034bfbee6016680c21b                          1\n",
       "03a8fa7b862ce82bbc5963dc72e99e62                          1\n",
       "052642d5d16c869e7c341f53bd824328                          1\n",
       "0863b355ac677a9b85ce5984bf876dc5                          1\n",
       "0a50cee56268e3c8875fcc59baaf3ee2                          1\n",
       "...                                                     ...\n",
       "f56ebcd64fc631a63524044081c72aeb                          1\n",
       "f5b89fd61ad0cc105f6f0c48289c339a                          1\n",
       "f5bd3257ad0018bf2715414b3272f840                          1\n",
       "f87767cfda7bfd30820f0a53fd179eaa                          1\n",
       "fa8574e4b97ff04270a538ab8d41a287                          1\n",
       "\n",
       "[188 rows x 1 columns]"
      ]
     },
     "execution_count": 48,
     "metadata": {},
     "output_type": "execute_result"
    }
   ],
   "source": [
    "# Якщо клієнт пропустив налаштування профілю - то 1, якщо ні - то 0\n",
    "Account_Setup_Profile_Skip.loc[~Account_Setup_Profile_Skip['Account_Setup_Profile_Skip'].isnull()] = 1\n",
    "Account_Setup_Profile_Skip"
   ]
  },
  {
   "cell_type": "code",
   "execution_count": 49,
   "metadata": {},
   "outputs": [
    {
     "data": {
      "text/plain": [
       "Subscription_Premium_Cancel    1.000000\n",
       "Account_Setup_Profile_Skip    -0.977969\n",
       "Name: Subscription_Premium_Cancel, dtype: float64"
      ]
     },
     "execution_count": 49,
     "metadata": {},
     "output_type": "execute_result"
    }
   ],
   "source": [
    "Account_Setup_Profile_Skip_SPC = pd.concat([Account_Setup_Profile_Skip, Subscription_Premium_Cancel], axis=1, join='outer')\n",
    "Account_Setup_Profile_Skip_SPC = Account_Setup_Profile_Skip_SPC.fillna(0)\n",
    "Account_Setup_Profile_Skip_SPC=Account_Setup_Profile_Skip_SPC.astype(int)\n",
    "Account_Setup_Profile_Skip_SPC_corr=Account_Setup_Profile_Skip_SPC.corr()\n",
    "Account_Setup_Profile_Skip_SPC_corr=Account_Setup_Profile_Skip_SPC_corr.iloc[-1]\n",
    "Account_Setup_Profile_Skip_SPC_corr.sort_values(ascending = False)"
   ]
  },
  {
   "attachments": {},
   "cell_type": "markdown",
   "metadata": {},
   "source": [
    "Бачимо, що немає кореляції між клієнтами, які пропустили налаштування профілю з тим, що клієнти скасували підписку.\n",
    "Але якщо клієнт не пропустив налаштування профілю, то видно, що в нас велика кореляція з тим, що він скасує підписку "
   ]
  },
  {
   "attachments": {},
   "cell_type": "markdown",
   "metadata": {},
   "source": [
    "- Add_Vehicle_Break"
   ]
  },
  {
   "cell_type": "code",
   "execution_count": 50,
   "metadata": {},
   "outputs": [
    {
     "data": {
      "text/plain": [
       "Add_Vehicle_Break\n",
       "{}                   211\n",
       "dtype: int64"
      ]
     },
     "execution_count": 50,
     "metadata": {},
     "output_type": "execute_result"
    }
   ],
   "source": [
    "Add_Vehicle_Break.value_counts()"
   ]
  },
  {
   "cell_type": "code",
   "execution_count": 51,
   "metadata": {},
   "outputs": [
    {
     "data": {
      "text/html": [
       "<div>\n",
       "<style scoped>\n",
       "    .dataframe tbody tr th:only-of-type {\n",
       "        vertical-align: middle;\n",
       "    }\n",
       "\n",
       "    .dataframe tbody tr th {\n",
       "        vertical-align: top;\n",
       "    }\n",
       "\n",
       "    .dataframe thead th {\n",
       "        text-align: right;\n",
       "    }\n",
       "</style>\n",
       "<table border=\"1\" class=\"dataframe\">\n",
       "  <thead>\n",
       "    <tr style=\"text-align: right;\">\n",
       "      <th></th>\n",
       "      <th>Add_Vehicle_Break</th>\n",
       "    </tr>\n",
       "    <tr>\n",
       "      <th>userid</th>\n",
       "      <th></th>\n",
       "    </tr>\n",
       "  </thead>\n",
       "  <tbody>\n",
       "    <tr>\n",
       "      <th>008dcdca320fbd55c289dd1f6d21d672</th>\n",
       "      <td>1</td>\n",
       "    </tr>\n",
       "    <tr>\n",
       "      <th>01529f53aaba5b512168d432d5650556</th>\n",
       "      <td>1</td>\n",
       "    </tr>\n",
       "    <tr>\n",
       "      <th>02ea6c406a8d4d65cf25ea527ec83403</th>\n",
       "      <td>1</td>\n",
       "    </tr>\n",
       "    <tr>\n",
       "      <th>03a8fa7b862ce82bbc5963dc72e99e62</th>\n",
       "      <td>1</td>\n",
       "    </tr>\n",
       "    <tr>\n",
       "      <th>03b74f9eedd297ea3dee1db83269d973</th>\n",
       "      <td>1</td>\n",
       "    </tr>\n",
       "    <tr>\n",
       "      <th>...</th>\n",
       "      <td>...</td>\n",
       "    </tr>\n",
       "    <tr>\n",
       "      <th>f40765f0ec0f11bbfdf99a564ce9f86d</th>\n",
       "      <td>1</td>\n",
       "    </tr>\n",
       "    <tr>\n",
       "      <th>f7d597781ec1c52eea0c04de2269f1bc</th>\n",
       "      <td>1</td>\n",
       "    </tr>\n",
       "    <tr>\n",
       "      <th>f81c03566135693f04d9f03016a5cc82</th>\n",
       "      <td>1</td>\n",
       "    </tr>\n",
       "    <tr>\n",
       "      <th>f87767cfda7bfd30820f0a53fd179eaa</th>\n",
       "      <td>1</td>\n",
       "    </tr>\n",
       "    <tr>\n",
       "      <th>f9ae02749af27f1aa62252d501c52fd1</th>\n",
       "      <td>1</td>\n",
       "    </tr>\n",
       "  </tbody>\n",
       "</table>\n",
       "<p>211 rows × 1 columns</p>\n",
       "</div>"
      ],
      "text/plain": [
       "                                 Add_Vehicle_Break\n",
       "userid                                            \n",
       "008dcdca320fbd55c289dd1f6d21d672                 1\n",
       "01529f53aaba5b512168d432d5650556                 1\n",
       "02ea6c406a8d4d65cf25ea527ec83403                 1\n",
       "03a8fa7b862ce82bbc5963dc72e99e62                 1\n",
       "03b74f9eedd297ea3dee1db83269d973                 1\n",
       "...                                            ...\n",
       "f40765f0ec0f11bbfdf99a564ce9f86d                 1\n",
       "f7d597781ec1c52eea0c04de2269f1bc                 1\n",
       "f81c03566135693f04d9f03016a5cc82                 1\n",
       "f87767cfda7bfd30820f0a53fd179eaa                 1\n",
       "f9ae02749af27f1aa62252d501c52fd1                 1\n",
       "\n",
       "[211 rows x 1 columns]"
      ]
     },
     "execution_count": 51,
     "metadata": {},
     "output_type": "execute_result"
    }
   ],
   "source": [
    "# Якщо клієнт зробив перерву в русі автомобіля - то 1, якщо ні - то 0\n",
    "Add_Vehicle_Break.loc[~Add_Vehicle_Break['Add_Vehicle_Break'].isnull()] = 1\n",
    "Add_Vehicle_Break"
   ]
  },
  {
   "cell_type": "code",
   "execution_count": 52,
   "metadata": {},
   "outputs": [
    {
     "data": {
      "text/plain": [
       "Subscription_Premium_Cancel    1.000000\n",
       "Add_Vehicle_Break             -0.911105\n",
       "Name: Subscription_Premium_Cancel, dtype: float64"
      ]
     },
     "execution_count": 52,
     "metadata": {},
     "output_type": "execute_result"
    }
   ],
   "source": [
    "Add_Vehicle_Break_SPC = pd.concat([Add_Vehicle_Break, Subscription_Premium_Cancel], axis=1, join='outer')\n",
    "Add_Vehicle_Break_SPC = Add_Vehicle_Break_SPC.fillna(0)\n",
    "Add_Vehicle_Break_SPC=Add_Vehicle_Break_SPC.astype(int)\n",
    "Add_Vehicle_Break_SPC_corr=Add_Vehicle_Break_SPC.corr()\n",
    "Add_Vehicle_Break_SPC_corr=Add_Vehicle_Break_SPC_corr.iloc[-1]\n",
    "Add_Vehicle_Break_SPC_corr.sort_values(ascending = False)"
   ]
  },
  {
   "attachments": {},
   "cell_type": "markdown",
   "metadata": {},
   "source": [
    "Немає кореляції між тим, що клієнт додав паузу у русі автомобіля та тим, що він скасував підписку"
   ]
  },
  {
   "attachments": {},
   "cell_type": "markdown",
   "metadata": {},
   "source": [
    "- Add_Payment_Method_Failed"
   ]
  },
  {
   "cell_type": "code",
   "execution_count": 53,
   "metadata": {},
   "outputs": [
    {
     "data": {
      "text/plain": [
       "Add_Payment_Method_Failed                                                                                                                                                                                                                                                                                                                                                                                                                                                                                                                                       \n",
       "{\"Error Code\":\"ERROR-16010\",\"Error Message\":\"Card is debit but credit is required.\",\"Payment Method\":\"Credit Card\",\"Tokenized Pay\":\"\"}                                                                                                                                                                                                                                                                                                                                                                                                                              48\n",
       "{\"Error Message\":\"Card is debit but credit is required.\",\"Payment Method\":\"Credit Card\",\"Error Code\":\"ERROR-16010\"}                                                                                                                                                                                                                                                                                                                                                                                                                                                 17\n",
       "{\"Error Message\":\"Card is debit but credit is required.\",\"Tokenized Pay\":\"Apple Pay\",\"Payment Method\":\"Credit Card\",\"Error Code\":\"ERROR-16010\"}                                                                                                                                                                                                                                                                                                                                                                                                                     17\n",
       "{\"Error Code\":\"ERROR-16010\",\"Error Message\":\"Card is debit but credit is required.\",\"Payment Method\":\"Google Pay\",\"Tokenized Pay\":\"Google Pay\"}                                                                                                                                                                                                                                                                                                                                                                                                                     15\n",
       "{\"Error Message\":\"Card is debit but credit is required.\",\"Error Code\":\"ERROR-16010\",\"Payment Method\":\"Credit Card\"}                                                                                                                                                                                                                                                                                                                                                                                                                                                 15\n",
       "{\"Error Code\":\"ERROR-16010\",\"Payment Method\":\"Credit Card\",\"Error Message\":\"Card is debit but credit is required.\"}                                                                                                                                                                                                                                                                                                                                                                                                                                                 11\n",
       "{\"Tokenized Pay\":\"Apple Pay\",\"Payment Method\":\"Credit Card\",\"Error Message\":\"Card is debit but credit is required.\",\"Error Code\":\"ERROR-16010\"}                                                                                                                                                                                                                                                                                                                                                                                                                     10\n",
       "{\"Error Code\":\"ERROR-NaN10\",\"Error Message\":\"Payment method failed verification.\",\"Payment Method\":\"Credit Card\",\"Tokenized Pay\":\"\"}                                                                                                                                                                                                                                                                                                                                                                                                                                 9\n",
       "{\"Error Code\":\"ERROR-16010\",\"Error Message\":\"Card is debit but credit is required.\",\"Payment Method\":\"Credit Card\"}                                                                                                                                                                                                                                                                                                                                                                                                                                                  9\n",
       "{\"Error Code\":\"ERROR-16010\",\"Tokenized Pay\":\"Apple Pay\",\"Payment Method\":\"Credit Card\",\"Error Message\":\"Card is debit but credit is required.\"}                                                                                                                                                                                                                                                                                                                                                                                                                      6\n",
       "{\"Tokenized Pay\":\"Apple Pay\",\"Payment Method\":\"Credit Card\",\"Error Code\":\"ERROR-16010\",\"Error Message\":\"Card is debit but credit is required.\"}                                                                                                                                                                                                                                                                                                                                                                                                                      5\n",
       "{\"Error Message\":\"Card is debit but credit is required.\",\"Payment Method\":\"Credit Card\",\"Error Code\":\"ERROR-16010\"}{\"Error Code\":\"ERROR-16010\",\"Payment Method\":\"Credit Card\",\"Error Message\":\"Card is debit but credit is required.\"}                                                                                                                                                                                                                                                                                                                               3\n",
       "{\"Error Code\":\"ERROR-16010\",\"Error Message\":\"Card is debit but credit is required.\",\"Payment Method\":\"Google Pay\",\"Tokenized Pay\":\"Google Pay\"}{\"Error Code\":\"ERROR-16010\",\"Error Message\":\"Card is debit but credit is required.\",\"Payment Method\":\"Credit Card\",\"Tokenized Pay\":\"\"}                                                                                                                                                                                                                                                                                3\n",
       "{\"Error Code\":\"ERROR-NaN10\",\"Payment Method\":\"Credit Card\",\"Error Message\":\"Payment method failed verification.\"}                                                                                                                                                                                                                                                                                                                                                                                                                                                    3\n",
       "{\"Error Code\":\"ERROR-16010\",\"Error Message\":\"Card is debit but credit is required.\",\"Payment Method\":\"Credit Card\",\"Tokenized Pay\":\"\"}{\"Error Code\":\"ERROR-16010\",\"Error Message\":\"Card is debit but credit is required.\",\"Payment Method\":\"Google Pay\",\"Tokenized Pay\":\"Google Pay\"}                                                                                                                                                                                                                                                                                3\n",
       "{\"Error Message\":\"Payment method failed verification.\",\"Payment Method\":\"Credit Card\",\"Error Code\":\"ERROR-NaN10\"}                                                                                                                                                                                                                                                                                                                                                                                                                                                    2\n",
       "{\"Error Message\":\"Card is debit but credit is required.\",\"Payment Method\":\"Credit Card\",\"Error Code\":\"ERROR-16010\"}{\"Error Code\":\"ERROR-16010\",\"Error Message\":\"Card is debit but credit is required.\",\"Payment Method\":\"Credit Card\"}                                                                                                                                                                                                                                                                                                                               2\n",
       "{\"Tokenized Pay\":\"Apple Pay\",\"Payment Method\":\"Credit Card\",\"Error Code\":\"ERROR-16010\",\"Error Message\":\"Card is debit but credit is required.\"}{\"Tokenized Pay\":\"Apple Pay\",\"Payment Method\":\"Credit Card\",\"Error Message\":\"Card is debit but credit is required.\",\"Error Code\":\"ERROR-16010\"}                                                                                                                                                                                                                                                                       2\n",
       "{\"Error Message\":\"Card is debit but credit is required.\",\"Tokenized Pay\":\"Apple Pay\",\"Payment Method\":\"Credit Card\",\"Error Code\":\"ERROR-16010\"}{\"Error Message\":\"Card is debit but credit is required.\",\"Payment Method\":\"Credit Card\",\"Error Code\":\"ERROR-16010\"}                                                                                                                                                                                                                                                                                                   2\n",
       "{\"Error Message\":\"Card is debit but credit is required.\",\"Tokenized Pay\":\"Apple Pay\",\"Payment Method\":\"Credit Card\",\"Error Code\":\"ERROR-16010\"}{\"Tokenized Pay\":\"Apple Pay\",\"Payment Method\":\"Credit Card\",\"Error Message\":\"Card is debit but credit is required.\",\"Error Code\":\"ERROR-16010\"}{\"Error Code\":\"ERROR-16010\",\"Payment Method\":\"Credit Card\",\"Error Message\":\"Card is debit but credit is required.\"}                                                                                                                                                    1\n",
       "{\"Tokenized Pay\":\"Apple Pay\",\"Payment Method\":\"Credit Card\",\"Error Code\":\"ERROR-16010\",\"Error Message\":\"Card is debit but credit is required.\"}{\"Error Message\":\"Card is debit but credit is required.\",\"Error Code\":\"ERROR-16010\",\"Payment Method\":\"Credit Card\"}                                                                                                                                                                                                                                                                                                   1\n",
       "{\"Error Message\":\"Payment method failed verification.\",\"Error Code\":\"ERROR-NaN10\",\"Payment Method\":\"Credit Card\"}                                                                                                                                                                                                                                                                                                                                                                                                                                                    1\n",
       "{\"Tokenized Pay\":\"Apple Pay\",\"Payment Method\":\"Credit Card\",\"Error Code\":\"ERROR-16010\",\"Error Message\":\"Card is debit but credit is required.\"}{\"Error Code\":\"ERROR-16010\",\"Tokenized Pay\":\"Apple Pay\",\"Payment Method\":\"Credit Card\",\"Error Message\":\"Card is debit but credit is required.\"}                                                                                                                                                                                                                                                                       1\n",
       "{\"Tokenized Pay\":\"Apple Pay\",\"Payment Method\":\"Credit Card\",\"Error Code\":\"ERROR-16010\",\"Error Message\":\"Card is debit but credit is required.\"}{\"Error Message\":\"Card is debit but credit is required.\",\"Error Code\":\"ERROR-16010\",\"Payment Method\":\"Credit Card\"}{\"Error Message\":\"Card is debit but credit is required.\",\"Payment Method\":\"Credit Card\",\"Error Code\":\"ERROR-16010\"}                                                                                                                                                                                1\n",
       "{\"Tokenized Pay\":\"Apple Pay\",\"Payment Method\":\"Credit Card\",\"Error Code\":\"ERROR-16010\",\"Error Message\":\"Card is debit but credit is required.\"}{\"Error Message\":\"Card is debit but credit is required.\",\"Tokenized Pay\":\"Apple Pay\",\"Payment Method\":\"Credit Card\",\"Error Code\":\"ERROR-16010\"}                                                                                                                                                                                                                                                                       1\n",
       "{\"Tokenized Pay\":\"Apple Pay\",\"Payment Method\":\"Credit Card\",\"Error Code\":\"ERROR-16010\",\"Error Message\":\"Card is debit but credit is required.\"}{\"Error Message\":\"Payment method failed verification.\",\"Payment Method\":\"Credit Card\",\"Error Code\":\"ERROR-NaN10\"}                                                                                                                                                                                                                                                                                                     1\n",
       "{\"Tokenized Pay\":\"Apple Pay\",\"Payment Method\":\"Credit Card\",\"Error Message\":\"Card is debit but credit is required.\",\"Error Code\":\"ERROR-16010\"}{\"Error Code\":\"ERROR-16010\",\"Tokenized Pay\":\"Apple Pay\",\"Payment Method\":\"Credit Card\",\"Error Message\":\"Card is debit but credit is required.\"}{\"Tokenized Pay\":\"Apple Pay\",\"Payment Method\":\"Credit Card\",\"Error Code\":\"ERROR-16010\",\"Error Message\":\"Card is debit but credit is required.\"}{\"Error Message\":\"Card is debit but credit is required.\",\"Payment Method\":\"Credit Card\",\"Error Code\":\"ERROR-16010\"}     1\n",
       "{\"Tokenized Pay\":\"Apple Pay\",\"Payment Method\":\"Credit Card\",\"Error Message\":\"Card is debit but credit is required.\",\"Error Code\":\"ERROR-16010\"}{\"Error Message\":\"CVV must be 4 digits for American Express and 3 digits for other card types.\",\"Error Code\":\"ERROR-NaN10\",\"Payment Method\":\"Credit Card\"}                                                                                                                                                                                                                                                            1\n",
       "{\"Error Message\":\"Card is debit but credit is required.\",\"Tokenized Pay\":\"Apple Pay\",\"Payment Method\":\"Credit Card\",\"Error Code\":\"ERROR-16010\"}{\"Error Code\":\"ERROR-16010\",\"Payment Method\":\"Credit Card\",\"Error Message\":\"Card is debit but credit is required.\"}{\"Error Message\":\"Card is debit but credit is required.\",\"Error Code\":\"ERROR-16010\",\"Payment Method\":\"Credit Card\"}                                                                                                                                                                                1\n",
       "{\"Error Message\":\"Card is debit but credit is required.\",\"Error Code\":\"ERROR-16010\",\"Payment Method\":\"Credit Card\"}{\"Error Code\":\"ERROR-NaN10\",\"Error Message\":\"Payment method failed verification.\",\"Payment Method\":\"Credit Card\"}                                                                                                                                                                                                                                                                                                                                 1\n",
       "{\"Error Message\":\"Card is debit but credit is required.\",\"Payment Method\":\"Credit Card\",\"Error Code\":\"ERROR-16010\"}{\"Tokenized Pay\":\"Apple Pay\",\"Payment Method\":\"Credit Card\",\"Error Code\":\"ERROR-16010\",\"Error Message\":\"Card is debit but credit is required.\"}                                                                                                                                                                                                                                                                                                   1\n",
       "{\"Error Code\":\"ERROR-16010\",\"Tokenized Pay\":\"Apple Pay\",\"Payment Method\":\"Credit Card\",\"Error Message\":\"Card is debit but credit is required.\"}{\"Error Message\":\"Card is debit but credit is required.\",\"Tokenized Pay\":\"Apple Pay\",\"Payment Method\":\"Credit Card\",\"Error Code\":\"ERROR-16010\"}                                                                                                                                                                                                                                                                       1\n",
       "{\"Error Code\":\"ERROR-16010\",\"Error Message\":\"Card is debit but credit is required.\",\"Payment Method\":\"Credit Card\"}{\"Error Code\":\"ERROR-16010\",\"Payment Method\":\"Credit Card\",\"Error Message\":\"Card is debit but credit is required.\"}                                                                                                                                                                                                                                                                                                                               1\n",
       "{\"Error Code\":\"ERROR-16010\",\"Error Message\":\"Card is debit but credit is required.\",\"Payment Method\":\"Credit Card\"}{\"Error Code\":\"ERROR-16010\",\"Tokenized Pay\":\"Apple Pay\",\"Payment Method\":\"Credit Card\",\"Error Message\":\"Card is debit but credit is required.\"}{\"Error Message\":\"Card is debit but credit is required.\",\"Tokenized Pay\":\"Apple Pay\",\"Payment Method\":\"Credit Card\",\"Error Code\":\"ERROR-16010\"}                                                                                                                                                    1\n",
       "{\"Error Code\":\"ERROR-16010\",\"Error Message\":\"Card is debit but credit is required.\",\"Payment Method\":\"Credit Card\"}{\"Error Message\":\"Card is debit but credit is required.\",\"Payment Method\":\"Credit Card\",\"Error Code\":\"ERROR-16010\"}                                                                                                                                                                                                                                                                                                                               1\n",
       "{\"Error Code\":\"ERROR-16010\",\"Error Message\":\"Card is debit but credit is required.\",\"Payment Method\":\"Credit Card\"}{\"Error Message\":\"Payment method failed verification.\",\"Error Code\":\"ERROR-NaN10\",\"Payment Method\":\"Credit Card\"}                                                                                                                                                                                                                                                                                                                                 1\n",
       "{\"Error Code\":\"ERROR-16010\",\"Payment Method\":\"Credit Card\",\"Error Message\":\"Card is debit but credit is required.\"}{\"Error Message\":\"Card is debit but credit is required.\",\"Payment Method\":\"Credit Card\",\"Error Code\":\"ERROR-16010\"}                                                                                                                                                                                                                                                                                                                               1\n",
       "{\"Error Code\":\"ERROR-16010\",\"Tokenized Pay\":\"Apple Pay\",\"Payment Method\":\"Credit Card\",\"Error Message\":\"Card is debit but credit is required.\"}{\"Error Message\":\"Card is debit but credit is required.\",\"Payment Method\":\"Credit Card\",\"Error Code\":\"ERROR-16010\"}                                                                                                                                                                                                                                                                                                   1\n",
       "{\"Error Code\":\"ERROR-16010\",\"Tokenized Pay\":\"Apple Pay\",\"Payment Method\":\"Credit Card\",\"Error Message\":\"Card is debit but credit is required.\"}{\"Tokenized Pay\":\"Apple Pay\",\"Payment Method\":\"Credit Card\",\"Error Code\":\"ERROR-16010\",\"Error Message\":\"Card is debit but credit is required.\"}                                                                                                                                                                                                                                                                       1\n",
       "{\"Error Message\":\"Card is debit but credit is required.\",\"Payment Method\":\"Credit Card\",\"Error Code\":\"ERROR-16010\"}{\"Error Message\":\"Card is debit but credit is required.\",\"Error Code\":\"ERROR-16010\",\"Payment Method\":\"Credit Card\"}                                                                                                                                                                                                                                                                                                                               1\n",
       "{\"Error Code\":\"ERROR-NaN10\",\"Error Message\":\"CVV must be 4 digits for American Express and 3 digits for other card types.\",\"Payment Method\":\"Credit Card\"}                                                                                                                                                                                                                                                                                                                                                                                                           1\n",
       "{\"Error Code\":\"ERROR-NaN10\",\"Error Message\":\"Payment method failed verification.\",\"Payment Method\":\"Credit Card\",\"Tokenized Pay\":\"\"}{\"Error Code\":\"ERROR-16010\",\"Error Message\":\"Card is debit but credit is required.\",\"Payment Method\":\"Credit Card\",\"Tokenized Pay\":\"\"}                                                                                                                                                                                                                                                                                           1\n",
       "{\"Error Code\":\"ERROR-NaN10\",\"Error Message\":\"Postal code can only contain letters, numbers, spaces, and hyphens.\",\"Payment Method\":\"Credit Card\"}                                                                                                                                                                                                                                                                                                                                                                                                                    1\n",
       "{\"Error Code\":\"ERROR-NaN10\",\"Payment Method\":\"Credit Card\",\"Error Message\":\"CVV must be 4 digits for American Express and 3 digits for other card types.\"}{\"Error Code\":\"ERROR-NaN10\",\"Error Message\":\"CVV must be 4 digits for American Express and 3 digits for other card types.\",\"Payment Method\":\"Credit Card\"}{\"Error Message\":\"CVV must be 4 digits for American Express and 3 digits for other card types.\",\"Payment Method\":\"Credit Card\",\"Error Code\":\"ERROR-NaN10\"}                                                                                       1\n",
       "{\"Error Code\":\"ERROR-NaN10\",\"Payment Method\":\"Credit Card\",\"Error Message\":\"Payment method failed verification.\"}{\"Error Message\":\"Payment method failed verification.\",\"Payment Method\":\"Credit Card\",\"Error Code\":\"ERROR-NaN10\"}                                                                                                                                                                                                                                                                                                                                   1\n",
       "{\"Error Message\":\"Card is debit but credit is required.\",\"Payment Method\":\"Credit Card\",\"Error Code\":\"ERROR-16010\"}{\"Error Code\":\"ERROR-NaN10\",\"Payment Method\":\"Credit Card\",\"Error Message\":\"Payment method failed verification.\"}                                                                                                                                                                                                                                                                                                                                 1\n",
       "{\"Tokenized Pay\":\"Apple Pay\",\"Payment Method\":\"Credit Card\",\"Error Message\":\"Card is debit but credit is required.\",\"Error Code\":\"ERROR-16010\"}{\"Error Message\":\"Card is debit but credit is required.\",\"Tokenized Pay\":\"Apple Pay\",\"Payment Method\":\"Credit Card\",\"Error Code\":\"ERROR-16010\"}{\"Error Code\":\"ERROR-16010\",\"Payment Method\":\"Credit Card\",\"Error Message\":\"Card is debit but credit is required.\"}                                                                                                                                                    1\n",
       "dtype: int64"
      ]
     },
     "execution_count": 53,
     "metadata": {},
     "output_type": "execute_result"
    }
   ],
   "source": [
    "Add_Payment_Method_Failed.value_counts()"
   ]
  },
  {
   "cell_type": "code",
   "execution_count": 54,
   "metadata": {},
   "outputs": [],
   "source": [
    "# Якщо у клієнта сталася помилка з додаванням методу оплати - то 1, якщо ні - то 0\n",
    "Add_Payment_Method_Failed.loc[~Add_Payment_Method_Failed['Add_Payment_Method_Failed'].isnull()] = 1"
   ]
  },
  {
   "cell_type": "code",
   "execution_count": 55,
   "metadata": {},
   "outputs": [
    {
     "data": {
      "text/plain": [
       "Subscription_Premium_Cancel    1.0\n",
       "Add_Payment_Method_Failed     -1.0\n",
       "Name: Subscription_Premium_Cancel, dtype: float64"
      ]
     },
     "execution_count": 55,
     "metadata": {},
     "output_type": "execute_result"
    }
   ],
   "source": [
    "Add_Payment_Method_Failed_SPC = pd.concat([Add_Payment_Method_Failed, Subscription_Premium_Cancel], axis=1, join='outer')\n",
    "Add_Payment_Method_Failed_SPC = Add_Payment_Method_Failed_SPC.fillna(0)\n",
    "Add_Payment_Method_Failed_SPC=Add_Payment_Method_Failed_SPC.astype(int)\n",
    "Add_Payment_Method_Failed_SPC_corr=Add_Payment_Method_Failed_SPC.corr()\n",
    "Add_Payment_Method_Failed_SPC_corr=Add_Payment_Method_Failed_SPC_corr.iloc[-1]\n",
    "Add_Payment_Method_Failed_SPC_corr.sort_values(ascending = False)"
   ]
  },
  {
   "attachments": {},
   "cell_type": "markdown",
   "metadata": {},
   "source": [
    "Бачимо, що взагалі немає такого клієнта, в якого сталася помилка з додаванням методу оплати, щоб він скасував підписку"
   ]
  },
  {
   "attachments": {},
   "cell_type": "markdown",
   "metadata": {},
   "source": [
    "- Transaction_Refund"
   ]
  },
  {
   "cell_type": "code",
   "execution_count": 56,
   "metadata": {},
   "outputs": [
    {
     "data": {
      "text/plain": [
       "Transaction_Refund                                         \n",
       "{\"Id\":\"052ba99232fe3c50eef480d6fb6f362b\",\"Amount\":\"-50\"}       1\n",
       "{\"Id\":\"988623b2afe555a1ee3f51bacbcbf064\",\"Amount\":\"-8.14\"}     1\n",
       "{\"Id\":\"ae886bef41f1bee1fcb9b9d21453e1bd\",\"Amount\":\"-50\"}       1\n",
       "{\"Id\":\"abb700649f62a3d92ddcdf33e98862e1\",\"Amount\":\"-10\"}       1\n",
       "{\"Id\":\"aa01b6224e43702c3f89fec0f893bd0a\",\"Amount\":\"-16.62\"}    1\n",
       "                                                              ..\n",
       "{\"Id\":\"417fb1dfecc15925902300432b3ae4ef\",\"Amount\":\"-20\"}       1\n",
       "{\"Id\":\"3f13bdc53ae75f950f141d454534591b\",\"Amount\":\"-20\"}       1\n",
       "{\"Id\":\"3c8b2b7ed2b8063f51eb31d70ed00e26\",\"Amount\":\"-20\"}       1\n",
       "{\"Id\":\"3857f1c2e0c0df4b42c3d0cb7839908e\",\"Amount\":\"-20\"}       1\n",
       "{\"Id\":\"ffa17017e78d166c92265aa97d515dd3\",\"Amount\":\"-50\"}       1\n",
       "Length: 78, dtype: int64"
      ]
     },
     "execution_count": 56,
     "metadata": {},
     "output_type": "execute_result"
    }
   ],
   "source": [
    "Transaction_Refund.value_counts()"
   ]
  },
  {
   "cell_type": "code",
   "execution_count": 57,
   "metadata": {},
   "outputs": [],
   "source": [
    "# Якщо клієнту повернули транзакцію - то 1, якщо ні - то 0\n",
    "Transaction_Refund.loc[~Transaction_Refund['Transaction_Refund'].isnull()] = 1"
   ]
  },
  {
   "cell_type": "code",
   "execution_count": 58,
   "metadata": {},
   "outputs": [
    {
     "data": {
      "text/plain": [
       "Subscription_Premium_Cancel    1.000000\n",
       "Transaction_Refund            -0.788227\n",
       "Name: Subscription_Premium_Cancel, dtype: float64"
      ]
     },
     "execution_count": 58,
     "metadata": {},
     "output_type": "execute_result"
    }
   ],
   "source": [
    "Transaction_Refund_SPC = pd.concat([Transaction_Refund, Subscription_Premium_Cancel], axis=1, join='outer')\n",
    "Transaction_Refund_SPC = Transaction_Refund_SPC.fillna(0)\n",
    "Transaction_Refund_SPC=Transaction_Refund_SPC.astype(int)\n",
    "Transaction_Refund_SPC_corr=Transaction_Refund_SPC.corr()\n",
    "Transaction_Refund_SPC_corr=Transaction_Refund_SPC_corr.iloc[-1]\n",
    "Transaction_Refund_SPC_corr.sort_values(ascending = False)"
   ]
  },
  {
   "attachments": {},
   "cell_type": "markdown",
   "metadata": {},
   "source": [
    "Немає корелеції між тим, що клієнту повернули гроші та тим, що він скасував підписку"
   ]
  },
  {
   "attachments": {},
   "cell_type": "markdown",
   "metadata": {},
   "source": [
    "- event_platform"
   ]
  },
  {
   "cell_type": "code",
   "execution_count": 59,
   "metadata": {},
   "outputs": [
    {
     "data": {
      "text/plain": [
       "array(['android', 'ios', 'outofband'], dtype=object)"
      ]
     },
     "execution_count": 59,
     "metadata": {},
     "output_type": "execute_result"
    }
   ],
   "source": [
    "df.event_platform.unique()"
   ]
  },
  {
   "cell_type": "code",
   "execution_count": 60,
   "metadata": {},
   "outputs": [
    {
     "data": {
      "text/plain": [
       "Subscription_Premium_Cancel    1.000000\n",
       "outofband                      0.295000\n",
       "ios                            0.106034\n",
       "android                        0.064420\n",
       "Name: Subscription_Premium_Cancel, dtype: float64"
      ]
     },
     "execution_count": 60,
     "metadata": {},
     "output_type": "execute_result"
    }
   ],
   "source": [
    "platforms=['android', 'ios', 'outofband']\n",
    "\n",
    "\n",
    "Platformss=pd.DataFrame()\n",
    "for platform in platforms:\n",
    "     Platformss[platform] = df['event_platform'].str.find(platform)\n",
    "\n",
    "\n",
    "\n",
    "Platformss = Platformss.replace(0,1) \n",
    "Platformss = Platformss.replace(-1,0) \n",
    "\n",
    "Platformss.drop_duplicates(keep='first')\n",
    "Platformss = Platformss.groupby(by=[\"userid\"]).sum()\n",
    "Platformss = Platformss.fillna(0)\n",
    "\n",
    "\n",
    "Platformss_SPC = pd.concat([Platformss, Subscription_Premium_Cancel], axis=1, join='outer')\n",
    "Platformss_SPC = Platformss_SPC.fillna(0)\n",
    "Platformss_SPC=Platformss_SPC.astype(int)\n",
    "Platformss_SPC_corr=Platformss_SPC.corr()\n",
    "Platformss_SPC_corr=Platformss_SPC_corr.iloc[-1]\n",
    "Platformss_SPC_corr.sort_values(ascending = False)"
   ]
  },
  {
   "attachments": {},
   "cell_type": "markdown",
   "metadata": {},
   "source": [
    "Найбільша кореляція до скасування підписки - коли в клієнта outofband , кореляція дорівнює 0.295000"
   ]
  },
  {
   "attachments": {},
   "cell_type": "markdown",
   "metadata": {},
   "source": [
    "Кореляція між штатом клієнта та скасуванням підписки "
   ]
  },
  {
   "cell_type": "code",
   "execution_count": 61,
   "metadata": {},
   "outputs": [
    {
     "data": {
      "text/plain": [
       "Subscription_Premium_Cancel    1.000000\n",
       "TN                             0.159586\n",
       "KS                            -0.084678\n",
       "VT                            -0.084678\n",
       "UT                            -0.084678\n",
       "NM                            -0.084678\n",
       "AL                            -0.084678\n",
       "ME                            -0.084678\n",
       "LA                            -0.084678\n",
       "KY                            -0.084678\n",
       "AK                            -0.084678\n",
       "MS                            -0.084678\n",
       "MT                            -0.084678\n",
       "WV                            -0.084678\n",
       "WI                            -0.084678\n",
       "VA                            -0.084678\n",
       "SC                            -0.084678\n",
       "PA                            -0.084678\n",
       "OR                            -0.084678\n",
       "OK                            -0.084678\n",
       "OH                            -0.084678\n",
       "NY                            -0.084678\n",
       "NV                            -0.084678\n",
       "IA                            -0.084678\n",
       "NH                            -0.084678\n",
       "NE                            -0.084678\n",
       "HI                            -0.084678\n",
       "NJ                            -0.084678\n",
       "MO                            -0.084678\n",
       "MN                            -0.084678\n",
       "ID                            -0.084678\n",
       "MI                            -0.084678\n",
       "DC                            -0.084678\n",
       "MA                            -0.084678\n",
       "DE                            -0.084678\n",
       "IN                            -0.084678\n",
       "GA                            -0.084678\n",
       "SD                            -0.084678\n",
       "AR                            -0.084678\n",
       "AZ                            -0.084678\n",
       "NC                            -0.084678\n",
       "CO                            -0.084678\n",
       "RI                            -0.084678\n",
       "CA                            -0.084678\n",
       "TX                            -0.084678\n",
       "CT                            -0.084678\n",
       "FL                            -0.084678\n",
       "MD                            -0.084678\n",
       "WA                            -0.084678\n",
       "IL                            -0.084678\n",
       "Name: Subscription_Premium_Cancel, dtype: float64"
      ]
     },
     "execution_count": 61,
     "metadata": {},
     "output_type": "execute_result"
    }
   ],
   "source": [
    "states = [ 'AK', 'AL', 'AR', 'AZ', 'CA', 'CO', 'CT', 'DC', 'DE', 'FL', 'GA',\n",
    "           'HI', 'IA', 'ID', 'IL', 'IN', 'KS', 'KY', 'LA', 'MA', 'MD', 'ME',\n",
    "           'MI', 'MN', 'MO', 'MS', 'MT', 'NC', 'NE', 'NH', 'NJ', 'NM',\n",
    "           'NV', 'NY', 'OH', 'OK', 'OR', 'PA', 'RI', 'SC', 'SD', 'TN', 'TX',\n",
    "           'UT', 'VA', 'VT', 'WA', 'WI', 'WV']\n",
    "\n",
    "\n",
    "States=pd.DataFrame()\n",
    "for state in states:\n",
    "     States[state] = df['user_state'].str.find(state)\n",
    "\n",
    "States = States.replace(0,1) \n",
    "States = States.replace(-1,0) \n",
    "\n",
    "\n",
    "States=States.drop_duplicates()\n",
    "States = States.fillna(0)\n",
    "States=States.astype(int)\n",
    "\n",
    "\n",
    "\n",
    "States_SPC = pd.concat([States, Subscription_Premium_Cancel], axis=1, join='outer')\n",
    "States_SPC = States_SPC.fillna(0)\n",
    "States_SPC=States_SPC.astype(int)\n",
    "States_SPC_corr=States_SPC.corr()\n",
    "States_SPC_corr=States_SPC_corr.iloc[-1]\n",
    "States_SPC_corr.sort_values(ascending = False)"
   ]
  },
  {
   "attachments": {},
   "cell_type": "markdown",
   "metadata": {},
   "source": [
    "Найбільша кореляція між клієнтами зі штату Tеннессі та скасуванням підписки, вона дорівнює 0.159586 ."
   ]
  },
  {
   "attachments": {},
   "cell_type": "markdown",
   "metadata": {},
   "source": [
    "- Івенти без параметрів"
   ]
  },
  {
   "attachments": {},
   "cell_type": "markdown",
   "metadata": {},
   "source": [
    "Якщо клієнт робив щось з цих івентів - то 1, якщо ні - то 0, незважаємо на параметри\n",
    "- Transaction Refund \n",
    "- Order \n",
    "- Account Setup Skip \n",
    "- Signup Success \n",
    "- Add Vehicle Success \n",
    "- Add Vehicle Break\n",
    "- Add Payment Method Sucess \n",
    "- Add Payment Method Failed\n",
    "- Email Confirmation Success\n",
    "- Chat conversation Opened\n",
    "- Sign Out \n",
    "- Account History Transaction Details\n",
    "- Wallet Opened\n",
    "- Subscription Premium \n",
    "- Subscription Premium Cancel\n",
    "- Calculator view "
   ]
  },
  {
   "cell_type": "code",
   "execution_count": 62,
   "metadata": {},
   "outputs": [],
   "source": [
    "url = 'https://github.com/Nahorskyi/hackathon_INT20H_test/blob/main/int20h-ds-test-dataset.csv?raw=true'\n",
    "df = pd.read_csv(url)\n",
    "df=df.set_index('userid')\n",
    "df.pop('event_created_date')\n",
    "df=df.drop_duplicates(keep='first')"
   ]
  },
  {
   "cell_type": "code",
   "execution_count": 63,
   "metadata": {},
   "outputs": [
    {
     "data": {
      "text/plain": [
       "1    78\n",
       "Name: Transaction_Refund, dtype: int64"
      ]
     },
     "execution_count": 63,
     "metadata": {},
     "output_type": "execute_result"
    }
   ],
   "source": [
    "Transaction_Refund = df[df['event_name'] == 'Transaction Refund'][['event_attributes']] \n",
    "Transaction_Refund.rename(columns = {'event_attributes': 'Transaction_Refund'}, inplace=True)\n",
    "Transaction_Refund=Transaction_Refund.groupby(by=[\"userid\"]).sum()\n",
    "Transaction_Refund.loc[~Transaction_Refund['Transaction_Refund'].isnull()] = 1\n",
    "Transaction_Refund.Transaction_Refund.value_counts ()"
   ]
  },
  {
   "cell_type": "code",
   "execution_count": 64,
   "metadata": {},
   "outputs": [
    {
     "data": {
      "text/plain": [
       "1    39\n",
       "Name: Order, dtype: int64"
      ]
     },
     "execution_count": 64,
     "metadata": {},
     "output_type": "execute_result"
    }
   ],
   "source": [
    "Order = df[df['event_name'] == 'Order'][['event_attributes']] \n",
    "Order.rename(columns = {'event_attributes':'Order'} , inplace = True ) \n",
    "Order=Order.groupby(by=[\"userid\"]).sum()\n",
    "Order.loc[~Order['Order'].isnull()] = 1\n",
    "Order.Order.value_counts ()"
   ]
  },
  {
   "cell_type": "code",
   "execution_count": 65,
   "metadata": {},
   "outputs": [
    {
     "data": {
      "text/plain": [
       "1    188\n",
       "Name: Account_Setup_Profile_Skip, dtype: int64"
      ]
     },
     "execution_count": 65,
     "metadata": {},
     "output_type": "execute_result"
    }
   ],
   "source": [
    "Account_Setup_Profile_Skip = df[df['event_name'] == 'Account Setup Profile Skip'][['event_attributes']] \n",
    "Account_Setup_Profile_Skip.rename(columns = {'event_attributes': 'Account_Setup_Profile_Skip'}, inplace=True)\n",
    "Account_Setup_Profile_Skip=Account_Setup_Profile_Skip.groupby(by=[\"userid\"]).sum()\n",
    "Account_Setup_Profile_Skip.loc[~Account_Setup_Profile_Skip['Account_Setup_Profile_Skip'].isnull()] = 1\n",
    "Account_Setup_Profile_Skip.Account_Setup_Profile_Skip.value_counts ()"
   ]
  },
  {
   "cell_type": "code",
   "execution_count": 66,
   "metadata": {},
   "outputs": [
    {
     "data": {
      "text/plain": [
       "1    1460\n",
       "Name: Sign_Up_Success, dtype: int64"
      ]
     },
     "execution_count": 66,
     "metadata": {},
     "output_type": "execute_result"
    }
   ],
   "source": [
    "Sign_Up_Success = df[df['event_name'] == 'Sign Up Success'][['event_attributes']] \n",
    "Sign_Up_Success.rename(columns = {'event_attributes': 'Sign_Up_Success'}, inplace=True)\n",
    "Sign_Up_Success=Sign_Up_Success.groupby(by=[\"userid\"]).sum()\n",
    "Sign_Up_Success.loc[~Sign_Up_Success['Sign_Up_Success'].isnull()] = 1\n",
    "Sign_Up_Success.Sign_Up_Success.value_counts ()"
   ]
  },
  {
   "cell_type": "code",
   "execution_count": 67,
   "metadata": {},
   "outputs": [
    {
     "data": {
      "text/plain": [
       "1    1790\n",
       "Name: Add_Vehicle_Success, dtype: int64"
      ]
     },
     "execution_count": 67,
     "metadata": {},
     "output_type": "execute_result"
    }
   ],
   "source": [
    "Add_Vehicle_Success = df[df['event_name'] == 'Add Vehicle Success'][['event_attributes']] \n",
    "Add_Vehicle_Success.rename(columns = {'event_attributes': 'Add_Vehicle_Success'}, inplace=True)\n",
    "Add_Vehicle_Success=Add_Vehicle_Success.groupby(by=[\"userid\"]).sum() \n",
    "Add_Vehicle_Success.loc[~Add_Vehicle_Success['Add_Vehicle_Success'].isnull()] = 1\n",
    "Add_Vehicle_Success.Add_Vehicle_Success.value_counts ()"
   ]
  },
  {
   "cell_type": "code",
   "execution_count": 68,
   "metadata": {},
   "outputs": [
    {
     "data": {
      "text/plain": [
       "1    211\n",
       "Name: Add_Vehicle_Break, dtype: int64"
      ]
     },
     "execution_count": 68,
     "metadata": {},
     "output_type": "execute_result"
    }
   ],
   "source": [
    "Add_Vehicle_Break  = df[df['event_name'] == 'Add Vehicle Break'][['event_attributes']] \n",
    "Add_Vehicle_Break.rename(columns = {'event_attributes': 'Add_Vehicle_Break'}, inplace=True)\n",
    "Add_Vehicle_Break=Add_Vehicle_Break.groupby(by=[\"userid\"]).sum()\n",
    "Add_Vehicle_Break.loc[~Add_Vehicle_Break['Add_Vehicle_Break'].isnull()] = 1\n",
    "Add_Vehicle_Break.Add_Vehicle_Break.value_counts ()\n",
    "# True False"
   ]
  },
  {
   "cell_type": "code",
   "execution_count": 69,
   "metadata": {},
   "outputs": [
    {
     "data": {
      "text/plain": [
       "1    709\n",
       "Name: Add_Payment_Method_Success, dtype: int64"
      ]
     },
     "execution_count": 69,
     "metadata": {},
     "output_type": "execute_result"
    }
   ],
   "source": [
    "Add_Payment_Method_Success = df[df['event_name'] == 'Add Payment Method Success'][['event_attributes']] \n",
    "Add_Payment_Method_Success.rename(columns = {'event_attributes': 'Add_Payment_Method_Success'}, inplace=True) \n",
    "Add_Payment_Method_Success=Add_Payment_Method_Success.groupby(by=[\"userid\"]).sum()\n",
    "Add_Payment_Method_Success.loc[~Add_Payment_Method_Success['Add_Payment_Method_Success'].isnull()] = 1\n",
    "Add_Payment_Method_Success.Add_Payment_Method_Success.value_counts ()"
   ]
  },
  {
   "cell_type": "code",
   "execution_count": 70,
   "metadata": {},
   "outputs": [
    {
     "data": {
      "text/plain": [
       "1    210\n",
       "Name: Add_Payment_Method_Failed, dtype: int64"
      ]
     },
     "execution_count": 70,
     "metadata": {},
     "output_type": "execute_result"
    }
   ],
   "source": [
    "Add_Payment_Method_Failed   = df[df['event_name'] == 'Add Payment Method Failed'][['event_attributes']] \n",
    "Add_Payment_Method_Failed.rename(columns = {'event_attributes': 'Add_Payment_Method_Failed'}, inplace=True)\n",
    "Add_Payment_Method_Failed =Add_Payment_Method_Failed.groupby(by=[\"userid\"]).sum()\n",
    "Add_Payment_Method_Failed.loc[~Add_Payment_Method_Failed['Add_Payment_Method_Failed'].isnull()] = 1\n",
    "Add_Payment_Method_Failed.Add_Payment_Method_Failed.value_counts ()"
   ]
  },
  {
   "cell_type": "code",
   "execution_count": 71,
   "metadata": {},
   "outputs": [
    {
     "data": {
      "text/plain": [
       "1    361\n",
       "Name: Email_Confirmation_Success, dtype: int64"
      ]
     },
     "execution_count": 71,
     "metadata": {},
     "output_type": "execute_result"
    }
   ],
   "source": [
    "Email_Confirmation_Success = df[df['event_name'] == 'Email Confirmation Success'][['event_attributes']] \n",
    "Email_Confirmation_Success.rename(columns = {'event_attributes': 'Email_Confirmation_Success'}, inplace=True)\n",
    "Email_Confirmation_Success=Email_Confirmation_Success.groupby(by=[\"userid\"]).sum()\n",
    "Email_Confirmation_Success.loc[~Email_Confirmation_Success['Email_Confirmation_Success'].isnull()] = 1\n",
    "Email_Confirmation_Success.Email_Confirmation_Success.value_counts ()"
   ]
  },
  {
   "cell_type": "code",
   "execution_count": 72,
   "metadata": {},
   "outputs": [
    {
     "data": {
      "text/plain": [
       "1    320\n",
       "Name: Chat_Conversation_Opened, dtype: int64"
      ]
     },
     "execution_count": 72,
     "metadata": {},
     "output_type": "execute_result"
    }
   ],
   "source": [
    "Chat_Conversation_Opened   = df[df['event_name'] == 'Chat Conversation Opened'][['event_attributes']] \n",
    "Chat_Conversation_Opened.rename(columns = {'event_attributes': 'Chat_Conversation_Opened'}, inplace=True) \n",
    "Chat_Conversation_Opened=Chat_Conversation_Opened.groupby(by=[\"userid\"]).sum()\n",
    "Chat_Conversation_Opened.loc[~Chat_Conversation_Opened['Chat_Conversation_Opened'].isnull()] = 1\n",
    "Chat_Conversation_Opened.Chat_Conversation_Opened.value_counts ()"
   ]
  },
  {
   "cell_type": "code",
   "execution_count": 73,
   "metadata": {},
   "outputs": [
    {
     "data": {
      "text/plain": [
       "1    228\n",
       "Name: Sign_Out, dtype: int64"
      ]
     },
     "execution_count": 73,
     "metadata": {},
     "output_type": "execute_result"
    }
   ],
   "source": [
    "Sign_Out = df[df['event_name'] == 'Sign Out'][['event_attributes']] \n",
    "Sign_Out.rename(columns = {'event_attributes': 'Sign_Out'}, inplace=True)\n",
    "Sign_Out =Sign_Out.groupby(by=[\"userid\"]).sum()\n",
    "Sign_Out .loc[~Sign_Out ['Sign_Out'].isnull()] = 1\n",
    "Sign_Out.Sign_Out .value_counts ()"
   ]
  },
  {
   "cell_type": "code",
   "execution_count": 74,
   "metadata": {},
   "outputs": [
    {
     "data": {
      "text/plain": [
       "1    319\n",
       "Name: Account_History_Transaction_Details, dtype: int64"
      ]
     },
     "execution_count": 74,
     "metadata": {},
     "output_type": "execute_result"
    }
   ],
   "source": [
    "Account_History_Transaction_Details = df[df['event_name'] == 'Account History Transaction Details'][['event_attributes']] \n",
    "Account_History_Transaction_Details.rename(columns = {'event_attributes': 'Account_History_Transaction_Details'}, inplace=True) \n",
    "Account_History_Transaction_Details=Account_History_Transaction_Details.groupby(by=[\"userid\"]).sum()\n",
    "Account_History_Transaction_Details.loc[~Account_History_Transaction_Details['Account_History_Transaction_Details'].isnull()] = 1\n",
    "Account_History_Transaction_Details.Account_History_Transaction_Details.value_counts ()"
   ]
  },
  {
   "cell_type": "code",
   "execution_count": 75,
   "metadata": {},
   "outputs": [
    {
     "data": {
      "text/plain": [
       "1    267\n",
       "Name: Wallet_Opened, dtype: int64"
      ]
     },
     "execution_count": 75,
     "metadata": {},
     "output_type": "execute_result"
    }
   ],
   "source": [
    "Wallet_Opened   = df[df['event_name'] == 'Wallet Opened'][['event_attributes']] \n",
    "Wallet_Opened.rename(columns = {'event_attributes': 'Wallet_Opened'}, inplace=True) \n",
    "Wallet_Opened=Wallet_Opened.groupby(by=[\"userid\"]).sum()\n",
    "Wallet_Opened.loc[~Wallet_Opened['Wallet_Opened'].isnull()] = 1\n",
    "Wallet_Opened.Wallet_Opened.value_counts ()\n",
    "# "
   ]
  },
  {
   "cell_type": "code",
   "execution_count": 76,
   "metadata": {},
   "outputs": [
    {
     "data": {
      "text/plain": [
       "1    356\n",
       "Name: Subscription_Premium, dtype: int64"
      ]
     },
     "execution_count": 76,
     "metadata": {},
     "output_type": "execute_result"
    }
   ],
   "source": [
    "Subscription_Premium = df[df['event_name'] == 'Subscription Premium'][['event_attributes']] \n",
    "Subscription_Premium.rename(columns = {'event_attributes': 'Subscription_Premium'}, inplace=True)\n",
    "Subscription_Premium=Subscription_Premium.groupby(by=[\"userid\"]).sum()\n",
    "Subscription_Premium.loc[~Subscription_Premium['Subscription_Premium'].isnull()] = 1\n",
    "Subscription_Premium.Subscription_Premium.value_counts ()"
   ]
  },
  {
   "cell_type": "code",
   "execution_count": 77,
   "metadata": {},
   "outputs": [
    {
     "data": {
      "text/plain": [
       "1    26\n",
       "Name: Subscription_Premium_Cancel, dtype: int64"
      ]
     },
     "execution_count": 77,
     "metadata": {},
     "output_type": "execute_result"
    }
   ],
   "source": [
    "Subscription_Premium_Cancel   = df[df['event_name'] == 'Subscription Premium Cancel'][['event_attributes']] \n",
    "Subscription_Premium_Cancel.rename(columns = {'event_attributes': 'Subscription_Premium_Cancel'}, inplace=True)\n",
    "Subscription_Premium_Cancel=Subscription_Premium_Cancel.groupby(by=[\"userid\"]).sum()\n",
    "Subscription_Premium_Cancel.loc[~Subscription_Premium_Cancel['Subscription_Premium_Cancel'].isnull()] = 1\n",
    "Subscription_Premium_Cancel.Subscription_Premium_Cancel.value_counts ()\n",
    "# True False"
   ]
  },
  {
   "cell_type": "code",
   "execution_count": 78,
   "metadata": {},
   "outputs": [
    {
     "data": {
      "text/plain": [
       "1    233\n",
       "Name: Calculator_View, dtype: int64"
      ]
     },
     "execution_count": 78,
     "metadata": {},
     "output_type": "execute_result"
    }
   ],
   "source": [
    "Calculator_View = df[df['event_name'] == 'Calculator View'][['event_attributes']] \n",
    "Calculator_View.rename(columns = {'event_attributes': 'Calculator_View'}, inplace=True)\n",
    "Calculator_View=Calculator_View.groupby(by=[\"userid\"]).sum()\n",
    "Calculator_View.loc[~Calculator_View['Calculator_View'].isnull()] = 1\n",
    "Calculator_View.Calculator_View.value_counts ()\n",
    "# True False"
   ]
  },
  {
   "cell_type": "code",
   "execution_count": 79,
   "metadata": {},
   "outputs": [
    {
     "data": {
      "text/plain": [
       "Subscription_Premium_Cancel            1.000000\n",
       "Wallet_Opened                          0.234693\n",
       "Order                                  0.179072\n",
       "Transaction_Refund                     0.164547\n",
       "Subscription_Premium                   0.141731\n",
       "Chat_Conversation_Opened               0.128915\n",
       "Account_History_Transaction_Details    0.117476\n",
       "Add_Payment_Method_Success             0.088945\n",
       "Sign_Out                               0.052705\n",
       "Calculator_View                        0.051557\n",
       "Email_Confirmation_Success             0.040324\n",
       "Add_Vehicle_Break                      0.028626\n",
       "Sign_Up_Success                        0.017651\n",
       "Account_Setup_Profile_Skip            -0.011256\n",
       "Add_Vehicle_Success                   -0.021230\n",
       "Add_Payment_Method_Failed             -0.027743\n",
       "Name: Subscription_Premium_Cancel, dtype: float64"
      ]
     },
     "execution_count": 79,
     "metadata": {},
     "output_type": "execute_result"
    }
   ],
   "source": [
    "res_int = pd.concat([Sign_Up_Success,Order, Add_Vehicle_Success,Account_History_Transaction_Details, Chat_Conversation_Opened, Wallet_Opened, Add_Payment_Method_Success, Email_Confirmation_Success, Subscription_Premium, Calculator_View, Sign_Out, Account_Setup_Profile_Skip, Add_Vehicle_Break, Add_Payment_Method_Failed,  Transaction_Refund,Subscription_Premium_Cancel], axis=1, join='outer')\n",
    "\n",
    "res_int = res_int.replace(['{}'],'1')\n",
    "res_int = res_int.fillna(0)\n",
    "\n",
    "corr_res_int=res_int.corr()\n",
    "corr_res_int=corr_res_int.iloc[-1]\n",
    "corr_res_int.sort_values(ascending = False)"
   ]
  },
  {
   "attachments": {},
   "cell_type": "markdown",
   "metadata": {},
   "source": [
    "Найбільша кореляція між Subscription_Premium_Cancel та Wallet_Opened(коли клієнт відкрив гаманець), яка становить 0.234693.\n",
    "\n",
    "Найменша колеляція між Subscription_Premium_Cancel та Add_Payment_Method_Failed, яка становить -0.027743"
   ]
  },
  {
   "attachments": {},
   "cell_type": "markdown",
   "metadata": {},
   "source": [
    "- Івенти з параметрами та характеристика клієнта"
   ]
  },
  {
   "cell_type": "code",
   "execution_count": 80,
   "metadata": {},
   "outputs": [
    {
     "data": {
      "text/plain": [
       "Subscription_Premium_Cancel    1.000000\n",
       "outofband                      0.295000\n",
       "Wallet_Opened_1                0.224346\n",
       "Order_True                     0.219163\n",
       "TN                             0.195250\n",
       "                                 ...   \n",
       "Toyota                        -0.020644\n",
       "Sign_Up_Success_Facebook      -0.023667\n",
       "Nissan                        -0.024129\n",
       "Ford                          -0.026200\n",
       "Add_Payment_Method_Failed     -0.027192\n",
       "Name: Subscription_Premium_Cancel, Length: 105, dtype: float64"
      ]
     },
     "execution_count": 80,
     "metadata": {},
     "output_type": "execute_result"
    }
   ],
   "source": [
    "res_int_par = pd.concat([Platformss, States, Sign_Up_Success_all,Order_all,Add_Vehicle_Success_all,Account_History_Transaction_Details,Chat_Conversation_Opened,Wallet_Opened_all,Add_Payment_Method_Success,Email_Confirmation_Success_all,Subscription_Premium,Calculator_View_all,Sign_Out,Account_Setup_Profile_Skip,Add_Vehicle_Break,Add_Payment_Method_Failed,Transaction_Refund,Subscription_Premium_Cancel], axis=1, join='outer')\n",
    "\n",
    "res_int_par = res_int_par.replace(['{}'],'1')\n",
    "res_int_par = res_int_par.fillna(0)\n",
    "\n",
    "\n",
    "res_int_par_corr=res_int_par.corr()\n",
    "res_int_par_corr=res_int_par_corr.iloc[-1]\n",
    "res_int_par_corr.sort_values(ascending = False)"
   ]
  },
  {
   "attachments": {},
   "cell_type": "markdown",
   "metadata": {},
   "source": [
    "Бачимо, що найбільша кореляція між скасуванням підписки та outofband (стосується платформи пристрою) становить 0.295000\n",
    "\n",
    "Найменша кореляція між скасуванням підписки та Add_Payment_Method_Failed становить -0.027743"
   ]
  }
 ],
 "metadata": {
  "kernelspec": {
   "display_name": "Python 3",
   "language": "python",
   "name": "python3"
  },
  "language_info": {
   "codemirror_mode": {
    "name": "ipython",
    "version": 3
   },
   "file_extension": ".py",
   "mimetype": "text/x-python",
   "name": "python",
   "nbconvert_exporter": "python",
   "pygments_lexer": "ipython3",
   "version": "3.11.1"
  },
  "orig_nbformat": 4,
  "vscode": {
   "interpreter": {
    "hash": "3b3b46b69f0eab1a7469be54fbee33e2fe54db998c9744086424801813318979"
   }
  }
 },
 "nbformat": 4,
 "nbformat_minor": 2
}
